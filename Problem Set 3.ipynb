{
 "cells": [
  {
   "cell_type": "markdown",
   "id": "64f07f14",
   "metadata": {},
   "source": [
    "# Question 1:\n",
    "Introduction:\n",
    "Special thanks to: https://github.com/justmarkham for sharing the dataset and \n",
    "materials.\n",
    "Occupations\n",
    "Step 1. Import the necessary libraries\n",
    "Step 2. Import the dataset from this address.\n",
    "Step 3. Assign it to a variable called users\n",
    "Step 4. Discover what is the mean age per occupation"
   ]
  },
  {
   "cell_type": "code",
   "execution_count": 1,
   "id": "48622ada",
   "metadata": {},
   "outputs": [
    {
     "data": {
      "text/plain": [
       "occupation\n",
       "administrator    38.746835\n",
       "artist           31.392857\n",
       "doctor           43.571429\n",
       "educator         42.010526\n",
       "engineer         36.388060\n",
       "entertainment    29.222222\n",
       "executive        38.718750\n",
       "healthcare       41.562500\n",
       "homemaker        32.571429\n",
       "lawyer           36.750000\n",
       "librarian        40.000000\n",
       "marketing        37.615385\n",
       "none             26.555556\n",
       "other            34.523810\n",
       "programmer       33.121212\n",
       "retired          63.071429\n",
       "salesman         35.666667\n",
       "scientist        35.548387\n",
       "student          22.081633\n",
       "technician       33.148148\n",
       "writer           36.311111\n",
       "Name: age, dtype: float64"
      ]
     },
     "execution_count": 1,
     "metadata": {},
     "output_type": "execute_result"
    }
   ],
   "source": [
    "import pandas as pd\n",
    "users = pd.read_csv(r'https://raw.githubusercontent.com/justmarkham/DAT8/master/data/u.user', sep='|')\n",
    "users.groupby('occupation').age.mean()\n"
   ]
  },
  {
   "cell_type": "markdown",
   "id": "e89a43f5",
   "metadata": {},
   "source": [
    "Step 5. Discover the Male ratio per occupation and sort it from the most to the least"
   ]
  },
  {
   "cell_type": "code",
   "execution_count": 2,
   "id": "4af55a22",
   "metadata": {},
   "outputs": [
    {
     "data": {
      "text/plain": [
       "occupation\n",
       "doctor           100.0\n",
       "engineer          97.0\n",
       "technician        96.3\n",
       "retired           92.9\n",
       "programmer        90.9\n",
       "executive         90.6\n",
       "scientist         90.3\n",
       "entertainment     88.9\n",
       "lawyer            83.3\n",
       "salesman          75.0\n",
       "educator          72.6\n",
       "student           69.4\n",
       "other             65.7\n",
       "marketing         61.5\n",
       "writer            57.8\n",
       "none              55.6\n",
       "administrator     54.4\n",
       "artist            53.6\n",
       "librarian         43.1\n",
       "healthcare        31.2\n",
       "homemaker         14.3\n",
       "Name: Male Ratio, dtype: float64"
      ]
     },
     "execution_count": 2,
     "metadata": {},
     "output_type": "execute_result"
    }
   ],
   "source": [
    "records_by_gender = users.pivot_table(index='occupation', columns='gender', aggfunc='size', fill_value=0)\n",
    "\n",
    "sums= records_by_gender[['F', 'M']].sum(axis=1)\n",
    "records_by_gender['Male Ratio'] = round(100 * records_by_gender['M'] / sums , 1)\n",
    "records_by_gender['Male Ratio'].sort_values(ascending=False)"
   ]
  },
  {
   "cell_type": "markdown",
   "id": "d5a9cb59",
   "metadata": {},
   "source": [
    "Step 6. For each occupation, calculate the minimum and maximum ages"
   ]
  },
  {
   "cell_type": "code",
   "execution_count": 3,
   "id": "5bf4b55e",
   "metadata": {},
   "outputs": [
    {
     "data": {
      "text/html": [
       "<div>\n",
       "<style scoped>\n",
       "    .dataframe tbody tr th:only-of-type {\n",
       "        vertical-align: middle;\n",
       "    }\n",
       "\n",
       "    .dataframe tbody tr th {\n",
       "        vertical-align: top;\n",
       "    }\n",
       "\n",
       "    .dataframe thead th {\n",
       "        text-align: right;\n",
       "    }\n",
       "</style>\n",
       "<table border=\"1\" class=\"dataframe\">\n",
       "  <thead>\n",
       "    <tr style=\"text-align: right;\">\n",
       "      <th></th>\n",
       "      <th>min</th>\n",
       "      <th>max</th>\n",
       "    </tr>\n",
       "    <tr>\n",
       "      <th>occupation</th>\n",
       "      <th></th>\n",
       "      <th></th>\n",
       "    </tr>\n",
       "  </thead>\n",
       "  <tbody>\n",
       "    <tr>\n",
       "      <th>administrator</th>\n",
       "      <td>21</td>\n",
       "      <td>70</td>\n",
       "    </tr>\n",
       "    <tr>\n",
       "      <th>artist</th>\n",
       "      <td>19</td>\n",
       "      <td>48</td>\n",
       "    </tr>\n",
       "    <tr>\n",
       "      <th>doctor</th>\n",
       "      <td>28</td>\n",
       "      <td>64</td>\n",
       "    </tr>\n",
       "    <tr>\n",
       "      <th>educator</th>\n",
       "      <td>23</td>\n",
       "      <td>63</td>\n",
       "    </tr>\n",
       "    <tr>\n",
       "      <th>engineer</th>\n",
       "      <td>22</td>\n",
       "      <td>70</td>\n",
       "    </tr>\n",
       "    <tr>\n",
       "      <th>entertainment</th>\n",
       "      <td>15</td>\n",
       "      <td>50</td>\n",
       "    </tr>\n",
       "    <tr>\n",
       "      <th>executive</th>\n",
       "      <td>22</td>\n",
       "      <td>69</td>\n",
       "    </tr>\n",
       "    <tr>\n",
       "      <th>healthcare</th>\n",
       "      <td>22</td>\n",
       "      <td>62</td>\n",
       "    </tr>\n",
       "    <tr>\n",
       "      <th>homemaker</th>\n",
       "      <td>20</td>\n",
       "      <td>50</td>\n",
       "    </tr>\n",
       "    <tr>\n",
       "      <th>lawyer</th>\n",
       "      <td>21</td>\n",
       "      <td>53</td>\n",
       "    </tr>\n",
       "    <tr>\n",
       "      <th>librarian</th>\n",
       "      <td>23</td>\n",
       "      <td>69</td>\n",
       "    </tr>\n",
       "    <tr>\n",
       "      <th>marketing</th>\n",
       "      <td>24</td>\n",
       "      <td>55</td>\n",
       "    </tr>\n",
       "    <tr>\n",
       "      <th>none</th>\n",
       "      <td>11</td>\n",
       "      <td>55</td>\n",
       "    </tr>\n",
       "    <tr>\n",
       "      <th>other</th>\n",
       "      <td>13</td>\n",
       "      <td>64</td>\n",
       "    </tr>\n",
       "    <tr>\n",
       "      <th>programmer</th>\n",
       "      <td>20</td>\n",
       "      <td>63</td>\n",
       "    </tr>\n",
       "    <tr>\n",
       "      <th>retired</th>\n",
       "      <td>51</td>\n",
       "      <td>73</td>\n",
       "    </tr>\n",
       "    <tr>\n",
       "      <th>salesman</th>\n",
       "      <td>18</td>\n",
       "      <td>66</td>\n",
       "    </tr>\n",
       "    <tr>\n",
       "      <th>scientist</th>\n",
       "      <td>23</td>\n",
       "      <td>55</td>\n",
       "    </tr>\n",
       "    <tr>\n",
       "      <th>student</th>\n",
       "      <td>7</td>\n",
       "      <td>42</td>\n",
       "    </tr>\n",
       "    <tr>\n",
       "      <th>technician</th>\n",
       "      <td>21</td>\n",
       "      <td>55</td>\n",
       "    </tr>\n",
       "    <tr>\n",
       "      <th>writer</th>\n",
       "      <td>18</td>\n",
       "      <td>60</td>\n",
       "    </tr>\n",
       "  </tbody>\n",
       "</table>\n",
       "</div>"
      ],
      "text/plain": [
       "               min  max\n",
       "occupation             \n",
       "administrator   21   70\n",
       "artist          19   48\n",
       "doctor          28   64\n",
       "educator        23   63\n",
       "engineer        22   70\n",
       "entertainment   15   50\n",
       "executive       22   69\n",
       "healthcare      22   62\n",
       "homemaker       20   50\n",
       "lawyer          21   53\n",
       "librarian       23   69\n",
       "marketing       24   55\n",
       "none            11   55\n",
       "other           13   64\n",
       "programmer      20   63\n",
       "retired         51   73\n",
       "salesman        18   66\n",
       "scientist       23   55\n",
       "student          7   42\n",
       "technician      21   55\n",
       "writer          18   60"
      ]
     },
     "execution_count": 3,
     "metadata": {},
     "output_type": "execute_result"
    }
   ],
   "source": [
    "users.groupby('occupation').age.agg(['min','max'])"
   ]
  },
  {
   "cell_type": "markdown",
   "id": "c67ea62c",
   "metadata": {},
   "source": [
    "Step 7. For each combination of occupation and sex, calculate the mean age\n"
   ]
  },
  {
   "cell_type": "code",
   "execution_count": 4,
   "id": "1197fd5f",
   "metadata": {},
   "outputs": [
    {
     "data": {
      "text/html": [
       "<div>\n",
       "<style scoped>\n",
       "    .dataframe tbody tr th:only-of-type {\n",
       "        vertical-align: middle;\n",
       "    }\n",
       "\n",
       "    .dataframe tbody tr th {\n",
       "        vertical-align: top;\n",
       "    }\n",
       "\n",
       "    .dataframe thead tr th {\n",
       "        text-align: left;\n",
       "    }\n",
       "\n",
       "    .dataframe thead tr:last-of-type th {\n",
       "        text-align: right;\n",
       "    }\n",
       "</style>\n",
       "<table border=\"1\" class=\"dataframe\">\n",
       "  <thead>\n",
       "    <tr>\n",
       "      <th></th>\n",
       "      <th></th>\n",
       "      <th>age</th>\n",
       "    </tr>\n",
       "    <tr>\n",
       "      <th></th>\n",
       "      <th></th>\n",
       "      <th>mean</th>\n",
       "    </tr>\n",
       "    <tr>\n",
       "      <th>occupation</th>\n",
       "      <th>gender</th>\n",
       "      <th></th>\n",
       "    </tr>\n",
       "  </thead>\n",
       "  <tbody>\n",
       "    <tr>\n",
       "      <th rowspan=\"2\" valign=\"top\">administrator</th>\n",
       "      <th>F</th>\n",
       "      <td>40.638889</td>\n",
       "    </tr>\n",
       "    <tr>\n",
       "      <th>M</th>\n",
       "      <td>37.162791</td>\n",
       "    </tr>\n",
       "    <tr>\n",
       "      <th rowspan=\"2\" valign=\"top\">artist</th>\n",
       "      <th>F</th>\n",
       "      <td>30.307692</td>\n",
       "    </tr>\n",
       "    <tr>\n",
       "      <th>M</th>\n",
       "      <td>32.333333</td>\n",
       "    </tr>\n",
       "    <tr>\n",
       "      <th>doctor</th>\n",
       "      <th>M</th>\n",
       "      <td>43.571429</td>\n",
       "    </tr>\n",
       "    <tr>\n",
       "      <th rowspan=\"2\" valign=\"top\">educator</th>\n",
       "      <th>F</th>\n",
       "      <td>39.115385</td>\n",
       "    </tr>\n",
       "    <tr>\n",
       "      <th>M</th>\n",
       "      <td>43.101449</td>\n",
       "    </tr>\n",
       "    <tr>\n",
       "      <th rowspan=\"2\" valign=\"top\">engineer</th>\n",
       "      <th>F</th>\n",
       "      <td>29.500000</td>\n",
       "    </tr>\n",
       "    <tr>\n",
       "      <th>M</th>\n",
       "      <td>36.600000</td>\n",
       "    </tr>\n",
       "    <tr>\n",
       "      <th rowspan=\"2\" valign=\"top\">entertainment</th>\n",
       "      <th>F</th>\n",
       "      <td>31.000000</td>\n",
       "    </tr>\n",
       "    <tr>\n",
       "      <th>M</th>\n",
       "      <td>29.000000</td>\n",
       "    </tr>\n",
       "    <tr>\n",
       "      <th rowspan=\"2\" valign=\"top\">executive</th>\n",
       "      <th>F</th>\n",
       "      <td>44.000000</td>\n",
       "    </tr>\n",
       "    <tr>\n",
       "      <th>M</th>\n",
       "      <td>38.172414</td>\n",
       "    </tr>\n",
       "    <tr>\n",
       "      <th rowspan=\"2\" valign=\"top\">healthcare</th>\n",
       "      <th>F</th>\n",
       "      <td>39.818182</td>\n",
       "    </tr>\n",
       "    <tr>\n",
       "      <th>M</th>\n",
       "      <td>45.400000</td>\n",
       "    </tr>\n",
       "    <tr>\n",
       "      <th rowspan=\"2\" valign=\"top\">homemaker</th>\n",
       "      <th>F</th>\n",
       "      <td>34.166667</td>\n",
       "    </tr>\n",
       "    <tr>\n",
       "      <th>M</th>\n",
       "      <td>23.000000</td>\n",
       "    </tr>\n",
       "    <tr>\n",
       "      <th rowspan=\"2\" valign=\"top\">lawyer</th>\n",
       "      <th>F</th>\n",
       "      <td>39.500000</td>\n",
       "    </tr>\n",
       "    <tr>\n",
       "      <th>M</th>\n",
       "      <td>36.200000</td>\n",
       "    </tr>\n",
       "    <tr>\n",
       "      <th rowspan=\"2\" valign=\"top\">librarian</th>\n",
       "      <th>F</th>\n",
       "      <td>40.000000</td>\n",
       "    </tr>\n",
       "    <tr>\n",
       "      <th>M</th>\n",
       "      <td>40.000000</td>\n",
       "    </tr>\n",
       "    <tr>\n",
       "      <th rowspan=\"2\" valign=\"top\">marketing</th>\n",
       "      <th>F</th>\n",
       "      <td>37.200000</td>\n",
       "    </tr>\n",
       "    <tr>\n",
       "      <th>M</th>\n",
       "      <td>37.875000</td>\n",
       "    </tr>\n",
       "    <tr>\n",
       "      <th rowspan=\"2\" valign=\"top\">none</th>\n",
       "      <th>F</th>\n",
       "      <td>36.500000</td>\n",
       "    </tr>\n",
       "    <tr>\n",
       "      <th>M</th>\n",
       "      <td>18.600000</td>\n",
       "    </tr>\n",
       "    <tr>\n",
       "      <th rowspan=\"2\" valign=\"top\">other</th>\n",
       "      <th>F</th>\n",
       "      <td>35.472222</td>\n",
       "    </tr>\n",
       "    <tr>\n",
       "      <th>M</th>\n",
       "      <td>34.028986</td>\n",
       "    </tr>\n",
       "    <tr>\n",
       "      <th rowspan=\"2\" valign=\"top\">programmer</th>\n",
       "      <th>F</th>\n",
       "      <td>32.166667</td>\n",
       "    </tr>\n",
       "    <tr>\n",
       "      <th>M</th>\n",
       "      <td>33.216667</td>\n",
       "    </tr>\n",
       "    <tr>\n",
       "      <th rowspan=\"2\" valign=\"top\">retired</th>\n",
       "      <th>F</th>\n",
       "      <td>70.000000</td>\n",
       "    </tr>\n",
       "    <tr>\n",
       "      <th>M</th>\n",
       "      <td>62.538462</td>\n",
       "    </tr>\n",
       "    <tr>\n",
       "      <th rowspan=\"2\" valign=\"top\">salesman</th>\n",
       "      <th>F</th>\n",
       "      <td>27.000000</td>\n",
       "    </tr>\n",
       "    <tr>\n",
       "      <th>M</th>\n",
       "      <td>38.555556</td>\n",
       "    </tr>\n",
       "    <tr>\n",
       "      <th rowspan=\"2\" valign=\"top\">scientist</th>\n",
       "      <th>F</th>\n",
       "      <td>28.333333</td>\n",
       "    </tr>\n",
       "    <tr>\n",
       "      <th>M</th>\n",
       "      <td>36.321429</td>\n",
       "    </tr>\n",
       "    <tr>\n",
       "      <th rowspan=\"2\" valign=\"top\">student</th>\n",
       "      <th>F</th>\n",
       "      <td>20.750000</td>\n",
       "    </tr>\n",
       "    <tr>\n",
       "      <th>M</th>\n",
       "      <td>22.669118</td>\n",
       "    </tr>\n",
       "    <tr>\n",
       "      <th rowspan=\"2\" valign=\"top\">technician</th>\n",
       "      <th>F</th>\n",
       "      <td>38.000000</td>\n",
       "    </tr>\n",
       "    <tr>\n",
       "      <th>M</th>\n",
       "      <td>32.961538</td>\n",
       "    </tr>\n",
       "    <tr>\n",
       "      <th rowspan=\"2\" valign=\"top\">writer</th>\n",
       "      <th>F</th>\n",
       "      <td>37.631579</td>\n",
       "    </tr>\n",
       "    <tr>\n",
       "      <th>M</th>\n",
       "      <td>35.346154</td>\n",
       "    </tr>\n",
       "  </tbody>\n",
       "</table>\n",
       "</div>"
      ],
      "text/plain": [
       "                            age\n",
       "                           mean\n",
       "occupation    gender           \n",
       "administrator F       40.638889\n",
       "              M       37.162791\n",
       "artist        F       30.307692\n",
       "              M       32.333333\n",
       "doctor        M       43.571429\n",
       "educator      F       39.115385\n",
       "              M       43.101449\n",
       "engineer      F       29.500000\n",
       "              M       36.600000\n",
       "entertainment F       31.000000\n",
       "              M       29.000000\n",
       "executive     F       44.000000\n",
       "              M       38.172414\n",
       "healthcare    F       39.818182\n",
       "              M       45.400000\n",
       "homemaker     F       34.166667\n",
       "              M       23.000000\n",
       "lawyer        F       39.500000\n",
       "              M       36.200000\n",
       "librarian     F       40.000000\n",
       "              M       40.000000\n",
       "marketing     F       37.200000\n",
       "              M       37.875000\n",
       "none          F       36.500000\n",
       "              M       18.600000\n",
       "other         F       35.472222\n",
       "              M       34.028986\n",
       "programmer    F       32.166667\n",
       "              M       33.216667\n",
       "retired       F       70.000000\n",
       "              M       62.538462\n",
       "salesman      F       27.000000\n",
       "              M       38.555556\n",
       "scientist     F       28.333333\n",
       "              M       36.321429\n",
       "student       F       20.750000\n",
       "              M       22.669118\n",
       "technician    F       38.000000\n",
       "              M       32.961538\n",
       "writer        F       37.631579\n",
       "              M       35.346154"
      ]
     },
     "execution_count": 4,
     "metadata": {},
     "output_type": "execute_result"
    }
   ],
   "source": [
    "users.groupby(['occupation', 'gender']).agg({'age':['mean']})"
   ]
  },
  {
   "cell_type": "markdown",
   "id": "06ef7748",
   "metadata": {},
   "source": [
    "Step 8. For each occupation present the percentage of women and men "
   ]
  },
  {
   "cell_type": "code",
   "execution_count": 5,
   "id": "0b715356",
   "metadata": {},
   "outputs": [
    {
     "data": {
      "text/plain": [
       "occupation     gender\n",
       "administrator  F          45.569620\n",
       "               M          54.430380\n",
       "artist         F          46.428571\n",
       "               M          53.571429\n",
       "doctor         M         100.000000\n",
       "educator       F          27.368421\n",
       "               M          72.631579\n",
       "engineer       F           2.985075\n",
       "               M          97.014925\n",
       "entertainment  F          11.111111\n",
       "               M          88.888889\n",
       "executive      F           9.375000\n",
       "               M          90.625000\n",
       "healthcare     F          68.750000\n",
       "               M          31.250000\n",
       "homemaker      F          85.714286\n",
       "               M          14.285714\n",
       "lawyer         F          16.666667\n",
       "               M          83.333333\n",
       "librarian      F          56.862745\n",
       "               M          43.137255\n",
       "marketing      F          38.461538\n",
       "               M          61.538462\n",
       "none           F          44.444444\n",
       "               M          55.555556\n",
       "other          F          34.285714\n",
       "               M          65.714286\n",
       "programmer     F           9.090909\n",
       "               M          90.909091\n",
       "retired        F           7.142857\n",
       "               M          92.857143\n",
       "salesman       F          25.000000\n",
       "               M          75.000000\n",
       "scientist      F           9.677419\n",
       "               M          90.322581\n",
       "student        F          30.612245\n",
       "               M          69.387755\n",
       "technician     F           3.703704\n",
       "               M          96.296296\n",
       "writer         F          42.222222\n",
       "               M          57.777778\n",
       "Name: gender, dtype: float64"
      ]
     },
     "execution_count": 5,
     "metadata": {},
     "output_type": "execute_result"
    }
   ],
   "source": [
    "usercount=users.groupby(['occupation','gender'])['gender'].count()\n",
    "totalCount=users.groupby(['occupation'])['gender'].count()\n",
    "gender_percent=((usercount/totalCount)*100)\n",
    "gender_percent"
   ]
  },
  {
   "cell_type": "markdown",
   "id": "36730764",
   "metadata": {},
   "source": [
    "# Question 2\n",
    "Euro Teams\n",
    "Step 1. Import the necessary libraries\n",
    "Step 2. Import the dataset from this address\n",
    "Step 3. Assign it to a variable called euro12\n",
    "Step 4. Select only the Goal column"
   ]
  },
  {
   "cell_type": "code",
   "execution_count": 6,
   "id": "dfec9d8b",
   "metadata": {},
   "outputs": [
    {
     "data": {
      "text/plain": [
       "0      4\n",
       "1      4\n",
       "2      4\n",
       "3      5\n",
       "4      3\n",
       "5     10\n",
       "6      5\n",
       "7      6\n",
       "8      2\n",
       "9      2\n",
       "10     6\n",
       "11     1\n",
       "12     5\n",
       "13    12\n",
       "14     5\n",
       "15     2\n",
       "Name: Goals, dtype: int64"
      ]
     },
     "execution_count": 6,
     "metadata": {},
     "output_type": "execute_result"
    }
   ],
   "source": [
    "import pandas as pd\n",
    "euro12=pd.read_csv(r'https://raw.githubusercontent.com/guipsamora/pandas_exercises/master/02_Filtering_%26_Sorting/Euro12/Euro_2012_stats_TEAM.csv')\n",
    "euro12['Goals']"
   ]
  },
  {
   "cell_type": "markdown",
   "id": "de7f1458",
   "metadata": {},
   "source": [
    "Step 5 : How many team participated in the Euro2012?"
   ]
  },
  {
   "cell_type": "code",
   "execution_count": 7,
   "id": "2246359c",
   "metadata": {},
   "outputs": [
    {
     "data": {
      "text/plain": [
       "16"
      ]
     },
     "execution_count": 7,
     "metadata": {},
     "output_type": "execute_result"
    }
   ],
   "source": [
    "euro12.shape[0]"
   ]
  },
  {
   "cell_type": "markdown",
   "id": "3ccb5c85",
   "metadata": {},
   "source": [
    "Step 6. What is the number of columns in the dataset?"
   ]
  },
  {
   "cell_type": "code",
   "execution_count": 8,
   "id": "09482a67",
   "metadata": {},
   "outputs": [
    {
     "data": {
      "text/plain": [
       "35"
      ]
     },
     "execution_count": 8,
     "metadata": {},
     "output_type": "execute_result"
    }
   ],
   "source": [
    "euro12.shape[1]"
   ]
  },
  {
   "cell_type": "markdown",
   "id": "810fc8c3",
   "metadata": {},
   "source": [
    "Step 7. View only the columns Team, Yellow Cards and Red Cards and assign them\n",
    "to a dataframe called discipline"
   ]
  },
  {
   "cell_type": "code",
   "execution_count": 9,
   "id": "b57fe357",
   "metadata": {},
   "outputs": [
    {
     "data": {
      "text/html": [
       "<div>\n",
       "<style scoped>\n",
       "    .dataframe tbody tr th:only-of-type {\n",
       "        vertical-align: middle;\n",
       "    }\n",
       "\n",
       "    .dataframe tbody tr th {\n",
       "        vertical-align: top;\n",
       "    }\n",
       "\n",
       "    .dataframe thead th {\n",
       "        text-align: right;\n",
       "    }\n",
       "</style>\n",
       "<table border=\"1\" class=\"dataframe\">\n",
       "  <thead>\n",
       "    <tr style=\"text-align: right;\">\n",
       "      <th></th>\n",
       "      <th>Team</th>\n",
       "      <th>Red Cards</th>\n",
       "      <th>Yellow Cards</th>\n",
       "    </tr>\n",
       "  </thead>\n",
       "  <tbody>\n",
       "    <tr>\n",
       "      <th>0</th>\n",
       "      <td>Croatia</td>\n",
       "      <td>0</td>\n",
       "      <td>9</td>\n",
       "    </tr>\n",
       "    <tr>\n",
       "      <th>1</th>\n",
       "      <td>Czech Republic</td>\n",
       "      <td>0</td>\n",
       "      <td>7</td>\n",
       "    </tr>\n",
       "    <tr>\n",
       "      <th>2</th>\n",
       "      <td>Denmark</td>\n",
       "      <td>0</td>\n",
       "      <td>4</td>\n",
       "    </tr>\n",
       "    <tr>\n",
       "      <th>3</th>\n",
       "      <td>England</td>\n",
       "      <td>0</td>\n",
       "      <td>5</td>\n",
       "    </tr>\n",
       "    <tr>\n",
       "      <th>4</th>\n",
       "      <td>France</td>\n",
       "      <td>0</td>\n",
       "      <td>6</td>\n",
       "    </tr>\n",
       "    <tr>\n",
       "      <th>5</th>\n",
       "      <td>Germany</td>\n",
       "      <td>0</td>\n",
       "      <td>4</td>\n",
       "    </tr>\n",
       "    <tr>\n",
       "      <th>6</th>\n",
       "      <td>Greece</td>\n",
       "      <td>1</td>\n",
       "      <td>9</td>\n",
       "    </tr>\n",
       "    <tr>\n",
       "      <th>7</th>\n",
       "      <td>Italy</td>\n",
       "      <td>0</td>\n",
       "      <td>16</td>\n",
       "    </tr>\n",
       "    <tr>\n",
       "      <th>8</th>\n",
       "      <td>Netherlands</td>\n",
       "      <td>0</td>\n",
       "      <td>5</td>\n",
       "    </tr>\n",
       "    <tr>\n",
       "      <th>9</th>\n",
       "      <td>Poland</td>\n",
       "      <td>1</td>\n",
       "      <td>7</td>\n",
       "    </tr>\n",
       "    <tr>\n",
       "      <th>10</th>\n",
       "      <td>Portugal</td>\n",
       "      <td>0</td>\n",
       "      <td>12</td>\n",
       "    </tr>\n",
       "    <tr>\n",
       "      <th>11</th>\n",
       "      <td>Republic of Ireland</td>\n",
       "      <td>1</td>\n",
       "      <td>6</td>\n",
       "    </tr>\n",
       "    <tr>\n",
       "      <th>12</th>\n",
       "      <td>Russia</td>\n",
       "      <td>0</td>\n",
       "      <td>6</td>\n",
       "    </tr>\n",
       "    <tr>\n",
       "      <th>13</th>\n",
       "      <td>Spain</td>\n",
       "      <td>0</td>\n",
       "      <td>11</td>\n",
       "    </tr>\n",
       "    <tr>\n",
       "      <th>14</th>\n",
       "      <td>Sweden</td>\n",
       "      <td>0</td>\n",
       "      <td>7</td>\n",
       "    </tr>\n",
       "    <tr>\n",
       "      <th>15</th>\n",
       "      <td>Ukraine</td>\n",
       "      <td>0</td>\n",
       "      <td>5</td>\n",
       "    </tr>\n",
       "  </tbody>\n",
       "</table>\n",
       "</div>"
      ],
      "text/plain": [
       "                   Team  Red Cards  Yellow Cards\n",
       "0               Croatia          0             9\n",
       "1        Czech Republic          0             7\n",
       "2               Denmark          0             4\n",
       "3               England          0             5\n",
       "4                France          0             6\n",
       "5               Germany          0             4\n",
       "6                Greece          1             9\n",
       "7                 Italy          0            16\n",
       "8           Netherlands          0             5\n",
       "9                Poland          1             7\n",
       "10             Portugal          0            12\n",
       "11  Republic of Ireland          1             6\n",
       "12               Russia          0             6\n",
       "13                Spain          0            11\n",
       "14               Sweden          0             7\n",
       "15              Ukraine          0             5"
      ]
     },
     "execution_count": 9,
     "metadata": {},
     "output_type": "execute_result"
    }
   ],
   "source": [
    "Discipline=euro12[{'Team','Yellow Cards','Red Cards'}]\n",
    "Discipline"
   ]
  },
  {
   "cell_type": "markdown",
   "id": "c5bd02cc",
   "metadata": {},
   "source": [
    "Step 8. Sort the teams by Red Cards, then to Yellow Cards"
   ]
  },
  {
   "cell_type": "code",
   "execution_count": 10,
   "id": "c23b2201",
   "metadata": {},
   "outputs": [
    {
     "data": {
      "text/html": [
       "<div>\n",
       "<style scoped>\n",
       "    .dataframe tbody tr th:only-of-type {\n",
       "        vertical-align: middle;\n",
       "    }\n",
       "\n",
       "    .dataframe tbody tr th {\n",
       "        vertical-align: top;\n",
       "    }\n",
       "\n",
       "    .dataframe thead th {\n",
       "        text-align: right;\n",
       "    }\n",
       "</style>\n",
       "<table border=\"1\" class=\"dataframe\">\n",
       "  <thead>\n",
       "    <tr style=\"text-align: right;\">\n",
       "      <th></th>\n",
       "      <th>Team</th>\n",
       "      <th>Red Cards</th>\n",
       "      <th>Yellow Cards</th>\n",
       "    </tr>\n",
       "  </thead>\n",
       "  <tbody>\n",
       "    <tr>\n",
       "      <th>2</th>\n",
       "      <td>Denmark</td>\n",
       "      <td>0</td>\n",
       "      <td>4</td>\n",
       "    </tr>\n",
       "    <tr>\n",
       "      <th>5</th>\n",
       "      <td>Germany</td>\n",
       "      <td>0</td>\n",
       "      <td>4</td>\n",
       "    </tr>\n",
       "    <tr>\n",
       "      <th>3</th>\n",
       "      <td>England</td>\n",
       "      <td>0</td>\n",
       "      <td>5</td>\n",
       "    </tr>\n",
       "    <tr>\n",
       "      <th>8</th>\n",
       "      <td>Netherlands</td>\n",
       "      <td>0</td>\n",
       "      <td>5</td>\n",
       "    </tr>\n",
       "    <tr>\n",
       "      <th>15</th>\n",
       "      <td>Ukraine</td>\n",
       "      <td>0</td>\n",
       "      <td>5</td>\n",
       "    </tr>\n",
       "    <tr>\n",
       "      <th>4</th>\n",
       "      <td>France</td>\n",
       "      <td>0</td>\n",
       "      <td>6</td>\n",
       "    </tr>\n",
       "    <tr>\n",
       "      <th>12</th>\n",
       "      <td>Russia</td>\n",
       "      <td>0</td>\n",
       "      <td>6</td>\n",
       "    </tr>\n",
       "    <tr>\n",
       "      <th>1</th>\n",
       "      <td>Czech Republic</td>\n",
       "      <td>0</td>\n",
       "      <td>7</td>\n",
       "    </tr>\n",
       "    <tr>\n",
       "      <th>14</th>\n",
       "      <td>Sweden</td>\n",
       "      <td>0</td>\n",
       "      <td>7</td>\n",
       "    </tr>\n",
       "    <tr>\n",
       "      <th>0</th>\n",
       "      <td>Croatia</td>\n",
       "      <td>0</td>\n",
       "      <td>9</td>\n",
       "    </tr>\n",
       "    <tr>\n",
       "      <th>13</th>\n",
       "      <td>Spain</td>\n",
       "      <td>0</td>\n",
       "      <td>11</td>\n",
       "    </tr>\n",
       "    <tr>\n",
       "      <th>10</th>\n",
       "      <td>Portugal</td>\n",
       "      <td>0</td>\n",
       "      <td>12</td>\n",
       "    </tr>\n",
       "    <tr>\n",
       "      <th>7</th>\n",
       "      <td>Italy</td>\n",
       "      <td>0</td>\n",
       "      <td>16</td>\n",
       "    </tr>\n",
       "    <tr>\n",
       "      <th>11</th>\n",
       "      <td>Republic of Ireland</td>\n",
       "      <td>1</td>\n",
       "      <td>6</td>\n",
       "    </tr>\n",
       "    <tr>\n",
       "      <th>9</th>\n",
       "      <td>Poland</td>\n",
       "      <td>1</td>\n",
       "      <td>7</td>\n",
       "    </tr>\n",
       "    <tr>\n",
       "      <th>6</th>\n",
       "      <td>Greece</td>\n",
       "      <td>1</td>\n",
       "      <td>9</td>\n",
       "    </tr>\n",
       "  </tbody>\n",
       "</table>\n",
       "</div>"
      ],
      "text/plain": [
       "                   Team  Red Cards  Yellow Cards\n",
       "2               Denmark          0             4\n",
       "5               Germany          0             4\n",
       "3               England          0             5\n",
       "8           Netherlands          0             5\n",
       "15              Ukraine          0             5\n",
       "4                France          0             6\n",
       "12               Russia          0             6\n",
       "1        Czech Republic          0             7\n",
       "14               Sweden          0             7\n",
       "0               Croatia          0             9\n",
       "13                Spain          0            11\n",
       "10             Portugal          0            12\n",
       "7                 Italy          0            16\n",
       "11  Republic of Ireland          1             6\n",
       "9                Poland          1             7\n",
       "6                Greece          1             9"
      ]
     },
     "execution_count": 10,
     "metadata": {},
     "output_type": "execute_result"
    }
   ],
   "source": [
    "Discipline.sort_values(by=['Red Cards','Yellow Cards'])"
   ]
  },
  {
   "cell_type": "markdown",
   "id": "3bcca390",
   "metadata": {},
   "source": [
    "Step 9. Calculate the mean Yellow Cards given per Team"
   ]
  },
  {
   "cell_type": "code",
   "execution_count": 11,
   "id": "230bf440",
   "metadata": {},
   "outputs": [
    {
     "data": {
      "text/html": [
       "<div>\n",
       "<style scoped>\n",
       "    .dataframe tbody tr th:only-of-type {\n",
       "        vertical-align: middle;\n",
       "    }\n",
       "\n",
       "    .dataframe tbody tr th {\n",
       "        vertical-align: top;\n",
       "    }\n",
       "\n",
       "    .dataframe thead tr th {\n",
       "        text-align: left;\n",
       "    }\n",
       "\n",
       "    .dataframe thead tr:last-of-type th {\n",
       "        text-align: right;\n",
       "    }\n",
       "</style>\n",
       "<table border=\"1\" class=\"dataframe\">\n",
       "  <thead>\n",
       "    <tr>\n",
       "      <th></th>\n",
       "      <th>Yellow Cards</th>\n",
       "    </tr>\n",
       "    <tr>\n",
       "      <th></th>\n",
       "      <th>mean</th>\n",
       "    </tr>\n",
       "    <tr>\n",
       "      <th>Team</th>\n",
       "      <th></th>\n",
       "    </tr>\n",
       "  </thead>\n",
       "  <tbody>\n",
       "    <tr>\n",
       "      <th>Croatia</th>\n",
       "      <td>9.0</td>\n",
       "    </tr>\n",
       "    <tr>\n",
       "      <th>Czech Republic</th>\n",
       "      <td>7.0</td>\n",
       "    </tr>\n",
       "    <tr>\n",
       "      <th>Denmark</th>\n",
       "      <td>4.0</td>\n",
       "    </tr>\n",
       "    <tr>\n",
       "      <th>England</th>\n",
       "      <td>5.0</td>\n",
       "    </tr>\n",
       "    <tr>\n",
       "      <th>France</th>\n",
       "      <td>6.0</td>\n",
       "    </tr>\n",
       "    <tr>\n",
       "      <th>Germany</th>\n",
       "      <td>4.0</td>\n",
       "    </tr>\n",
       "    <tr>\n",
       "      <th>Greece</th>\n",
       "      <td>9.0</td>\n",
       "    </tr>\n",
       "    <tr>\n",
       "      <th>Italy</th>\n",
       "      <td>16.0</td>\n",
       "    </tr>\n",
       "    <tr>\n",
       "      <th>Netherlands</th>\n",
       "      <td>5.0</td>\n",
       "    </tr>\n",
       "    <tr>\n",
       "      <th>Poland</th>\n",
       "      <td>7.0</td>\n",
       "    </tr>\n",
       "    <tr>\n",
       "      <th>Portugal</th>\n",
       "      <td>12.0</td>\n",
       "    </tr>\n",
       "    <tr>\n",
       "      <th>Republic of Ireland</th>\n",
       "      <td>6.0</td>\n",
       "    </tr>\n",
       "    <tr>\n",
       "      <th>Russia</th>\n",
       "      <td>6.0</td>\n",
       "    </tr>\n",
       "    <tr>\n",
       "      <th>Spain</th>\n",
       "      <td>11.0</td>\n",
       "    </tr>\n",
       "    <tr>\n",
       "      <th>Sweden</th>\n",
       "      <td>7.0</td>\n",
       "    </tr>\n",
       "    <tr>\n",
       "      <th>Ukraine</th>\n",
       "      <td>5.0</td>\n",
       "    </tr>\n",
       "  </tbody>\n",
       "</table>\n",
       "</div>"
      ],
      "text/plain": [
       "                    Yellow Cards\n",
       "                            mean\n",
       "Team                            \n",
       "Croatia                      9.0\n",
       "Czech Republic               7.0\n",
       "Denmark                      4.0\n",
       "England                      5.0\n",
       "France                       6.0\n",
       "Germany                      4.0\n",
       "Greece                       9.0\n",
       "Italy                       16.0\n",
       "Netherlands                  5.0\n",
       "Poland                       7.0\n",
       "Portugal                    12.0\n",
       "Republic of Ireland          6.0\n",
       "Russia                       6.0\n",
       "Spain                       11.0\n",
       "Sweden                       7.0\n",
       "Ukraine                      5.0"
      ]
     },
     "execution_count": 11,
     "metadata": {},
     "output_type": "execute_result"
    }
   ],
   "source": [
    "Discipline.groupby(['Team']).agg({'Yellow Cards':['mean']})"
   ]
  },
  {
   "cell_type": "markdown",
   "id": "cf823a17",
   "metadata": {},
   "source": [
    "Step 10. Filter teams that scored more than 6 goals"
   ]
  },
  {
   "cell_type": "code",
   "execution_count": 12,
   "id": "819b68f0",
   "metadata": {},
   "outputs": [
    {
     "data": {
      "text/html": [
       "<div>\n",
       "<style scoped>\n",
       "    .dataframe tbody tr th:only-of-type {\n",
       "        vertical-align: middle;\n",
       "    }\n",
       "\n",
       "    .dataframe tbody tr th {\n",
       "        vertical-align: top;\n",
       "    }\n",
       "\n",
       "    .dataframe thead th {\n",
       "        text-align: right;\n",
       "    }\n",
       "</style>\n",
       "<table border=\"1\" class=\"dataframe\">\n",
       "  <thead>\n",
       "    <tr style=\"text-align: right;\">\n",
       "      <th></th>\n",
       "      <th>Team</th>\n",
       "      <th>Goals</th>\n",
       "      <th>Shots on target</th>\n",
       "      <th>Shots off target</th>\n",
       "      <th>Shooting Accuracy</th>\n",
       "      <th>% Goals-to-shots</th>\n",
       "      <th>Total shots (inc. Blocked)</th>\n",
       "      <th>Hit Woodwork</th>\n",
       "      <th>Penalty goals</th>\n",
       "      <th>Penalties not scored</th>\n",
       "      <th>...</th>\n",
       "      <th>Saves made</th>\n",
       "      <th>Saves-to-shots ratio</th>\n",
       "      <th>Fouls Won</th>\n",
       "      <th>Fouls Conceded</th>\n",
       "      <th>Offsides</th>\n",
       "      <th>Yellow Cards</th>\n",
       "      <th>Red Cards</th>\n",
       "      <th>Subs on</th>\n",
       "      <th>Subs off</th>\n",
       "      <th>Players Used</th>\n",
       "    </tr>\n",
       "  </thead>\n",
       "  <tbody>\n",
       "    <tr>\n",
       "      <th>5</th>\n",
       "      <td>Germany</td>\n",
       "      <td>10</td>\n",
       "      <td>32</td>\n",
       "      <td>32</td>\n",
       "      <td>47.8%</td>\n",
       "      <td>15.6%</td>\n",
       "      <td>80</td>\n",
       "      <td>2</td>\n",
       "      <td>1</td>\n",
       "      <td>0</td>\n",
       "      <td>...</td>\n",
       "      <td>10</td>\n",
       "      <td>62.6%</td>\n",
       "      <td>63</td>\n",
       "      <td>49</td>\n",
       "      <td>12</td>\n",
       "      <td>4</td>\n",
       "      <td>0</td>\n",
       "      <td>15</td>\n",
       "      <td>15</td>\n",
       "      <td>17</td>\n",
       "    </tr>\n",
       "    <tr>\n",
       "      <th>13</th>\n",
       "      <td>Spain</td>\n",
       "      <td>12</td>\n",
       "      <td>42</td>\n",
       "      <td>33</td>\n",
       "      <td>55.9%</td>\n",
       "      <td>16.0%</td>\n",
       "      <td>100</td>\n",
       "      <td>0</td>\n",
       "      <td>1</td>\n",
       "      <td>0</td>\n",
       "      <td>...</td>\n",
       "      <td>15</td>\n",
       "      <td>93.8%</td>\n",
       "      <td>102</td>\n",
       "      <td>83</td>\n",
       "      <td>19</td>\n",
       "      <td>11</td>\n",
       "      <td>0</td>\n",
       "      <td>17</td>\n",
       "      <td>17</td>\n",
       "      <td>18</td>\n",
       "    </tr>\n",
       "  </tbody>\n",
       "</table>\n",
       "<p>2 rows × 35 columns</p>\n",
       "</div>"
      ],
      "text/plain": [
       "       Team  Goals  Shots on target  Shots off target Shooting Accuracy  \\\n",
       "5   Germany     10               32                32             47.8%   \n",
       "13    Spain     12               42                33             55.9%   \n",
       "\n",
       "   % Goals-to-shots  Total shots (inc. Blocked)  Hit Woodwork  Penalty goals  \\\n",
       "5             15.6%                          80             2              1   \n",
       "13            16.0%                         100             0              1   \n",
       "\n",
       "    Penalties not scored  ...  Saves made  Saves-to-shots ratio  Fouls Won  \\\n",
       "5                      0  ...          10                 62.6%         63   \n",
       "13                     0  ...          15                 93.8%        102   \n",
       "\n",
       "   Fouls Conceded  Offsides  Yellow Cards  Red Cards  Subs on  Subs off  \\\n",
       "5              49        12             4          0       15        15   \n",
       "13             83        19            11          0       17        17   \n",
       "\n",
       "    Players Used  \n",
       "5             17  \n",
       "13            18  \n",
       "\n",
       "[2 rows x 35 columns]"
      ]
     },
     "execution_count": 12,
     "metadata": {},
     "output_type": "execute_result"
    }
   ],
   "source": [
    "euro12[euro12['Goals'] > 6]"
   ]
  },
  {
   "cell_type": "markdown",
   "id": "39b1535f",
   "metadata": {},
   "source": [
    "Step 11. Select the teams that start with G"
   ]
  },
  {
   "cell_type": "code",
   "execution_count": 13,
   "id": "f5749e55",
   "metadata": {},
   "outputs": [
    {
     "data": {
      "text/html": [
       "<div>\n",
       "<style scoped>\n",
       "    .dataframe tbody tr th:only-of-type {\n",
       "        vertical-align: middle;\n",
       "    }\n",
       "\n",
       "    .dataframe tbody tr th {\n",
       "        vertical-align: top;\n",
       "    }\n",
       "\n",
       "    .dataframe thead th {\n",
       "        text-align: right;\n",
       "    }\n",
       "</style>\n",
       "<table border=\"1\" class=\"dataframe\">\n",
       "  <thead>\n",
       "    <tr style=\"text-align: right;\">\n",
       "      <th></th>\n",
       "      <th>Team</th>\n",
       "      <th>Goals</th>\n",
       "      <th>Shots on target</th>\n",
       "      <th>Shots off target</th>\n",
       "      <th>Shooting Accuracy</th>\n",
       "      <th>% Goals-to-shots</th>\n",
       "      <th>Total shots (inc. Blocked)</th>\n",
       "      <th>Hit Woodwork</th>\n",
       "      <th>Penalty goals</th>\n",
       "      <th>Penalties not scored</th>\n",
       "      <th>...</th>\n",
       "      <th>Saves made</th>\n",
       "      <th>Saves-to-shots ratio</th>\n",
       "      <th>Fouls Won</th>\n",
       "      <th>Fouls Conceded</th>\n",
       "      <th>Offsides</th>\n",
       "      <th>Yellow Cards</th>\n",
       "      <th>Red Cards</th>\n",
       "      <th>Subs on</th>\n",
       "      <th>Subs off</th>\n",
       "      <th>Players Used</th>\n",
       "    </tr>\n",
       "  </thead>\n",
       "  <tbody>\n",
       "    <tr>\n",
       "      <th>5</th>\n",
       "      <td>Germany</td>\n",
       "      <td>10</td>\n",
       "      <td>32</td>\n",
       "      <td>32</td>\n",
       "      <td>47.8%</td>\n",
       "      <td>15.6%</td>\n",
       "      <td>80</td>\n",
       "      <td>2</td>\n",
       "      <td>1</td>\n",
       "      <td>0</td>\n",
       "      <td>...</td>\n",
       "      <td>10</td>\n",
       "      <td>62.6%</td>\n",
       "      <td>63</td>\n",
       "      <td>49</td>\n",
       "      <td>12</td>\n",
       "      <td>4</td>\n",
       "      <td>0</td>\n",
       "      <td>15</td>\n",
       "      <td>15</td>\n",
       "      <td>17</td>\n",
       "    </tr>\n",
       "    <tr>\n",
       "      <th>6</th>\n",
       "      <td>Greece</td>\n",
       "      <td>5</td>\n",
       "      <td>8</td>\n",
       "      <td>18</td>\n",
       "      <td>30.7%</td>\n",
       "      <td>19.2%</td>\n",
       "      <td>32</td>\n",
       "      <td>1</td>\n",
       "      <td>1</td>\n",
       "      <td>1</td>\n",
       "      <td>...</td>\n",
       "      <td>13</td>\n",
       "      <td>65.1%</td>\n",
       "      <td>67</td>\n",
       "      <td>48</td>\n",
       "      <td>12</td>\n",
       "      <td>9</td>\n",
       "      <td>1</td>\n",
       "      <td>12</td>\n",
       "      <td>12</td>\n",
       "      <td>20</td>\n",
       "    </tr>\n",
       "  </tbody>\n",
       "</table>\n",
       "<p>2 rows × 35 columns</p>\n",
       "</div>"
      ],
      "text/plain": [
       "      Team  Goals  Shots on target  Shots off target Shooting Accuracy  \\\n",
       "5  Germany     10               32                32             47.8%   \n",
       "6   Greece      5                8                18             30.7%   \n",
       "\n",
       "  % Goals-to-shots  Total shots (inc. Blocked)  Hit Woodwork  Penalty goals  \\\n",
       "5            15.6%                          80             2              1   \n",
       "6            19.2%                          32             1              1   \n",
       "\n",
       "   Penalties not scored  ...  Saves made  Saves-to-shots ratio  Fouls Won  \\\n",
       "5                     0  ...          10                 62.6%         63   \n",
       "6                     1  ...          13                 65.1%         67   \n",
       "\n",
       "  Fouls Conceded  Offsides  Yellow Cards  Red Cards  Subs on  Subs off  \\\n",
       "5             49        12             4          0       15        15   \n",
       "6             48        12             9          1       12        12   \n",
       "\n",
       "   Players Used  \n",
       "5            17  \n",
       "6            20  \n",
       "\n",
       "[2 rows x 35 columns]"
      ]
     },
     "execution_count": 13,
     "metadata": {},
     "output_type": "execute_result"
    }
   ],
   "source": [
    "euro12[euro12['Team'].str[0] == 'G']"
   ]
  },
  {
   "cell_type": "markdown",
   "id": "3b37ef16",
   "metadata": {},
   "source": [
    "Step 12. Select the first 7 columns"
   ]
  },
  {
   "cell_type": "code",
   "execution_count": 14,
   "id": "d808057d",
   "metadata": {},
   "outputs": [
    {
     "data": {
      "text/html": [
       "<div>\n",
       "<style scoped>\n",
       "    .dataframe tbody tr th:only-of-type {\n",
       "        vertical-align: middle;\n",
       "    }\n",
       "\n",
       "    .dataframe tbody tr th {\n",
       "        vertical-align: top;\n",
       "    }\n",
       "\n",
       "    .dataframe thead th {\n",
       "        text-align: right;\n",
       "    }\n",
       "</style>\n",
       "<table border=\"1\" class=\"dataframe\">\n",
       "  <thead>\n",
       "    <tr style=\"text-align: right;\">\n",
       "      <th></th>\n",
       "      <th>Team</th>\n",
       "      <th>Goals</th>\n",
       "      <th>Shots on target</th>\n",
       "      <th>Shots off target</th>\n",
       "      <th>Shooting Accuracy</th>\n",
       "      <th>% Goals-to-shots</th>\n",
       "      <th>Total shots (inc. Blocked)</th>\n",
       "    </tr>\n",
       "  </thead>\n",
       "  <tbody>\n",
       "    <tr>\n",
       "      <th>0</th>\n",
       "      <td>Croatia</td>\n",
       "      <td>4</td>\n",
       "      <td>13</td>\n",
       "      <td>12</td>\n",
       "      <td>51.9%</td>\n",
       "      <td>16.0%</td>\n",
       "      <td>32</td>\n",
       "    </tr>\n",
       "    <tr>\n",
       "      <th>1</th>\n",
       "      <td>Czech Republic</td>\n",
       "      <td>4</td>\n",
       "      <td>13</td>\n",
       "      <td>18</td>\n",
       "      <td>41.9%</td>\n",
       "      <td>12.9%</td>\n",
       "      <td>39</td>\n",
       "    </tr>\n",
       "    <tr>\n",
       "      <th>2</th>\n",
       "      <td>Denmark</td>\n",
       "      <td>4</td>\n",
       "      <td>10</td>\n",
       "      <td>10</td>\n",
       "      <td>50.0%</td>\n",
       "      <td>20.0%</td>\n",
       "      <td>27</td>\n",
       "    </tr>\n",
       "    <tr>\n",
       "      <th>3</th>\n",
       "      <td>England</td>\n",
       "      <td>5</td>\n",
       "      <td>11</td>\n",
       "      <td>18</td>\n",
       "      <td>50.0%</td>\n",
       "      <td>17.2%</td>\n",
       "      <td>40</td>\n",
       "    </tr>\n",
       "    <tr>\n",
       "      <th>4</th>\n",
       "      <td>France</td>\n",
       "      <td>3</td>\n",
       "      <td>22</td>\n",
       "      <td>24</td>\n",
       "      <td>37.9%</td>\n",
       "      <td>6.5%</td>\n",
       "      <td>65</td>\n",
       "    </tr>\n",
       "    <tr>\n",
       "      <th>5</th>\n",
       "      <td>Germany</td>\n",
       "      <td>10</td>\n",
       "      <td>32</td>\n",
       "      <td>32</td>\n",
       "      <td>47.8%</td>\n",
       "      <td>15.6%</td>\n",
       "      <td>80</td>\n",
       "    </tr>\n",
       "    <tr>\n",
       "      <th>6</th>\n",
       "      <td>Greece</td>\n",
       "      <td>5</td>\n",
       "      <td>8</td>\n",
       "      <td>18</td>\n",
       "      <td>30.7%</td>\n",
       "      <td>19.2%</td>\n",
       "      <td>32</td>\n",
       "    </tr>\n",
       "    <tr>\n",
       "      <th>7</th>\n",
       "      <td>Italy</td>\n",
       "      <td>6</td>\n",
       "      <td>34</td>\n",
       "      <td>45</td>\n",
       "      <td>43.0%</td>\n",
       "      <td>7.5%</td>\n",
       "      <td>110</td>\n",
       "    </tr>\n",
       "    <tr>\n",
       "      <th>8</th>\n",
       "      <td>Netherlands</td>\n",
       "      <td>2</td>\n",
       "      <td>12</td>\n",
       "      <td>36</td>\n",
       "      <td>25.0%</td>\n",
       "      <td>4.1%</td>\n",
       "      <td>60</td>\n",
       "    </tr>\n",
       "    <tr>\n",
       "      <th>9</th>\n",
       "      <td>Poland</td>\n",
       "      <td>2</td>\n",
       "      <td>15</td>\n",
       "      <td>23</td>\n",
       "      <td>39.4%</td>\n",
       "      <td>5.2%</td>\n",
       "      <td>48</td>\n",
       "    </tr>\n",
       "    <tr>\n",
       "      <th>10</th>\n",
       "      <td>Portugal</td>\n",
       "      <td>6</td>\n",
       "      <td>22</td>\n",
       "      <td>42</td>\n",
       "      <td>34.3%</td>\n",
       "      <td>9.3%</td>\n",
       "      <td>82</td>\n",
       "    </tr>\n",
       "    <tr>\n",
       "      <th>11</th>\n",
       "      <td>Republic of Ireland</td>\n",
       "      <td>1</td>\n",
       "      <td>7</td>\n",
       "      <td>12</td>\n",
       "      <td>36.8%</td>\n",
       "      <td>5.2%</td>\n",
       "      <td>28</td>\n",
       "    </tr>\n",
       "    <tr>\n",
       "      <th>12</th>\n",
       "      <td>Russia</td>\n",
       "      <td>5</td>\n",
       "      <td>9</td>\n",
       "      <td>31</td>\n",
       "      <td>22.5%</td>\n",
       "      <td>12.5%</td>\n",
       "      <td>59</td>\n",
       "    </tr>\n",
       "    <tr>\n",
       "      <th>13</th>\n",
       "      <td>Spain</td>\n",
       "      <td>12</td>\n",
       "      <td>42</td>\n",
       "      <td>33</td>\n",
       "      <td>55.9%</td>\n",
       "      <td>16.0%</td>\n",
       "      <td>100</td>\n",
       "    </tr>\n",
       "    <tr>\n",
       "      <th>14</th>\n",
       "      <td>Sweden</td>\n",
       "      <td>5</td>\n",
       "      <td>17</td>\n",
       "      <td>19</td>\n",
       "      <td>47.2%</td>\n",
       "      <td>13.8%</td>\n",
       "      <td>39</td>\n",
       "    </tr>\n",
       "    <tr>\n",
       "      <th>15</th>\n",
       "      <td>Ukraine</td>\n",
       "      <td>2</td>\n",
       "      <td>7</td>\n",
       "      <td>26</td>\n",
       "      <td>21.2%</td>\n",
       "      <td>6.0%</td>\n",
       "      <td>38</td>\n",
       "    </tr>\n",
       "  </tbody>\n",
       "</table>\n",
       "</div>"
      ],
      "text/plain": [
       "                   Team  Goals  Shots on target  Shots off target  \\\n",
       "0               Croatia      4               13                12   \n",
       "1        Czech Republic      4               13                18   \n",
       "2               Denmark      4               10                10   \n",
       "3               England      5               11                18   \n",
       "4                France      3               22                24   \n",
       "5               Germany     10               32                32   \n",
       "6                Greece      5                8                18   \n",
       "7                 Italy      6               34                45   \n",
       "8           Netherlands      2               12                36   \n",
       "9                Poland      2               15                23   \n",
       "10             Portugal      6               22                42   \n",
       "11  Republic of Ireland      1                7                12   \n",
       "12               Russia      5                9                31   \n",
       "13                Spain     12               42                33   \n",
       "14               Sweden      5               17                19   \n",
       "15              Ukraine      2                7                26   \n",
       "\n",
       "   Shooting Accuracy % Goals-to-shots  Total shots (inc. Blocked)  \n",
       "0              51.9%            16.0%                          32  \n",
       "1              41.9%            12.9%                          39  \n",
       "2              50.0%            20.0%                          27  \n",
       "3              50.0%            17.2%                          40  \n",
       "4              37.9%             6.5%                          65  \n",
       "5              47.8%            15.6%                          80  \n",
       "6              30.7%            19.2%                          32  \n",
       "7              43.0%             7.5%                         110  \n",
       "8              25.0%             4.1%                          60  \n",
       "9              39.4%             5.2%                          48  \n",
       "10             34.3%             9.3%                          82  \n",
       "11             36.8%             5.2%                          28  \n",
       "12             22.5%            12.5%                          59  \n",
       "13             55.9%            16.0%                         100  \n",
       "14             47.2%            13.8%                          39  \n",
       "15             21.2%             6.0%                          38  "
      ]
     },
     "execution_count": 14,
     "metadata": {},
     "output_type": "execute_result"
    }
   ],
   "source": [
    "euro12.iloc[:, 0:7]"
   ]
  },
  {
   "cell_type": "markdown",
   "id": "4b855244",
   "metadata": {},
   "source": [
    "Step 13. Select all columns except the last 3"
   ]
  },
  {
   "cell_type": "code",
   "execution_count": 15,
   "id": "fbcfff8e",
   "metadata": {},
   "outputs": [
    {
     "data": {
      "text/html": [
       "<div>\n",
       "<style scoped>\n",
       "    .dataframe tbody tr th:only-of-type {\n",
       "        vertical-align: middle;\n",
       "    }\n",
       "\n",
       "    .dataframe tbody tr th {\n",
       "        vertical-align: top;\n",
       "    }\n",
       "\n",
       "    .dataframe thead th {\n",
       "        text-align: right;\n",
       "    }\n",
       "</style>\n",
       "<table border=\"1\" class=\"dataframe\">\n",
       "  <thead>\n",
       "    <tr style=\"text-align: right;\">\n",
       "      <th></th>\n",
       "      <th>Team</th>\n",
       "      <th>Goals</th>\n",
       "      <th>Shots on target</th>\n",
       "      <th>Shots off target</th>\n",
       "      <th>Shooting Accuracy</th>\n",
       "      <th>% Goals-to-shots</th>\n",
       "      <th>Total shots (inc. Blocked)</th>\n",
       "      <th>Hit Woodwork</th>\n",
       "      <th>Penalty goals</th>\n",
       "      <th>Penalties not scored</th>\n",
       "      <th>...</th>\n",
       "      <th>Clean Sheets</th>\n",
       "      <th>Blocks</th>\n",
       "      <th>Goals conceded</th>\n",
       "      <th>Saves made</th>\n",
       "      <th>Saves-to-shots ratio</th>\n",
       "      <th>Fouls Won</th>\n",
       "      <th>Fouls Conceded</th>\n",
       "      <th>Offsides</th>\n",
       "      <th>Yellow Cards</th>\n",
       "      <th>Red Cards</th>\n",
       "    </tr>\n",
       "  </thead>\n",
       "  <tbody>\n",
       "    <tr>\n",
       "      <th>0</th>\n",
       "      <td>Croatia</td>\n",
       "      <td>4</td>\n",
       "      <td>13</td>\n",
       "      <td>12</td>\n",
       "      <td>51.9%</td>\n",
       "      <td>16.0%</td>\n",
       "      <td>32</td>\n",
       "      <td>0</td>\n",
       "      <td>0</td>\n",
       "      <td>0</td>\n",
       "      <td>...</td>\n",
       "      <td>0</td>\n",
       "      <td>10</td>\n",
       "      <td>3</td>\n",
       "      <td>13</td>\n",
       "      <td>81.3%</td>\n",
       "      <td>41</td>\n",
       "      <td>62</td>\n",
       "      <td>2</td>\n",
       "      <td>9</td>\n",
       "      <td>0</td>\n",
       "    </tr>\n",
       "    <tr>\n",
       "      <th>1</th>\n",
       "      <td>Czech Republic</td>\n",
       "      <td>4</td>\n",
       "      <td>13</td>\n",
       "      <td>18</td>\n",
       "      <td>41.9%</td>\n",
       "      <td>12.9%</td>\n",
       "      <td>39</td>\n",
       "      <td>0</td>\n",
       "      <td>0</td>\n",
       "      <td>0</td>\n",
       "      <td>...</td>\n",
       "      <td>1</td>\n",
       "      <td>10</td>\n",
       "      <td>6</td>\n",
       "      <td>9</td>\n",
       "      <td>60.1%</td>\n",
       "      <td>53</td>\n",
       "      <td>73</td>\n",
       "      <td>8</td>\n",
       "      <td>7</td>\n",
       "      <td>0</td>\n",
       "    </tr>\n",
       "    <tr>\n",
       "      <th>2</th>\n",
       "      <td>Denmark</td>\n",
       "      <td>4</td>\n",
       "      <td>10</td>\n",
       "      <td>10</td>\n",
       "      <td>50.0%</td>\n",
       "      <td>20.0%</td>\n",
       "      <td>27</td>\n",
       "      <td>1</td>\n",
       "      <td>0</td>\n",
       "      <td>0</td>\n",
       "      <td>...</td>\n",
       "      <td>1</td>\n",
       "      <td>10</td>\n",
       "      <td>5</td>\n",
       "      <td>10</td>\n",
       "      <td>66.7%</td>\n",
       "      <td>25</td>\n",
       "      <td>38</td>\n",
       "      <td>8</td>\n",
       "      <td>4</td>\n",
       "      <td>0</td>\n",
       "    </tr>\n",
       "    <tr>\n",
       "      <th>3</th>\n",
       "      <td>England</td>\n",
       "      <td>5</td>\n",
       "      <td>11</td>\n",
       "      <td>18</td>\n",
       "      <td>50.0%</td>\n",
       "      <td>17.2%</td>\n",
       "      <td>40</td>\n",
       "      <td>0</td>\n",
       "      <td>0</td>\n",
       "      <td>0</td>\n",
       "      <td>...</td>\n",
       "      <td>2</td>\n",
       "      <td>29</td>\n",
       "      <td>3</td>\n",
       "      <td>22</td>\n",
       "      <td>88.1%</td>\n",
       "      <td>43</td>\n",
       "      <td>45</td>\n",
       "      <td>6</td>\n",
       "      <td>5</td>\n",
       "      <td>0</td>\n",
       "    </tr>\n",
       "    <tr>\n",
       "      <th>4</th>\n",
       "      <td>France</td>\n",
       "      <td>3</td>\n",
       "      <td>22</td>\n",
       "      <td>24</td>\n",
       "      <td>37.9%</td>\n",
       "      <td>6.5%</td>\n",
       "      <td>65</td>\n",
       "      <td>1</td>\n",
       "      <td>0</td>\n",
       "      <td>0</td>\n",
       "      <td>...</td>\n",
       "      <td>1</td>\n",
       "      <td>7</td>\n",
       "      <td>5</td>\n",
       "      <td>6</td>\n",
       "      <td>54.6%</td>\n",
       "      <td>36</td>\n",
       "      <td>51</td>\n",
       "      <td>5</td>\n",
       "      <td>6</td>\n",
       "      <td>0</td>\n",
       "    </tr>\n",
       "    <tr>\n",
       "      <th>5</th>\n",
       "      <td>Germany</td>\n",
       "      <td>10</td>\n",
       "      <td>32</td>\n",
       "      <td>32</td>\n",
       "      <td>47.8%</td>\n",
       "      <td>15.6%</td>\n",
       "      <td>80</td>\n",
       "      <td>2</td>\n",
       "      <td>1</td>\n",
       "      <td>0</td>\n",
       "      <td>...</td>\n",
       "      <td>1</td>\n",
       "      <td>11</td>\n",
       "      <td>6</td>\n",
       "      <td>10</td>\n",
       "      <td>62.6%</td>\n",
       "      <td>63</td>\n",
       "      <td>49</td>\n",
       "      <td>12</td>\n",
       "      <td>4</td>\n",
       "      <td>0</td>\n",
       "    </tr>\n",
       "    <tr>\n",
       "      <th>6</th>\n",
       "      <td>Greece</td>\n",
       "      <td>5</td>\n",
       "      <td>8</td>\n",
       "      <td>18</td>\n",
       "      <td>30.7%</td>\n",
       "      <td>19.2%</td>\n",
       "      <td>32</td>\n",
       "      <td>1</td>\n",
       "      <td>1</td>\n",
       "      <td>1</td>\n",
       "      <td>...</td>\n",
       "      <td>1</td>\n",
       "      <td>23</td>\n",
       "      <td>7</td>\n",
       "      <td>13</td>\n",
       "      <td>65.1%</td>\n",
       "      <td>67</td>\n",
       "      <td>48</td>\n",
       "      <td>12</td>\n",
       "      <td>9</td>\n",
       "      <td>1</td>\n",
       "    </tr>\n",
       "    <tr>\n",
       "      <th>7</th>\n",
       "      <td>Italy</td>\n",
       "      <td>6</td>\n",
       "      <td>34</td>\n",
       "      <td>45</td>\n",
       "      <td>43.0%</td>\n",
       "      <td>7.5%</td>\n",
       "      <td>110</td>\n",
       "      <td>2</td>\n",
       "      <td>0</td>\n",
       "      <td>0</td>\n",
       "      <td>...</td>\n",
       "      <td>2</td>\n",
       "      <td>18</td>\n",
       "      <td>7</td>\n",
       "      <td>20</td>\n",
       "      <td>74.1%</td>\n",
       "      <td>101</td>\n",
       "      <td>89</td>\n",
       "      <td>16</td>\n",
       "      <td>16</td>\n",
       "      <td>0</td>\n",
       "    </tr>\n",
       "    <tr>\n",
       "      <th>8</th>\n",
       "      <td>Netherlands</td>\n",
       "      <td>2</td>\n",
       "      <td>12</td>\n",
       "      <td>36</td>\n",
       "      <td>25.0%</td>\n",
       "      <td>4.1%</td>\n",
       "      <td>60</td>\n",
       "      <td>2</td>\n",
       "      <td>0</td>\n",
       "      <td>0</td>\n",
       "      <td>...</td>\n",
       "      <td>0</td>\n",
       "      <td>9</td>\n",
       "      <td>5</td>\n",
       "      <td>12</td>\n",
       "      <td>70.6%</td>\n",
       "      <td>35</td>\n",
       "      <td>30</td>\n",
       "      <td>3</td>\n",
       "      <td>5</td>\n",
       "      <td>0</td>\n",
       "    </tr>\n",
       "    <tr>\n",
       "      <th>9</th>\n",
       "      <td>Poland</td>\n",
       "      <td>2</td>\n",
       "      <td>15</td>\n",
       "      <td>23</td>\n",
       "      <td>39.4%</td>\n",
       "      <td>5.2%</td>\n",
       "      <td>48</td>\n",
       "      <td>0</td>\n",
       "      <td>0</td>\n",
       "      <td>0</td>\n",
       "      <td>...</td>\n",
       "      <td>0</td>\n",
       "      <td>8</td>\n",
       "      <td>3</td>\n",
       "      <td>6</td>\n",
       "      <td>66.7%</td>\n",
       "      <td>48</td>\n",
       "      <td>56</td>\n",
       "      <td>3</td>\n",
       "      <td>7</td>\n",
       "      <td>1</td>\n",
       "    </tr>\n",
       "    <tr>\n",
       "      <th>10</th>\n",
       "      <td>Portugal</td>\n",
       "      <td>6</td>\n",
       "      <td>22</td>\n",
       "      <td>42</td>\n",
       "      <td>34.3%</td>\n",
       "      <td>9.3%</td>\n",
       "      <td>82</td>\n",
       "      <td>6</td>\n",
       "      <td>0</td>\n",
       "      <td>0</td>\n",
       "      <td>...</td>\n",
       "      <td>2</td>\n",
       "      <td>11</td>\n",
       "      <td>4</td>\n",
       "      <td>10</td>\n",
       "      <td>71.5%</td>\n",
       "      <td>73</td>\n",
       "      <td>90</td>\n",
       "      <td>10</td>\n",
       "      <td>12</td>\n",
       "      <td>0</td>\n",
       "    </tr>\n",
       "    <tr>\n",
       "      <th>11</th>\n",
       "      <td>Republic of Ireland</td>\n",
       "      <td>1</td>\n",
       "      <td>7</td>\n",
       "      <td>12</td>\n",
       "      <td>36.8%</td>\n",
       "      <td>5.2%</td>\n",
       "      <td>28</td>\n",
       "      <td>0</td>\n",
       "      <td>0</td>\n",
       "      <td>0</td>\n",
       "      <td>...</td>\n",
       "      <td>0</td>\n",
       "      <td>23</td>\n",
       "      <td>9</td>\n",
       "      <td>17</td>\n",
       "      <td>65.4%</td>\n",
       "      <td>43</td>\n",
       "      <td>51</td>\n",
       "      <td>11</td>\n",
       "      <td>6</td>\n",
       "      <td>1</td>\n",
       "    </tr>\n",
       "    <tr>\n",
       "      <th>12</th>\n",
       "      <td>Russia</td>\n",
       "      <td>5</td>\n",
       "      <td>9</td>\n",
       "      <td>31</td>\n",
       "      <td>22.5%</td>\n",
       "      <td>12.5%</td>\n",
       "      <td>59</td>\n",
       "      <td>2</td>\n",
       "      <td>0</td>\n",
       "      <td>0</td>\n",
       "      <td>...</td>\n",
       "      <td>0</td>\n",
       "      <td>8</td>\n",
       "      <td>3</td>\n",
       "      <td>10</td>\n",
       "      <td>77.0%</td>\n",
       "      <td>34</td>\n",
       "      <td>43</td>\n",
       "      <td>4</td>\n",
       "      <td>6</td>\n",
       "      <td>0</td>\n",
       "    </tr>\n",
       "    <tr>\n",
       "      <th>13</th>\n",
       "      <td>Spain</td>\n",
       "      <td>12</td>\n",
       "      <td>42</td>\n",
       "      <td>33</td>\n",
       "      <td>55.9%</td>\n",
       "      <td>16.0%</td>\n",
       "      <td>100</td>\n",
       "      <td>0</td>\n",
       "      <td>1</td>\n",
       "      <td>0</td>\n",
       "      <td>...</td>\n",
       "      <td>5</td>\n",
       "      <td>8</td>\n",
       "      <td>1</td>\n",
       "      <td>15</td>\n",
       "      <td>93.8%</td>\n",
       "      <td>102</td>\n",
       "      <td>83</td>\n",
       "      <td>19</td>\n",
       "      <td>11</td>\n",
       "      <td>0</td>\n",
       "    </tr>\n",
       "    <tr>\n",
       "      <th>14</th>\n",
       "      <td>Sweden</td>\n",
       "      <td>5</td>\n",
       "      <td>17</td>\n",
       "      <td>19</td>\n",
       "      <td>47.2%</td>\n",
       "      <td>13.8%</td>\n",
       "      <td>39</td>\n",
       "      <td>3</td>\n",
       "      <td>0</td>\n",
       "      <td>0</td>\n",
       "      <td>...</td>\n",
       "      <td>1</td>\n",
       "      <td>12</td>\n",
       "      <td>5</td>\n",
       "      <td>8</td>\n",
       "      <td>61.6%</td>\n",
       "      <td>35</td>\n",
       "      <td>51</td>\n",
       "      <td>7</td>\n",
       "      <td>7</td>\n",
       "      <td>0</td>\n",
       "    </tr>\n",
       "    <tr>\n",
       "      <th>15</th>\n",
       "      <td>Ukraine</td>\n",
       "      <td>2</td>\n",
       "      <td>7</td>\n",
       "      <td>26</td>\n",
       "      <td>21.2%</td>\n",
       "      <td>6.0%</td>\n",
       "      <td>38</td>\n",
       "      <td>0</td>\n",
       "      <td>0</td>\n",
       "      <td>0</td>\n",
       "      <td>...</td>\n",
       "      <td>0</td>\n",
       "      <td>4</td>\n",
       "      <td>4</td>\n",
       "      <td>13</td>\n",
       "      <td>76.5%</td>\n",
       "      <td>48</td>\n",
       "      <td>31</td>\n",
       "      <td>4</td>\n",
       "      <td>5</td>\n",
       "      <td>0</td>\n",
       "    </tr>\n",
       "  </tbody>\n",
       "</table>\n",
       "<p>16 rows × 32 columns</p>\n",
       "</div>"
      ],
      "text/plain": [
       "                   Team  Goals  Shots on target  Shots off target  \\\n",
       "0               Croatia      4               13                12   \n",
       "1        Czech Republic      4               13                18   \n",
       "2               Denmark      4               10                10   \n",
       "3               England      5               11                18   \n",
       "4                France      3               22                24   \n",
       "5               Germany     10               32                32   \n",
       "6                Greece      5                8                18   \n",
       "7                 Italy      6               34                45   \n",
       "8           Netherlands      2               12                36   \n",
       "9                Poland      2               15                23   \n",
       "10             Portugal      6               22                42   \n",
       "11  Republic of Ireland      1                7                12   \n",
       "12               Russia      5                9                31   \n",
       "13                Spain     12               42                33   \n",
       "14               Sweden      5               17                19   \n",
       "15              Ukraine      2                7                26   \n",
       "\n",
       "   Shooting Accuracy % Goals-to-shots  Total shots (inc. Blocked)  \\\n",
       "0              51.9%            16.0%                          32   \n",
       "1              41.9%            12.9%                          39   \n",
       "2              50.0%            20.0%                          27   \n",
       "3              50.0%            17.2%                          40   \n",
       "4              37.9%             6.5%                          65   \n",
       "5              47.8%            15.6%                          80   \n",
       "6              30.7%            19.2%                          32   \n",
       "7              43.0%             7.5%                         110   \n",
       "8              25.0%             4.1%                          60   \n",
       "9              39.4%             5.2%                          48   \n",
       "10             34.3%             9.3%                          82   \n",
       "11             36.8%             5.2%                          28   \n",
       "12             22.5%            12.5%                          59   \n",
       "13             55.9%            16.0%                         100   \n",
       "14             47.2%            13.8%                          39   \n",
       "15             21.2%             6.0%                          38   \n",
       "\n",
       "    Hit Woodwork  Penalty goals  Penalties not scored  ...  Clean Sheets  \\\n",
       "0              0              0                     0  ...             0   \n",
       "1              0              0                     0  ...             1   \n",
       "2              1              0                     0  ...             1   \n",
       "3              0              0                     0  ...             2   \n",
       "4              1              0                     0  ...             1   \n",
       "5              2              1                     0  ...             1   \n",
       "6              1              1                     1  ...             1   \n",
       "7              2              0                     0  ...             2   \n",
       "8              2              0                     0  ...             0   \n",
       "9              0              0                     0  ...             0   \n",
       "10             6              0                     0  ...             2   \n",
       "11             0              0                     0  ...             0   \n",
       "12             2              0                     0  ...             0   \n",
       "13             0              1                     0  ...             5   \n",
       "14             3              0                     0  ...             1   \n",
       "15             0              0                     0  ...             0   \n",
       "\n",
       "    Blocks  Goals conceded Saves made  Saves-to-shots ratio  Fouls Won  \\\n",
       "0       10               3         13                 81.3%         41   \n",
       "1       10               6          9                 60.1%         53   \n",
       "2       10               5         10                 66.7%         25   \n",
       "3       29               3         22                 88.1%         43   \n",
       "4        7               5          6                 54.6%         36   \n",
       "5       11               6         10                 62.6%         63   \n",
       "6       23               7         13                 65.1%         67   \n",
       "7       18               7         20                 74.1%        101   \n",
       "8        9               5         12                 70.6%         35   \n",
       "9        8               3          6                 66.7%         48   \n",
       "10      11               4         10                 71.5%         73   \n",
       "11      23               9         17                 65.4%         43   \n",
       "12       8               3         10                 77.0%         34   \n",
       "13       8               1         15                 93.8%        102   \n",
       "14      12               5          8                 61.6%         35   \n",
       "15       4               4         13                 76.5%         48   \n",
       "\n",
       "    Fouls Conceded  Offsides  Yellow Cards  Red Cards  \n",
       "0               62         2             9          0  \n",
       "1               73         8             7          0  \n",
       "2               38         8             4          0  \n",
       "3               45         6             5          0  \n",
       "4               51         5             6          0  \n",
       "5               49        12             4          0  \n",
       "6               48        12             9          1  \n",
       "7               89        16            16          0  \n",
       "8               30         3             5          0  \n",
       "9               56         3             7          1  \n",
       "10              90        10            12          0  \n",
       "11              51        11             6          1  \n",
       "12              43         4             6          0  \n",
       "13              83        19            11          0  \n",
       "14              51         7             7          0  \n",
       "15              31         4             5          0  \n",
       "\n",
       "[16 rows x 32 columns]"
      ]
     },
     "execution_count": 15,
     "metadata": {},
     "output_type": "execute_result"
    }
   ],
   "source": [
    "euro12[euro12.columns[:-3]]"
   ]
  },
  {
   "cell_type": "markdown",
   "id": "43e271b7",
   "metadata": {},
   "source": [
    "Step 14. Present only the Shooting Accuracy from England, Italy and Russia"
   ]
  },
  {
   "cell_type": "code",
   "execution_count": 16,
   "id": "8d3a14e0",
   "metadata": {},
   "outputs": [
    {
     "data": {
      "text/html": [
       "<div>\n",
       "<style scoped>\n",
       "    .dataframe tbody tr th:only-of-type {\n",
       "        vertical-align: middle;\n",
       "    }\n",
       "\n",
       "    .dataframe tbody tr th {\n",
       "        vertical-align: top;\n",
       "    }\n",
       "\n",
       "    .dataframe thead th {\n",
       "        text-align: right;\n",
       "    }\n",
       "</style>\n",
       "<table border=\"1\" class=\"dataframe\">\n",
       "  <thead>\n",
       "    <tr style=\"text-align: right;\">\n",
       "      <th></th>\n",
       "      <th>Shooting Accuracy</th>\n",
       "    </tr>\n",
       "    <tr>\n",
       "      <th>Team</th>\n",
       "      <th></th>\n",
       "    </tr>\n",
       "  </thead>\n",
       "  <tbody>\n",
       "    <tr>\n",
       "      <th>England</th>\n",
       "      <td>50.0%</td>\n",
       "    </tr>\n",
       "    <tr>\n",
       "      <th>Italy</th>\n",
       "      <td>43.0%</td>\n",
       "    </tr>\n",
       "    <tr>\n",
       "      <th>Russia</th>\n",
       "      <td>22.5%</td>\n",
       "    </tr>\n",
       "  </tbody>\n",
       "</table>\n",
       "</div>"
      ],
      "text/plain": [
       "        Shooting Accuracy\n",
       "Team                     \n",
       "England             50.0%\n",
       "Italy               43.0%\n",
       "Russia              22.5%"
      ]
     },
     "execution_count": 16,
     "metadata": {},
     "output_type": "execute_result"
    }
   ],
   "source": [
    "indexed_data = euro12.set_index('Team')\n",
    "indexed_data.loc[['England','Italy','Russia'],['Shooting Accuracy']]"
   ]
  },
  {
   "cell_type": "markdown",
   "id": "c9b53f09",
   "metadata": {},
   "source": [
    "# Question 3\n",
    "Housing\n",
    "Step 1. Import the necessary libraries\n",
    "Step 2. Create 3 differents Series, each of length 100, as follows:\n",
    "• The first a random number from 1 to 4\n",
    "• The second a random number from 1 to 3\n",
    "• The third a random number from 10,000 to 30,000"
   ]
  },
  {
   "cell_type": "code",
   "execution_count": 17,
   "id": "be792961",
   "metadata": {},
   "outputs": [],
   "source": [
    "import pandas as pd\n",
    "import numpy as np\n",
    "\n",
    "first = np.random.randint(1,4,size=100)\n",
    "second= np.random.randint(1,3,size=100)\n",
    "third = np.random.randint(10000,30000,size=100)"
   ]
  },
  {
   "cell_type": "code",
   "execution_count": 18,
   "id": "31198f26",
   "metadata": {},
   "outputs": [
    {
     "data": {
      "text/plain": [
       "array([2, 2, 1, 2, 2, 2, 2, 3, 2, 2, 2, 3, 2, 1, 3, 2, 1, 1, 3, 3, 1, 1,\n",
       "       3, 3, 3, 3, 2, 1, 2, 3, 2, 2, 2, 2, 1, 2, 1, 1, 2, 3, 3, 3, 2, 1,\n",
       "       2, 1, 1, 2, 1, 1, 3, 3, 1, 1, 3, 1, 1, 1, 3, 2, 2, 1, 1, 1, 1, 3,\n",
       "       2, 2, 3, 3, 3, 3, 1, 3, 2, 3, 2, 3, 2, 3, 3, 1, 1, 2, 3, 2, 2, 3,\n",
       "       1, 2, 2, 3, 1, 1, 1, 1, 3, 2, 3, 3])"
      ]
     },
     "execution_count": 18,
     "metadata": {},
     "output_type": "execute_result"
    }
   ],
   "source": [
    "first"
   ]
  },
  {
   "cell_type": "code",
   "execution_count": 19,
   "id": "a351e8c8",
   "metadata": {},
   "outputs": [
    {
     "data": {
      "text/plain": [
       "array([1, 2, 2, 2, 2, 1, 2, 1, 1, 2, 2, 2, 1, 1, 1, 2, 2, 2, 1, 1, 2, 2,\n",
       "       1, 2, 1, 1, 1, 1, 1, 1, 1, 1, 1, 2, 2, 2, 1, 2, 2, 2, 1, 2, 1, 2,\n",
       "       1, 2, 1, 2, 1, 2, 1, 2, 2, 1, 1, 2, 2, 2, 2, 1, 2, 2, 2, 1, 1, 2,\n",
       "       2, 1, 2, 2, 2, 1, 1, 2, 1, 2, 2, 2, 2, 2, 1, 2, 2, 1, 1, 1, 1, 1,\n",
       "       2, 2, 2, 2, 2, 1, 1, 2, 2, 2, 1, 2])"
      ]
     },
     "execution_count": 19,
     "metadata": {},
     "output_type": "execute_result"
    }
   ],
   "source": [
    "second"
   ]
  },
  {
   "cell_type": "code",
   "execution_count": 20,
   "id": "f381e631",
   "metadata": {
    "scrolled": true
   },
   "outputs": [
    {
     "data": {
      "text/plain": [
       "array([18203, 26890, 23700, 20130, 16155, 22008, 19882, 16994, 12501,\n",
       "       25442, 19814, 26187, 18250, 17574, 10333, 26227, 16187, 13341,\n",
       "       23416, 17557, 22968, 10639, 12375, 28540, 11293, 17778, 16979,\n",
       "       10052, 22229, 15277, 27419, 13620, 21038, 15237, 29209, 24112,\n",
       "       15679, 29696, 18948, 23326, 23742, 28465, 27953, 19039, 19720,\n",
       "       25168, 13202, 17693, 19049, 25524, 23450, 16571, 17612, 28077,\n",
       "       29761, 26963, 24538, 20067, 28614, 29792, 29240, 28355, 16158,\n",
       "       27467, 24421, 23253, 21989, 11174, 27190, 25824, 21987, 15059,\n",
       "       15562, 25807, 26876, 16261, 10371, 11208, 28327, 11836, 22020,\n",
       "       19547, 19526, 27734, 17486, 29363, 29693, 18861, 22344, 18828,\n",
       "       16818, 22498, 13807, 28103, 22598, 29084, 13179, 29507, 22534,\n",
       "       14348])"
      ]
     },
     "execution_count": 20,
     "metadata": {},
     "output_type": "execute_result"
    }
   ],
   "source": [
    "third"
   ]
  },
  {
   "cell_type": "markdown",
   "id": "28a47341",
   "metadata": {},
   "source": [
    "Step 3. Create a DataFrame by joinning the Series by column"
   ]
  },
  {
   "cell_type": "code",
   "execution_count": 21,
   "id": "78faa32c",
   "metadata": {},
   "outputs": [
    {
     "data": {
      "text/html": [
       "<div>\n",
       "<style scoped>\n",
       "    .dataframe tbody tr th:only-of-type {\n",
       "        vertical-align: middle;\n",
       "    }\n",
       "\n",
       "    .dataframe tbody tr th {\n",
       "        vertical-align: top;\n",
       "    }\n",
       "\n",
       "    .dataframe thead th {\n",
       "        text-align: right;\n",
       "    }\n",
       "</style>\n",
       "<table border=\"1\" class=\"dataframe\">\n",
       "  <thead>\n",
       "    <tr style=\"text-align: right;\">\n",
       "      <th></th>\n",
       "      <th>first</th>\n",
       "      <th>second</th>\n",
       "      <th>third</th>\n",
       "    </tr>\n",
       "  </thead>\n",
       "  <tbody>\n",
       "    <tr>\n",
       "      <th>0</th>\n",
       "      <td>2</td>\n",
       "      <td>1</td>\n",
       "      <td>18203</td>\n",
       "    </tr>\n",
       "    <tr>\n",
       "      <th>1</th>\n",
       "      <td>2</td>\n",
       "      <td>2</td>\n",
       "      <td>26890</td>\n",
       "    </tr>\n",
       "    <tr>\n",
       "      <th>2</th>\n",
       "      <td>1</td>\n",
       "      <td>2</td>\n",
       "      <td>23700</td>\n",
       "    </tr>\n",
       "    <tr>\n",
       "      <th>3</th>\n",
       "      <td>2</td>\n",
       "      <td>2</td>\n",
       "      <td>20130</td>\n",
       "    </tr>\n",
       "    <tr>\n",
       "      <th>4</th>\n",
       "      <td>2</td>\n",
       "      <td>2</td>\n",
       "      <td>16155</td>\n",
       "    </tr>\n",
       "  </tbody>\n",
       "</table>\n",
       "</div>"
      ],
      "text/plain": [
       "   first  second  third\n",
       "0      2       1  18203\n",
       "1      2       2  26890\n",
       "2      1       2  23700\n",
       "3      2       2  20130\n",
       "4      2       2  16155"
      ]
     },
     "execution_count": 21,
     "metadata": {},
     "output_type": "execute_result"
    }
   ],
   "source": [
    "df = pd.DataFrame(data=dict(first=first,  second=second,  third=third))\n",
    "df.head()"
   ]
  },
  {
   "cell_type": "markdown",
   "id": "0580425f",
   "metadata": {},
   "source": [
    "Step 4. Change the name of the columns to bedrs, bathrs, price_sqr_meter"
   ]
  },
  {
   "cell_type": "code",
   "execution_count": 22,
   "id": "e7bfd220",
   "metadata": {},
   "outputs": [
    {
     "data": {
      "text/html": [
       "<div>\n",
       "<style scoped>\n",
       "    .dataframe tbody tr th:only-of-type {\n",
       "        vertical-align: middle;\n",
       "    }\n",
       "\n",
       "    .dataframe tbody tr th {\n",
       "        vertical-align: top;\n",
       "    }\n",
       "\n",
       "    .dataframe thead th {\n",
       "        text-align: right;\n",
       "    }\n",
       "</style>\n",
       "<table border=\"1\" class=\"dataframe\">\n",
       "  <thead>\n",
       "    <tr style=\"text-align: right;\">\n",
       "      <th></th>\n",
       "      <th>bedrs</th>\n",
       "      <th>bathrs</th>\n",
       "      <th>price_sqr_meter</th>\n",
       "    </tr>\n",
       "  </thead>\n",
       "  <tbody>\n",
       "    <tr>\n",
       "      <th>0</th>\n",
       "      <td>2</td>\n",
       "      <td>1</td>\n",
       "      <td>18203</td>\n",
       "    </tr>\n",
       "    <tr>\n",
       "      <th>1</th>\n",
       "      <td>2</td>\n",
       "      <td>2</td>\n",
       "      <td>26890</td>\n",
       "    </tr>\n",
       "    <tr>\n",
       "      <th>2</th>\n",
       "      <td>1</td>\n",
       "      <td>2</td>\n",
       "      <td>23700</td>\n",
       "    </tr>\n",
       "    <tr>\n",
       "      <th>3</th>\n",
       "      <td>2</td>\n",
       "      <td>2</td>\n",
       "      <td>20130</td>\n",
       "    </tr>\n",
       "    <tr>\n",
       "      <th>4</th>\n",
       "      <td>2</td>\n",
       "      <td>2</td>\n",
       "      <td>16155</td>\n",
       "    </tr>\n",
       "  </tbody>\n",
       "</table>\n",
       "</div>"
      ],
      "text/plain": [
       "   bedrs  bathrs  price_sqr_meter\n",
       "0      2       1            18203\n",
       "1      2       2            26890\n",
       "2      1       2            23700\n",
       "3      2       2            20130\n",
       "4      2       2            16155"
      ]
     },
     "execution_count": 22,
     "metadata": {},
     "output_type": "execute_result"
    }
   ],
   "source": [
    "df = pd.DataFrame(data=dict(bedrs=first,  bathrs=second,  price_sqr_meter=third))\n",
    "df.head()"
   ]
  },
  {
   "cell_type": "markdown",
   "id": "ba35ef40",
   "metadata": {},
   "source": [
    "Step 5. Create a one column DataFrame with the values of the 3 Series and assign it\n",
    "to 'bigcolumn'"
   ]
  },
  {
   "cell_type": "code",
   "execution_count": 23,
   "id": "7f7c1235",
   "metadata": {},
   "outputs": [
    {
     "data": {
      "text/plain": [
       "0         2\n",
       "1         2\n",
       "2         1\n",
       "3         2\n",
       "4         2\n",
       "      ...  \n",
       "95    29084\n",
       "96    13179\n",
       "97    29507\n",
       "98    22534\n",
       "99    14348\n",
       "Length: 300, dtype: int32"
      ]
     },
     "execution_count": 23,
     "metadata": {},
     "output_type": "execute_result"
    }
   ],
   "source": [
    "bigcolumn =(df['bedrs'].append(df['bathrs']).append(df['price_sqr_meter']))\n",
    "bigcolumn"
   ]
  },
  {
   "cell_type": "code",
   "execution_count": 24,
   "id": "5c9bb942",
   "metadata": {},
   "outputs": [],
   "source": [
    "#Step 6. Ops it seems it is going only until index 99. Is it true?\n",
    "\n",
    "# Yes,index goes until 99 only."
   ]
  },
  {
   "cell_type": "markdown",
   "id": "14cedb6a",
   "metadata": {},
   "source": [
    "Step 7. Reindex the DataFrame so it goes from 0 to 299"
   ]
  },
  {
   "cell_type": "code",
   "execution_count": 25,
   "id": "4706867e",
   "metadata": {},
   "outputs": [
    {
     "data": {
      "text/plain": [
       "0          2\n",
       "1          2\n",
       "2          1\n",
       "3          2\n",
       "4          2\n",
       "       ...  \n",
       "295    29084\n",
       "296    13179\n",
       "297    29507\n",
       "298    22534\n",
       "299    14348\n",
       "Length: 300, dtype: int32"
      ]
     },
     "execution_count": 25,
     "metadata": {},
     "output_type": "execute_result"
    }
   ],
   "source": [
    "bigcolumn = bigcolumn.reset_index(drop=True)\n",
    "bigcolumn"
   ]
  },
  {
   "cell_type": "markdown",
   "id": "7d3a3de8",
   "metadata": {},
   "source": [
    "# Question 4\n",
    "Wind Statistics\n",
    "\n",
    "Step 1. Import the necessary libraries\n",
    "Step 2. Import the dataset from the attached file wind.txt"
   ]
  },
  {
   "cell_type": "code",
   "execution_count": 30,
   "id": "2e201837",
   "metadata": {},
   "outputs": [
    {
     "data": {
      "text/html": [
       "<div>\n",
       "<style scoped>\n",
       "    .dataframe tbody tr th:only-of-type {\n",
       "        vertical-align: middle;\n",
       "    }\n",
       "\n",
       "    .dataframe tbody tr th {\n",
       "        vertical-align: top;\n",
       "    }\n",
       "\n",
       "    .dataframe thead th {\n",
       "        text-align: right;\n",
       "    }\n",
       "</style>\n",
       "<table border=\"1\" class=\"dataframe\">\n",
       "  <thead>\n",
       "    <tr style=\"text-align: right;\">\n",
       "      <th></th>\n",
       "      <th>Yr Mo Dy   RPT   VAL   ROS   KIL   SHA   BIR   DUB   CLA   MUL   CLO   BEL   MAL</th>\n",
       "    </tr>\n",
       "  </thead>\n",
       "  <tbody>\n",
       "    <tr>\n",
       "      <th>0</th>\n",
       "      <td>61  1  1 15.04 14.96 13.17  9.29   NaN  9.87 1...</td>\n",
       "    </tr>\n",
       "    <tr>\n",
       "      <th>1</th>\n",
       "      <td>61  1  2 14.71   NaN 10.83  6.50 12.62  7.67 1...</td>\n",
       "    </tr>\n",
       "    <tr>\n",
       "      <th>2</th>\n",
       "      <td>61  1  3 18.50 16.88 12.33 10.13 11.17  6.17 1...</td>\n",
       "    </tr>\n",
       "    <tr>\n",
       "      <th>3</th>\n",
       "      <td>61  1  4 10.58  6.63 11.75  4.58  4.54  2.88  ...</td>\n",
       "    </tr>\n",
       "    <tr>\n",
       "      <th>4</th>\n",
       "      <td>61  1  5 13.33 13.25 11.42  6.17 10.71  8.21 1...</td>\n",
       "    </tr>\n",
       "  </tbody>\n",
       "</table>\n",
       "</div>"
      ],
      "text/plain": [
       "  Yr Mo Dy   RPT   VAL   ROS   KIL   SHA   BIR   DUB   CLA   MUL   CLO   BEL   MAL\n",
       "0  61  1  1 15.04 14.96 13.17  9.29   NaN  9.87 1...                              \n",
       "1  61  1  2 14.71   NaN 10.83  6.50 12.62  7.67 1...                              \n",
       "2  61  1  3 18.50 16.88 12.33 10.13 11.17  6.17 1...                              \n",
       "3  61  1  4 10.58  6.63 11.75  4.58  4.54  2.88  ...                              \n",
       "4  61  1  5 13.33 13.25 11.42  6.17 10.71  8.21 1...                              "
      ]
     },
     "execution_count": 30,
     "metadata": {},
     "output_type": "execute_result"
    }
   ],
   "source": [
    "import pandas as pd\n",
    "import datetime\n",
    "\n",
    "data = pd.read_csv(\"wind.txt\")\n",
    "data.head()"
   ]
  },
  {
   "cell_type": "markdown",
   "id": "ab0c7668",
   "metadata": {},
   "source": [
    "Step 3. Assign it to a variable called data and replace the first 3 columns by a proper\n",
    "datetime index."
   ]
  },
  {
   "cell_type": "code",
   "execution_count": 31,
   "id": "686822d9",
   "metadata": {},
   "outputs": [
    {
     "data": {
      "text/html": [
       "<div>\n",
       "<style scoped>\n",
       "    .dataframe tbody tr th:only-of-type {\n",
       "        vertical-align: middle;\n",
       "    }\n",
       "\n",
       "    .dataframe tbody tr th {\n",
       "        vertical-align: top;\n",
       "    }\n",
       "\n",
       "    .dataframe thead th {\n",
       "        text-align: right;\n",
       "    }\n",
       "</style>\n",
       "<table border=\"1\" class=\"dataframe\">\n",
       "  <thead>\n",
       "    <tr style=\"text-align: right;\">\n",
       "      <th></th>\n",
       "      <th>Date</th>\n",
       "      <th>RPT</th>\n",
       "      <th>VAL</th>\n",
       "      <th>ROS</th>\n",
       "      <th>KIL</th>\n",
       "      <th>SHA</th>\n",
       "      <th>BIR</th>\n",
       "      <th>DUB</th>\n",
       "      <th>CLA</th>\n",
       "      <th>MUL</th>\n",
       "      <th>CLO</th>\n",
       "      <th>BEL</th>\n",
       "      <th>MAL</th>\n",
       "    </tr>\n",
       "  </thead>\n",
       "  <tbody>\n",
       "    <tr>\n",
       "      <th>0</th>\n",
       "      <td>2061-01-01</td>\n",
       "      <td>15.04</td>\n",
       "      <td>14.96</td>\n",
       "      <td>13.17</td>\n",
       "      <td>9.29</td>\n",
       "      <td>NaN</td>\n",
       "      <td>9.87</td>\n",
       "      <td>13.67</td>\n",
       "      <td>10.25</td>\n",
       "      <td>10.83</td>\n",
       "      <td>12.58</td>\n",
       "      <td>18.50</td>\n",
       "      <td>15.04</td>\n",
       "    </tr>\n",
       "    <tr>\n",
       "      <th>1</th>\n",
       "      <td>2061-01-02</td>\n",
       "      <td>14.71</td>\n",
       "      <td>NaN</td>\n",
       "      <td>10.83</td>\n",
       "      <td>6.50</td>\n",
       "      <td>12.62</td>\n",
       "      <td>7.67</td>\n",
       "      <td>11.50</td>\n",
       "      <td>10.04</td>\n",
       "      <td>9.79</td>\n",
       "      <td>9.67</td>\n",
       "      <td>17.54</td>\n",
       "      <td>13.83</td>\n",
       "    </tr>\n",
       "    <tr>\n",
       "      <th>2</th>\n",
       "      <td>2061-01-03</td>\n",
       "      <td>18.50</td>\n",
       "      <td>16.88</td>\n",
       "      <td>12.33</td>\n",
       "      <td>10.13</td>\n",
       "      <td>11.17</td>\n",
       "      <td>6.17</td>\n",
       "      <td>11.25</td>\n",
       "      <td>NaN</td>\n",
       "      <td>8.50</td>\n",
       "      <td>7.67</td>\n",
       "      <td>12.75</td>\n",
       "      <td>12.71</td>\n",
       "    </tr>\n",
       "    <tr>\n",
       "      <th>3</th>\n",
       "      <td>2061-01-04</td>\n",
       "      <td>10.58</td>\n",
       "      <td>6.63</td>\n",
       "      <td>11.75</td>\n",
       "      <td>4.58</td>\n",
       "      <td>4.54</td>\n",
       "      <td>2.88</td>\n",
       "      <td>8.63</td>\n",
       "      <td>1.79</td>\n",
       "      <td>5.83</td>\n",
       "      <td>5.88</td>\n",
       "      <td>5.46</td>\n",
       "      <td>10.88</td>\n",
       "    </tr>\n",
       "    <tr>\n",
       "      <th>4</th>\n",
       "      <td>2061-01-05</td>\n",
       "      <td>13.33</td>\n",
       "      <td>13.25</td>\n",
       "      <td>11.42</td>\n",
       "      <td>6.17</td>\n",
       "      <td>10.71</td>\n",
       "      <td>8.21</td>\n",
       "      <td>11.92</td>\n",
       "      <td>6.54</td>\n",
       "      <td>10.92</td>\n",
       "      <td>10.34</td>\n",
       "      <td>12.92</td>\n",
       "      <td>11.83</td>\n",
       "    </tr>\n",
       "  </tbody>\n",
       "</table>\n",
       "</div>"
      ],
      "text/plain": [
       "        Date    RPT    VAL    ROS    KIL    SHA   BIR    DUB    CLA    MUL  \\\n",
       "0 2061-01-01  15.04  14.96  13.17   9.29    NaN  9.87  13.67  10.25  10.83   \n",
       "1 2061-01-02  14.71    NaN  10.83   6.50  12.62  7.67  11.50  10.04   9.79   \n",
       "2 2061-01-03  18.50  16.88  12.33  10.13  11.17  6.17  11.25    NaN   8.50   \n",
       "3 2061-01-04  10.58   6.63  11.75   4.58   4.54  2.88   8.63   1.79   5.83   \n",
       "4 2061-01-05  13.33  13.25  11.42   6.17  10.71  8.21  11.92   6.54  10.92   \n",
       "\n",
       "     CLO    BEL    MAL  \n",
       "0  12.58  18.50  15.04  \n",
       "1   9.67  17.54  13.83  \n",
       "2   7.67  12.75  12.71  \n",
       "3   5.88   5.46  10.88  \n",
       "4  10.34  12.92  11.83  "
      ]
     },
     "execution_count": 31,
     "metadata": {},
     "output_type": "execute_result"
    }
   ],
   "source": [
    "data = pd.read_csv(\"wind.txt\", sep = \"\\s+\", parse_dates = {'Date':[0,1,2]})\n",
    "data.head()"
   ]
  },
  {
   "cell_type": "markdown",
   "id": "4fd27a95",
   "metadata": {},
   "source": [
    "Step 4. Year 2061? Do we really have data from this year? Create a function to fix it\n",
    "and apply it."
   ]
  },
  {
   "cell_type": "code",
   "execution_count": 32,
   "id": "adee6987",
   "metadata": {},
   "outputs": [
    {
     "data": {
      "text/html": [
       "<div>\n",
       "<style scoped>\n",
       "    .dataframe tbody tr th:only-of-type {\n",
       "        vertical-align: middle;\n",
       "    }\n",
       "\n",
       "    .dataframe tbody tr th {\n",
       "        vertical-align: top;\n",
       "    }\n",
       "\n",
       "    .dataframe thead th {\n",
       "        text-align: right;\n",
       "    }\n",
       "</style>\n",
       "<table border=\"1\" class=\"dataframe\">\n",
       "  <thead>\n",
       "    <tr style=\"text-align: right;\">\n",
       "      <th></th>\n",
       "      <th>Date</th>\n",
       "      <th>RPT</th>\n",
       "      <th>VAL</th>\n",
       "      <th>ROS</th>\n",
       "      <th>KIL</th>\n",
       "      <th>SHA</th>\n",
       "      <th>BIR</th>\n",
       "      <th>DUB</th>\n",
       "      <th>CLA</th>\n",
       "      <th>MUL</th>\n",
       "      <th>CLO</th>\n",
       "      <th>BEL</th>\n",
       "      <th>MAL</th>\n",
       "    </tr>\n",
       "  </thead>\n",
       "  <tbody>\n",
       "    <tr>\n",
       "      <th>0</th>\n",
       "      <td>1961-01-01</td>\n",
       "      <td>15.04</td>\n",
       "      <td>14.96</td>\n",
       "      <td>13.17</td>\n",
       "      <td>9.29</td>\n",
       "      <td>NaN</td>\n",
       "      <td>9.87</td>\n",
       "      <td>13.67</td>\n",
       "      <td>10.25</td>\n",
       "      <td>10.83</td>\n",
       "      <td>12.58</td>\n",
       "      <td>18.50</td>\n",
       "      <td>15.04</td>\n",
       "    </tr>\n",
       "    <tr>\n",
       "      <th>1</th>\n",
       "      <td>1961-01-02</td>\n",
       "      <td>14.71</td>\n",
       "      <td>NaN</td>\n",
       "      <td>10.83</td>\n",
       "      <td>6.50</td>\n",
       "      <td>12.62</td>\n",
       "      <td>7.67</td>\n",
       "      <td>11.50</td>\n",
       "      <td>10.04</td>\n",
       "      <td>9.79</td>\n",
       "      <td>9.67</td>\n",
       "      <td>17.54</td>\n",
       "      <td>13.83</td>\n",
       "    </tr>\n",
       "    <tr>\n",
       "      <th>2</th>\n",
       "      <td>1961-01-03</td>\n",
       "      <td>18.50</td>\n",
       "      <td>16.88</td>\n",
       "      <td>12.33</td>\n",
       "      <td>10.13</td>\n",
       "      <td>11.17</td>\n",
       "      <td>6.17</td>\n",
       "      <td>11.25</td>\n",
       "      <td>NaN</td>\n",
       "      <td>8.50</td>\n",
       "      <td>7.67</td>\n",
       "      <td>12.75</td>\n",
       "      <td>12.71</td>\n",
       "    </tr>\n",
       "    <tr>\n",
       "      <th>3</th>\n",
       "      <td>1961-01-04</td>\n",
       "      <td>10.58</td>\n",
       "      <td>6.63</td>\n",
       "      <td>11.75</td>\n",
       "      <td>4.58</td>\n",
       "      <td>4.54</td>\n",
       "      <td>2.88</td>\n",
       "      <td>8.63</td>\n",
       "      <td>1.79</td>\n",
       "      <td>5.83</td>\n",
       "      <td>5.88</td>\n",
       "      <td>5.46</td>\n",
       "      <td>10.88</td>\n",
       "    </tr>\n",
       "    <tr>\n",
       "      <th>4</th>\n",
       "      <td>1961-01-05</td>\n",
       "      <td>13.33</td>\n",
       "      <td>13.25</td>\n",
       "      <td>11.42</td>\n",
       "      <td>6.17</td>\n",
       "      <td>10.71</td>\n",
       "      <td>8.21</td>\n",
       "      <td>11.92</td>\n",
       "      <td>6.54</td>\n",
       "      <td>10.92</td>\n",
       "      <td>10.34</td>\n",
       "      <td>12.92</td>\n",
       "      <td>11.83</td>\n",
       "    </tr>\n",
       "    <tr>\n",
       "      <th>...</th>\n",
       "      <td>...</td>\n",
       "      <td>...</td>\n",
       "      <td>...</td>\n",
       "      <td>...</td>\n",
       "      <td>...</td>\n",
       "      <td>...</td>\n",
       "      <td>...</td>\n",
       "      <td>...</td>\n",
       "      <td>...</td>\n",
       "      <td>...</td>\n",
       "      <td>...</td>\n",
       "      <td>...</td>\n",
       "      <td>...</td>\n",
       "    </tr>\n",
       "    <tr>\n",
       "      <th>6569</th>\n",
       "      <td>1978-12-27</td>\n",
       "      <td>17.58</td>\n",
       "      <td>16.96</td>\n",
       "      <td>17.62</td>\n",
       "      <td>8.08</td>\n",
       "      <td>13.21</td>\n",
       "      <td>11.67</td>\n",
       "      <td>14.46</td>\n",
       "      <td>15.59</td>\n",
       "      <td>14.04</td>\n",
       "      <td>14.00</td>\n",
       "      <td>17.21</td>\n",
       "      <td>40.08</td>\n",
       "    </tr>\n",
       "    <tr>\n",
       "      <th>6570</th>\n",
       "      <td>1978-12-28</td>\n",
       "      <td>13.21</td>\n",
       "      <td>5.46</td>\n",
       "      <td>13.46</td>\n",
       "      <td>5.00</td>\n",
       "      <td>8.12</td>\n",
       "      <td>9.42</td>\n",
       "      <td>14.33</td>\n",
       "      <td>16.25</td>\n",
       "      <td>15.25</td>\n",
       "      <td>18.05</td>\n",
       "      <td>21.79</td>\n",
       "      <td>41.46</td>\n",
       "    </tr>\n",
       "    <tr>\n",
       "      <th>6571</th>\n",
       "      <td>1978-12-29</td>\n",
       "      <td>14.00</td>\n",
       "      <td>10.29</td>\n",
       "      <td>14.42</td>\n",
       "      <td>8.71</td>\n",
       "      <td>9.71</td>\n",
       "      <td>10.54</td>\n",
       "      <td>19.17</td>\n",
       "      <td>12.46</td>\n",
       "      <td>14.50</td>\n",
       "      <td>16.42</td>\n",
       "      <td>18.88</td>\n",
       "      <td>29.58</td>\n",
       "    </tr>\n",
       "    <tr>\n",
       "      <th>6572</th>\n",
       "      <td>1978-12-30</td>\n",
       "      <td>18.50</td>\n",
       "      <td>14.04</td>\n",
       "      <td>21.29</td>\n",
       "      <td>9.13</td>\n",
       "      <td>12.75</td>\n",
       "      <td>9.71</td>\n",
       "      <td>18.08</td>\n",
       "      <td>12.87</td>\n",
       "      <td>12.46</td>\n",
       "      <td>12.12</td>\n",
       "      <td>14.67</td>\n",
       "      <td>28.79</td>\n",
       "    </tr>\n",
       "    <tr>\n",
       "      <th>6573</th>\n",
       "      <td>1978-12-31</td>\n",
       "      <td>20.33</td>\n",
       "      <td>17.41</td>\n",
       "      <td>27.29</td>\n",
       "      <td>9.59</td>\n",
       "      <td>12.08</td>\n",
       "      <td>10.13</td>\n",
       "      <td>19.25</td>\n",
       "      <td>11.63</td>\n",
       "      <td>11.58</td>\n",
       "      <td>11.38</td>\n",
       "      <td>12.08</td>\n",
       "      <td>22.08</td>\n",
       "    </tr>\n",
       "  </tbody>\n",
       "</table>\n",
       "<p>6574 rows × 13 columns</p>\n",
       "</div>"
      ],
      "text/plain": [
       "            Date    RPT    VAL    ROS    KIL    SHA    BIR    DUB    CLA  \\\n",
       "0     1961-01-01  15.04  14.96  13.17   9.29    NaN   9.87  13.67  10.25   \n",
       "1     1961-01-02  14.71    NaN  10.83   6.50  12.62   7.67  11.50  10.04   \n",
       "2     1961-01-03  18.50  16.88  12.33  10.13  11.17   6.17  11.25    NaN   \n",
       "3     1961-01-04  10.58   6.63  11.75   4.58   4.54   2.88   8.63   1.79   \n",
       "4     1961-01-05  13.33  13.25  11.42   6.17  10.71   8.21  11.92   6.54   \n",
       "...          ...    ...    ...    ...    ...    ...    ...    ...    ...   \n",
       "6569  1978-12-27  17.58  16.96  17.62   8.08  13.21  11.67  14.46  15.59   \n",
       "6570  1978-12-28  13.21   5.46  13.46   5.00   8.12   9.42  14.33  16.25   \n",
       "6571  1978-12-29  14.00  10.29  14.42   8.71   9.71  10.54  19.17  12.46   \n",
       "6572  1978-12-30  18.50  14.04  21.29   9.13  12.75   9.71  18.08  12.87   \n",
       "6573  1978-12-31  20.33  17.41  27.29   9.59  12.08  10.13  19.25  11.63   \n",
       "\n",
       "        MUL    CLO    BEL    MAL  \n",
       "0     10.83  12.58  18.50  15.04  \n",
       "1      9.79   9.67  17.54  13.83  \n",
       "2      8.50   7.67  12.75  12.71  \n",
       "3      5.83   5.88   5.46  10.88  \n",
       "4     10.92  10.34  12.92  11.83  \n",
       "...     ...    ...    ...    ...  \n",
       "6569  14.04  14.00  17.21  40.08  \n",
       "6570  15.25  18.05  21.79  41.46  \n",
       "6571  14.50  16.42  18.88  29.58  \n",
       "6572  12.46  12.12  14.67  28.79  \n",
       "6573  11.58  11.38  12.08  22.08  \n",
       "\n",
       "[6574 rows x 13 columns]"
      ]
     },
     "execution_count": 32,
     "metadata": {},
     "output_type": "execute_result"
    }
   ],
   "source": [
    "import datetime as dt\n",
    "\n",
    "def correct_year(x):\n",
    "    if x.year > 2021:\n",
    "        year = x.year - 100\n",
    "    else:\n",
    "        year = x.year\n",
    "    return dt.date(year,x.month,x.day)\n",
    "\n",
    "data['Date']=data['Date'].apply(lambda x: correct_year(x))\n",
    "data"
   ]
  },
  {
   "cell_type": "markdown",
   "id": "46f607ba",
   "metadata": {},
   "source": [
    "Step 5. Set the right dates as the index. Pay attention at the data type, it should be\n",
    "datetime64[ns]."
   ]
  },
  {
   "cell_type": "code",
   "execution_count": 76,
   "id": "a85d6c40",
   "metadata": {},
   "outputs": [],
   "source": [
    "data['Date'] = data['Date'].astype('datetime64[ns]')\n",
    "\n",
    "\n",
    "data = data.set_index('Date')"
   ]
  },
  {
   "cell_type": "markdown",
   "id": "e19d4095",
   "metadata": {},
   "source": [
    "Step 6. Compute how many values are missing for each location over the entire\n",
    "record.They should be ignored in all calculations below."
   ]
  },
  {
   "cell_type": "code",
   "execution_count": 40,
   "id": "3c670747",
   "metadata": {},
   "outputs": [
    {
     "data": {
      "text/plain": [
       "Date    0\n",
       "RPT     6\n",
       "VAL     3\n",
       "ROS     2\n",
       "KIL     5\n",
       "SHA     2\n",
       "BIR     0\n",
       "DUB     3\n",
       "CLA     2\n",
       "MUL     3\n",
       "CLO     1\n",
       "BEL     0\n",
       "MAL     4\n",
       "dtype: int64"
      ]
     },
     "execution_count": 40,
     "metadata": {},
     "output_type": "execute_result"
    }
   ],
   "source": [
    "data.isnull().sum()"
   ]
  },
  {
   "cell_type": "markdown",
   "id": "c0eb90d1",
   "metadata": {},
   "source": [
    "Step 7. Compute how many non-missing values there are in total."
   ]
  },
  {
   "cell_type": "code",
   "execution_count": 41,
   "id": "2b0318f1",
   "metadata": {},
   "outputs": [
    {
     "data": {
      "text/plain": [
       "Date    6574\n",
       "RPT     6568\n",
       "VAL     6571\n",
       "ROS     6572\n",
       "KIL     6569\n",
       "SHA     6572\n",
       "BIR     6574\n",
       "DUB     6571\n",
       "CLA     6572\n",
       "MUL     6571\n",
       "CLO     6573\n",
       "BEL     6574\n",
       "MAL     6570\n",
       "dtype: int64"
      ]
     },
     "execution_count": 41,
     "metadata": {},
     "output_type": "execute_result"
    }
   ],
   "source": [
    "data.notnull().sum()"
   ]
  },
  {
   "cell_type": "code",
   "execution_count": 42,
   "id": "98cc52b1",
   "metadata": {},
   "outputs": [
    {
     "data": {
      "text/plain": [
       "85431"
      ]
     },
     "execution_count": 42,
     "metadata": {},
     "output_type": "execute_result"
    }
   ],
   "source": [
    "data.notnull().sum().sum()"
   ]
  },
  {
   "cell_type": "markdown",
   "id": "b8975d57",
   "metadata": {},
   "source": [
    "Step 8. Calculate the mean windspeeds of the windspeeds over all the locations and\n",
    "all the times.\n",
    "A single number for the entire dataset."
   ]
  },
  {
   "cell_type": "code",
   "execution_count": 46,
   "id": "3d501e52",
   "metadata": {},
   "outputs": [
    {
     "name": "stderr",
     "output_type": "stream",
     "text": [
      "C:\\Users\\divya\\AppData\\Local\\Temp/ipykernel_12576/1710108345.py:1: FutureWarning: DataFrame.mean and DataFrame.median with numeric_only=None will include datetime64 and datetime64tz columns in a future version.\n",
      "  data.mean().mean()\n"
     ]
    },
    {
     "data": {
      "text/plain": [
       "10.227982360836924"
      ]
     },
     "execution_count": 46,
     "metadata": {},
     "output_type": "execute_result"
    }
   ],
   "source": [
    "data.mean().mean()"
   ]
  },
  {
   "cell_type": "markdown",
   "id": "1aca13d8",
   "metadata": {},
   "source": [
    "Step 9. Create a DataFrame called loc_stats and calculate the min, max and mean\n",
    "windspeeds and standard deviations of the windspeeds at each location over all the\n",
    "days\n",
    "A different set of numbers for each location."
   ]
  },
  {
   "cell_type": "code",
   "execution_count": 49,
   "id": "c0dcce98",
   "metadata": {},
   "outputs": [
    {
     "data": {
      "text/html": [
       "<div>\n",
       "<style scoped>\n",
       "    .dataframe tbody tr th:only-of-type {\n",
       "        vertical-align: middle;\n",
       "    }\n",
       "\n",
       "    .dataframe tbody tr th {\n",
       "        vertical-align: top;\n",
       "    }\n",
       "\n",
       "    .dataframe thead th {\n",
       "        text-align: right;\n",
       "    }\n",
       "</style>\n",
       "<table border=\"1\" class=\"dataframe\">\n",
       "  <thead>\n",
       "    <tr style=\"text-align: right;\">\n",
       "      <th></th>\n",
       "      <th>Date</th>\n",
       "      <th>RPT</th>\n",
       "      <th>VAL</th>\n",
       "      <th>ROS</th>\n",
       "      <th>KIL</th>\n",
       "      <th>SHA</th>\n",
       "      <th>BIR</th>\n",
       "      <th>DUB</th>\n",
       "      <th>CLA</th>\n",
       "      <th>MUL</th>\n",
       "      <th>CLO</th>\n",
       "      <th>BEL</th>\n",
       "      <th>MAL</th>\n",
       "    </tr>\n",
       "  </thead>\n",
       "  <tbody>\n",
       "    <tr>\n",
       "      <th>count</th>\n",
       "      <td>6574</td>\n",
       "      <td>6568.000000</td>\n",
       "      <td>6571.000000</td>\n",
       "      <td>6572.000000</td>\n",
       "      <td>6569.000000</td>\n",
       "      <td>6572.000000</td>\n",
       "      <td>6574.000000</td>\n",
       "      <td>6571.000000</td>\n",
       "      <td>6572.000000</td>\n",
       "      <td>6571.000000</td>\n",
       "      <td>6573.000000</td>\n",
       "      <td>6574.000000</td>\n",
       "      <td>6570.000000</td>\n",
       "    </tr>\n",
       "    <tr>\n",
       "      <th>min</th>\n",
       "      <td>1961-01-01 00:00:00</td>\n",
       "      <td>0.670000</td>\n",
       "      <td>0.210000</td>\n",
       "      <td>1.500000</td>\n",
       "      <td>0.000000</td>\n",
       "      <td>0.130000</td>\n",
       "      <td>0.000000</td>\n",
       "      <td>0.000000</td>\n",
       "      <td>0.000000</td>\n",
       "      <td>0.000000</td>\n",
       "      <td>0.040000</td>\n",
       "      <td>0.130000</td>\n",
       "      <td>0.670000</td>\n",
       "    </tr>\n",
       "    <tr>\n",
       "      <th>max</th>\n",
       "      <td>1978-12-31 00:00:00</td>\n",
       "      <td>35.800000</td>\n",
       "      <td>33.370000</td>\n",
       "      <td>33.840000</td>\n",
       "      <td>28.460000</td>\n",
       "      <td>37.540000</td>\n",
       "      <td>26.160000</td>\n",
       "      <td>30.370000</td>\n",
       "      <td>31.080000</td>\n",
       "      <td>25.880000</td>\n",
       "      <td>28.210000</td>\n",
       "      <td>42.380000</td>\n",
       "      <td>42.540000</td>\n",
       "    </tr>\n",
       "    <tr>\n",
       "      <th>mean</th>\n",
       "      <td>1969-12-31 12:00:00</td>\n",
       "      <td>12.362987</td>\n",
       "      <td>10.644314</td>\n",
       "      <td>11.660526</td>\n",
       "      <td>6.306468</td>\n",
       "      <td>10.455834</td>\n",
       "      <td>7.092254</td>\n",
       "      <td>9.797343</td>\n",
       "      <td>8.495053</td>\n",
       "      <td>8.493590</td>\n",
       "      <td>8.707332</td>\n",
       "      <td>13.121007</td>\n",
       "      <td>15.599079</td>\n",
       "    </tr>\n",
       "    <tr>\n",
       "      <th>std</th>\n",
       "      <td>1897 days 21:28:19.220597120</td>\n",
       "      <td>5.618413</td>\n",
       "      <td>5.267356</td>\n",
       "      <td>5.008450</td>\n",
       "      <td>3.605811</td>\n",
       "      <td>4.936125</td>\n",
       "      <td>3.968683</td>\n",
       "      <td>4.977555</td>\n",
       "      <td>4.499449</td>\n",
       "      <td>4.166872</td>\n",
       "      <td>4.503954</td>\n",
       "      <td>5.835037</td>\n",
       "      <td>6.699794</td>\n",
       "    </tr>\n",
       "  </tbody>\n",
       "</table>\n",
       "</div>"
      ],
      "text/plain": [
       "                               Date          RPT          VAL          ROS  \\\n",
       "count                          6574  6568.000000  6571.000000  6572.000000   \n",
       "min             1961-01-01 00:00:00     0.670000     0.210000     1.500000   \n",
       "max             1978-12-31 00:00:00    35.800000    33.370000    33.840000   \n",
       "mean            1969-12-31 12:00:00    12.362987    10.644314    11.660526   \n",
       "std    1897 days 21:28:19.220597120     5.618413     5.267356     5.008450   \n",
       "\n",
       "               KIL          SHA          BIR          DUB          CLA  \\\n",
       "count  6569.000000  6572.000000  6574.000000  6571.000000  6572.000000   \n",
       "min       0.000000     0.130000     0.000000     0.000000     0.000000   \n",
       "max      28.460000    37.540000    26.160000    30.370000    31.080000   \n",
       "mean      6.306468    10.455834     7.092254     9.797343     8.495053   \n",
       "std       3.605811     4.936125     3.968683     4.977555     4.499449   \n",
       "\n",
       "               MUL          CLO          BEL          MAL  \n",
       "count  6571.000000  6573.000000  6574.000000  6570.000000  \n",
       "min       0.000000     0.040000     0.130000     0.670000  \n",
       "max      25.880000    28.210000    42.380000    42.540000  \n",
       "mean      8.493590     8.707332    13.121007    15.599079  \n",
       "std       4.166872     4.503954     5.835037     6.699794  "
      ]
     },
     "execution_count": 49,
     "metadata": {},
     "output_type": "execute_result"
    }
   ],
   "source": [
    "loc_stats = data.agg([\"count\",\"min\",\"max\",\"mean\",\"std\"])\n",
    "loc_stats"
   ]
  },
  {
   "cell_type": "markdown",
   "id": "834cf518",
   "metadata": {},
   "source": [
    "Step 10. Create a DataFrame called day_stats and calculate the min, max and mean\n",
    "windspeed and standard deviations of the windspeeds across all the locations at each\n",
    "day.\n",
    "A different set of numbers for each day."
   ]
  },
  {
   "cell_type": "code",
   "execution_count": 82,
   "id": "e4054bd6",
   "metadata": {},
   "outputs": [
    {
     "data": {
      "text/html": [
       "<div>\n",
       "<style scoped>\n",
       "    .dataframe tbody tr th:only-of-type {\n",
       "        vertical-align: middle;\n",
       "    }\n",
       "\n",
       "    .dataframe tbody tr th {\n",
       "        vertical-align: top;\n",
       "    }\n",
       "\n",
       "    .dataframe thead th {\n",
       "        text-align: right;\n",
       "    }\n",
       "</style>\n",
       "<table border=\"1\" class=\"dataframe\">\n",
       "  <thead>\n",
       "    <tr style=\"text-align: right;\">\n",
       "      <th></th>\n",
       "      <th>min</th>\n",
       "      <th>max</th>\n",
       "      <th>mean</th>\n",
       "      <th>std</th>\n",
       "    </tr>\n",
       "    <tr>\n",
       "      <th>Date</th>\n",
       "      <th></th>\n",
       "      <th></th>\n",
       "      <th></th>\n",
       "      <th></th>\n",
       "    </tr>\n",
       "  </thead>\n",
       "  <tbody>\n",
       "    <tr>\n",
       "      <th>1961-01-01</th>\n",
       "      <td>9.29</td>\n",
       "      <td>18.50</td>\n",
       "      <td>13.018182</td>\n",
       "      <td>2.808875</td>\n",
       "    </tr>\n",
       "    <tr>\n",
       "      <th>1961-01-02</th>\n",
       "      <td>6.50</td>\n",
       "      <td>17.54</td>\n",
       "      <td>11.336364</td>\n",
       "      <td>3.188994</td>\n",
       "    </tr>\n",
       "    <tr>\n",
       "      <th>1961-01-03</th>\n",
       "      <td>6.17</td>\n",
       "      <td>18.50</td>\n",
       "      <td>11.641818</td>\n",
       "      <td>3.681912</td>\n",
       "    </tr>\n",
       "    <tr>\n",
       "      <th>1961-01-04</th>\n",
       "      <td>1.79</td>\n",
       "      <td>11.75</td>\n",
       "      <td>6.619167</td>\n",
       "      <td>3.198126</td>\n",
       "    </tr>\n",
       "    <tr>\n",
       "      <th>1961-01-05</th>\n",
       "      <td>6.17</td>\n",
       "      <td>13.33</td>\n",
       "      <td>10.630000</td>\n",
       "      <td>2.445356</td>\n",
       "    </tr>\n",
       "  </tbody>\n",
       "</table>\n",
       "</div>"
      ],
      "text/plain": [
       "             min    max       mean       std\n",
       "Date                                        \n",
       "1961-01-01  9.29  18.50  13.018182  2.808875\n",
       "1961-01-02  6.50  17.54  11.336364  3.188994\n",
       "1961-01-03  6.17  18.50  11.641818  3.681912\n",
       "1961-01-04  1.79  11.75   6.619167  3.198126\n",
       "1961-01-05  6.17  13.33  10.630000  2.445356"
      ]
     },
     "execution_count": 82,
     "metadata": {},
     "output_type": "execute_result"
    }
   ],
   "source": [
    "day_stats=pd.DataFrame()\n",
    "day_stats['min']=data.min(axis=1)\n",
    "day_stats['max']=data.max(axis=1)\n",
    "day_stats['mean']=data.mean(axis=1)\n",
    "day_stats['std']=data.std(axis=1)\n",
    "\n",
    "day_stats.head()"
   ]
  },
  {
   "cell_type": "markdown",
   "id": "95289e40",
   "metadata": {},
   "source": [
    "Step 11. Find the average windspeed in January for each location.\n",
    "Treat January 1961 and January 1962 both as January."
   ]
  },
  {
   "cell_type": "code",
   "execution_count": 83,
   "id": "9cf62183",
   "metadata": {},
   "outputs": [
    {
     "data": {
      "text/plain": [
       "RPT    14.847325\n",
       "VAL    12.914560\n",
       "ROS    13.299624\n",
       "KIL     7.199498\n",
       "SHA    11.667734\n",
       "BIR     8.054839\n",
       "DUB    11.819355\n",
       "CLA     9.512047\n",
       "MUL     9.543208\n",
       "CLO    10.053566\n",
       "BEL    14.550520\n",
       "MAL    18.028763\n",
       "dtype: float64"
      ]
     },
     "execution_count": 83,
     "metadata": {},
     "output_type": "execute_result"
    }
   ],
   "source": [
    "avg_windspeed=data[data.index.month==1]\n",
    "avg_windspeed.mean()"
   ]
  },
  {
   "cell_type": "markdown",
   "id": "353a9adf",
   "metadata": {},
   "source": [
    "Step 12. Downsample the record to a yearly frequency for each location."
   ]
  },
  {
   "cell_type": "code",
   "execution_count": 84,
   "id": "f484bb10",
   "metadata": {},
   "outputs": [
    {
     "data": {
      "text/html": [
       "<div>\n",
       "<style scoped>\n",
       "    .dataframe tbody tr th:only-of-type {\n",
       "        vertical-align: middle;\n",
       "    }\n",
       "\n",
       "    .dataframe tbody tr th {\n",
       "        vertical-align: top;\n",
       "    }\n",
       "\n",
       "    .dataframe thead th {\n",
       "        text-align: right;\n",
       "    }\n",
       "</style>\n",
       "<table border=\"1\" class=\"dataframe\">\n",
       "  <thead>\n",
       "    <tr style=\"text-align: right;\">\n",
       "      <th></th>\n",
       "      <th>RPT</th>\n",
       "      <th>VAL</th>\n",
       "      <th>ROS</th>\n",
       "      <th>KIL</th>\n",
       "      <th>SHA</th>\n",
       "      <th>BIR</th>\n",
       "      <th>DUB</th>\n",
       "      <th>CLA</th>\n",
       "      <th>MUL</th>\n",
       "      <th>CLO</th>\n",
       "      <th>BEL</th>\n",
       "      <th>MAL</th>\n",
       "    </tr>\n",
       "    <tr>\n",
       "      <th>Date</th>\n",
       "      <th></th>\n",
       "      <th></th>\n",
       "      <th></th>\n",
       "      <th></th>\n",
       "      <th></th>\n",
       "      <th></th>\n",
       "      <th></th>\n",
       "      <th></th>\n",
       "      <th></th>\n",
       "      <th></th>\n",
       "      <th></th>\n",
       "      <th></th>\n",
       "    </tr>\n",
       "  </thead>\n",
       "  <tbody>\n",
       "    <tr>\n",
       "      <th>1961-12-31</th>\n",
       "      <td>12.299583</td>\n",
       "      <td>10.351796</td>\n",
       "      <td>11.362369</td>\n",
       "      <td>6.958227</td>\n",
       "      <td>10.881763</td>\n",
       "      <td>7.729726</td>\n",
       "      <td>9.733923</td>\n",
       "      <td>8.858788</td>\n",
       "      <td>8.647652</td>\n",
       "      <td>9.835577</td>\n",
       "      <td>13.502795</td>\n",
       "      <td>13.680773</td>\n",
       "    </tr>\n",
       "    <tr>\n",
       "      <th>1962-12-31</th>\n",
       "      <td>12.246923</td>\n",
       "      <td>10.110438</td>\n",
       "      <td>11.732712</td>\n",
       "      <td>6.960440</td>\n",
       "      <td>10.657918</td>\n",
       "      <td>7.393068</td>\n",
       "      <td>11.020712</td>\n",
       "      <td>8.793753</td>\n",
       "      <td>8.316822</td>\n",
       "      <td>9.676247</td>\n",
       "      <td>12.930685</td>\n",
       "      <td>14.323956</td>\n",
       "    </tr>\n",
       "    <tr>\n",
       "      <th>1963-12-31</th>\n",
       "      <td>12.813452</td>\n",
       "      <td>10.836986</td>\n",
       "      <td>12.541151</td>\n",
       "      <td>7.330055</td>\n",
       "      <td>11.724110</td>\n",
       "      <td>8.434712</td>\n",
       "      <td>11.075699</td>\n",
       "      <td>10.336548</td>\n",
       "      <td>8.903589</td>\n",
       "      <td>10.224438</td>\n",
       "      <td>13.638877</td>\n",
       "      <td>14.999014</td>\n",
       "    </tr>\n",
       "    <tr>\n",
       "      <th>1964-12-31</th>\n",
       "      <td>12.363661</td>\n",
       "      <td>10.920164</td>\n",
       "      <td>12.104372</td>\n",
       "      <td>6.787787</td>\n",
       "      <td>11.454481</td>\n",
       "      <td>7.570874</td>\n",
       "      <td>10.259153</td>\n",
       "      <td>9.467350</td>\n",
       "      <td>7.789016</td>\n",
       "      <td>10.207951</td>\n",
       "      <td>13.740546</td>\n",
       "      <td>14.910301</td>\n",
       "    </tr>\n",
       "    <tr>\n",
       "      <th>1965-12-31</th>\n",
       "      <td>12.451370</td>\n",
       "      <td>11.075534</td>\n",
       "      <td>11.848767</td>\n",
       "      <td>6.858466</td>\n",
       "      <td>11.024795</td>\n",
       "      <td>7.478110</td>\n",
       "      <td>10.618712</td>\n",
       "      <td>8.879918</td>\n",
       "      <td>7.907425</td>\n",
       "      <td>9.918082</td>\n",
       "      <td>12.964247</td>\n",
       "      <td>15.591644</td>\n",
       "    </tr>\n",
       "    <tr>\n",
       "      <th>1966-12-31</th>\n",
       "      <td>13.461973</td>\n",
       "      <td>11.557205</td>\n",
       "      <td>12.020630</td>\n",
       "      <td>7.345726</td>\n",
       "      <td>11.805041</td>\n",
       "      <td>7.793671</td>\n",
       "      <td>10.579808</td>\n",
       "      <td>8.835096</td>\n",
       "      <td>8.514438</td>\n",
       "      <td>9.768959</td>\n",
       "      <td>14.265836</td>\n",
       "      <td>16.307260</td>\n",
       "    </tr>\n",
       "    <tr>\n",
       "      <th>1967-12-31</th>\n",
       "      <td>12.737151</td>\n",
       "      <td>10.990986</td>\n",
       "      <td>11.739397</td>\n",
       "      <td>7.143425</td>\n",
       "      <td>11.630740</td>\n",
       "      <td>7.368164</td>\n",
       "      <td>10.652027</td>\n",
       "      <td>9.325616</td>\n",
       "      <td>8.645014</td>\n",
       "      <td>9.547425</td>\n",
       "      <td>14.774548</td>\n",
       "      <td>17.135945</td>\n",
       "    </tr>\n",
       "    <tr>\n",
       "      <th>1968-12-31</th>\n",
       "      <td>11.835628</td>\n",
       "      <td>10.468197</td>\n",
       "      <td>11.409754</td>\n",
       "      <td>6.477678</td>\n",
       "      <td>10.760765</td>\n",
       "      <td>6.067322</td>\n",
       "      <td>8.859180</td>\n",
       "      <td>8.255519</td>\n",
       "      <td>7.224945</td>\n",
       "      <td>7.832978</td>\n",
       "      <td>12.808634</td>\n",
       "      <td>15.017486</td>\n",
       "    </tr>\n",
       "    <tr>\n",
       "      <th>1969-12-31</th>\n",
       "      <td>11.166356</td>\n",
       "      <td>9.723699</td>\n",
       "      <td>10.902000</td>\n",
       "      <td>5.767973</td>\n",
       "      <td>9.873918</td>\n",
       "      <td>6.189973</td>\n",
       "      <td>8.564493</td>\n",
       "      <td>7.711397</td>\n",
       "      <td>7.924521</td>\n",
       "      <td>7.754384</td>\n",
       "      <td>12.621233</td>\n",
       "      <td>15.762904</td>\n",
       "    </tr>\n",
       "    <tr>\n",
       "      <th>1970-12-31</th>\n",
       "      <td>12.600329</td>\n",
       "      <td>10.726932</td>\n",
       "      <td>11.730247</td>\n",
       "      <td>6.217178</td>\n",
       "      <td>10.567370</td>\n",
       "      <td>7.609452</td>\n",
       "      <td>9.609890</td>\n",
       "      <td>8.334630</td>\n",
       "      <td>9.297616</td>\n",
       "      <td>8.289808</td>\n",
       "      <td>13.183644</td>\n",
       "      <td>16.456027</td>\n",
       "    </tr>\n",
       "    <tr>\n",
       "      <th>1971-12-31</th>\n",
       "      <td>11.273123</td>\n",
       "      <td>9.095178</td>\n",
       "      <td>11.088329</td>\n",
       "      <td>5.241507</td>\n",
       "      <td>9.440329</td>\n",
       "      <td>6.097151</td>\n",
       "      <td>8.385890</td>\n",
       "      <td>6.757315</td>\n",
       "      <td>7.915370</td>\n",
       "      <td>7.229753</td>\n",
       "      <td>12.208932</td>\n",
       "      <td>15.025233</td>\n",
       "    </tr>\n",
       "    <tr>\n",
       "      <th>1972-12-31</th>\n",
       "      <td>12.463962</td>\n",
       "      <td>10.561311</td>\n",
       "      <td>12.058333</td>\n",
       "      <td>5.929699</td>\n",
       "      <td>9.430410</td>\n",
       "      <td>6.358825</td>\n",
       "      <td>9.704508</td>\n",
       "      <td>7.680792</td>\n",
       "      <td>8.357295</td>\n",
       "      <td>7.515273</td>\n",
       "      <td>12.727377</td>\n",
       "      <td>15.028716</td>\n",
       "    </tr>\n",
       "    <tr>\n",
       "      <th>1973-12-31</th>\n",
       "      <td>11.828466</td>\n",
       "      <td>10.680493</td>\n",
       "      <td>10.680493</td>\n",
       "      <td>5.547863</td>\n",
       "      <td>9.640877</td>\n",
       "      <td>6.548740</td>\n",
       "      <td>8.482110</td>\n",
       "      <td>7.614274</td>\n",
       "      <td>8.245534</td>\n",
       "      <td>7.812411</td>\n",
       "      <td>12.169699</td>\n",
       "      <td>15.441096</td>\n",
       "    </tr>\n",
       "    <tr>\n",
       "      <th>1974-12-31</th>\n",
       "      <td>13.643096</td>\n",
       "      <td>11.811781</td>\n",
       "      <td>12.336356</td>\n",
       "      <td>6.427041</td>\n",
       "      <td>11.110986</td>\n",
       "      <td>6.809781</td>\n",
       "      <td>10.084603</td>\n",
       "      <td>9.896986</td>\n",
       "      <td>9.331753</td>\n",
       "      <td>8.736356</td>\n",
       "      <td>13.252959</td>\n",
       "      <td>16.947671</td>\n",
       "    </tr>\n",
       "    <tr>\n",
       "      <th>1975-12-31</th>\n",
       "      <td>12.008575</td>\n",
       "      <td>10.293836</td>\n",
       "      <td>11.564712</td>\n",
       "      <td>5.269096</td>\n",
       "      <td>9.190082</td>\n",
       "      <td>5.668521</td>\n",
       "      <td>8.562603</td>\n",
       "      <td>7.843836</td>\n",
       "      <td>8.797945</td>\n",
       "      <td>7.382822</td>\n",
       "      <td>12.631671</td>\n",
       "      <td>15.307863</td>\n",
       "    </tr>\n",
       "    <tr>\n",
       "      <th>1976-12-31</th>\n",
       "      <td>11.737842</td>\n",
       "      <td>10.203115</td>\n",
       "      <td>10.761230</td>\n",
       "      <td>5.109426</td>\n",
       "      <td>8.846339</td>\n",
       "      <td>6.311038</td>\n",
       "      <td>9.149126</td>\n",
       "      <td>7.146202</td>\n",
       "      <td>8.883716</td>\n",
       "      <td>7.883087</td>\n",
       "      <td>12.332377</td>\n",
       "      <td>15.471448</td>\n",
       "    </tr>\n",
       "    <tr>\n",
       "      <th>1977-12-31</th>\n",
       "      <td>13.099616</td>\n",
       "      <td>11.144493</td>\n",
       "      <td>12.627836</td>\n",
       "      <td>6.073945</td>\n",
       "      <td>10.003836</td>\n",
       "      <td>8.586438</td>\n",
       "      <td>11.523205</td>\n",
       "      <td>8.378384</td>\n",
       "      <td>9.098192</td>\n",
       "      <td>8.821616</td>\n",
       "      <td>13.459068</td>\n",
       "      <td>16.590849</td>\n",
       "    </tr>\n",
       "    <tr>\n",
       "      <th>1978-12-31</th>\n",
       "      <td>12.504356</td>\n",
       "      <td>11.044274</td>\n",
       "      <td>11.380000</td>\n",
       "      <td>6.082356</td>\n",
       "      <td>10.167233</td>\n",
       "      <td>7.650658</td>\n",
       "      <td>9.489342</td>\n",
       "      <td>8.800466</td>\n",
       "      <td>9.089753</td>\n",
       "      <td>8.301699</td>\n",
       "      <td>12.967397</td>\n",
       "      <td>16.771370</td>\n",
       "    </tr>\n",
       "  </tbody>\n",
       "</table>\n",
       "</div>"
      ],
      "text/plain": [
       "                  RPT        VAL        ROS       KIL        SHA       BIR  \\\n",
       "Date                                                                         \n",
       "1961-12-31  12.299583  10.351796  11.362369  6.958227  10.881763  7.729726   \n",
       "1962-12-31  12.246923  10.110438  11.732712  6.960440  10.657918  7.393068   \n",
       "1963-12-31  12.813452  10.836986  12.541151  7.330055  11.724110  8.434712   \n",
       "1964-12-31  12.363661  10.920164  12.104372  6.787787  11.454481  7.570874   \n",
       "1965-12-31  12.451370  11.075534  11.848767  6.858466  11.024795  7.478110   \n",
       "1966-12-31  13.461973  11.557205  12.020630  7.345726  11.805041  7.793671   \n",
       "1967-12-31  12.737151  10.990986  11.739397  7.143425  11.630740  7.368164   \n",
       "1968-12-31  11.835628  10.468197  11.409754  6.477678  10.760765  6.067322   \n",
       "1969-12-31  11.166356   9.723699  10.902000  5.767973   9.873918  6.189973   \n",
       "1970-12-31  12.600329  10.726932  11.730247  6.217178  10.567370  7.609452   \n",
       "1971-12-31  11.273123   9.095178  11.088329  5.241507   9.440329  6.097151   \n",
       "1972-12-31  12.463962  10.561311  12.058333  5.929699   9.430410  6.358825   \n",
       "1973-12-31  11.828466  10.680493  10.680493  5.547863   9.640877  6.548740   \n",
       "1974-12-31  13.643096  11.811781  12.336356  6.427041  11.110986  6.809781   \n",
       "1975-12-31  12.008575  10.293836  11.564712  5.269096   9.190082  5.668521   \n",
       "1976-12-31  11.737842  10.203115  10.761230  5.109426   8.846339  6.311038   \n",
       "1977-12-31  13.099616  11.144493  12.627836  6.073945  10.003836  8.586438   \n",
       "1978-12-31  12.504356  11.044274  11.380000  6.082356  10.167233  7.650658   \n",
       "\n",
       "                  DUB        CLA       MUL        CLO        BEL        MAL  \n",
       "Date                                                                         \n",
       "1961-12-31   9.733923   8.858788  8.647652   9.835577  13.502795  13.680773  \n",
       "1962-12-31  11.020712   8.793753  8.316822   9.676247  12.930685  14.323956  \n",
       "1963-12-31  11.075699  10.336548  8.903589  10.224438  13.638877  14.999014  \n",
       "1964-12-31  10.259153   9.467350  7.789016  10.207951  13.740546  14.910301  \n",
       "1965-12-31  10.618712   8.879918  7.907425   9.918082  12.964247  15.591644  \n",
       "1966-12-31  10.579808   8.835096  8.514438   9.768959  14.265836  16.307260  \n",
       "1967-12-31  10.652027   9.325616  8.645014   9.547425  14.774548  17.135945  \n",
       "1968-12-31   8.859180   8.255519  7.224945   7.832978  12.808634  15.017486  \n",
       "1969-12-31   8.564493   7.711397  7.924521   7.754384  12.621233  15.762904  \n",
       "1970-12-31   9.609890   8.334630  9.297616   8.289808  13.183644  16.456027  \n",
       "1971-12-31   8.385890   6.757315  7.915370   7.229753  12.208932  15.025233  \n",
       "1972-12-31   9.704508   7.680792  8.357295   7.515273  12.727377  15.028716  \n",
       "1973-12-31   8.482110   7.614274  8.245534   7.812411  12.169699  15.441096  \n",
       "1974-12-31  10.084603   9.896986  9.331753   8.736356  13.252959  16.947671  \n",
       "1975-12-31   8.562603   7.843836  8.797945   7.382822  12.631671  15.307863  \n",
       "1976-12-31   9.149126   7.146202  8.883716   7.883087  12.332377  15.471448  \n",
       "1977-12-31  11.523205   8.378384  9.098192   8.821616  13.459068  16.590849  \n",
       "1978-12-31   9.489342   8.800466  9.089753   8.301699  12.967397  16.771370  "
      ]
     },
     "execution_count": 84,
     "metadata": {},
     "output_type": "execute_result"
    }
   ],
   "source": [
    "yearly_freq = data.resample(rule = \"Y\")\n",
    "\n",
    "yearly_freq.mean()"
   ]
  },
  {
   "cell_type": "markdown",
   "id": "f47ba4c4",
   "metadata": {},
   "source": [
    "Step 13. Downsample the record to a monthly frequency for each location."
   ]
  },
  {
   "cell_type": "code",
   "execution_count": 86,
   "id": "6764b389",
   "metadata": {},
   "outputs": [
    {
     "data": {
      "text/html": [
       "<div>\n",
       "<style scoped>\n",
       "    .dataframe tbody tr th:only-of-type {\n",
       "        vertical-align: middle;\n",
       "    }\n",
       "\n",
       "    .dataframe tbody tr th {\n",
       "        vertical-align: top;\n",
       "    }\n",
       "\n",
       "    .dataframe thead th {\n",
       "        text-align: right;\n",
       "    }\n",
       "</style>\n",
       "<table border=\"1\" class=\"dataframe\">\n",
       "  <thead>\n",
       "    <tr style=\"text-align: right;\">\n",
       "      <th></th>\n",
       "      <th>RPT</th>\n",
       "      <th>VAL</th>\n",
       "      <th>ROS</th>\n",
       "      <th>KIL</th>\n",
       "      <th>SHA</th>\n",
       "      <th>BIR</th>\n",
       "      <th>DUB</th>\n",
       "      <th>CLA</th>\n",
       "      <th>MUL</th>\n",
       "      <th>CLO</th>\n",
       "      <th>BEL</th>\n",
       "      <th>MAL</th>\n",
       "    </tr>\n",
       "    <tr>\n",
       "      <th>Date</th>\n",
       "      <th></th>\n",
       "      <th></th>\n",
       "      <th></th>\n",
       "      <th></th>\n",
       "      <th></th>\n",
       "      <th></th>\n",
       "      <th></th>\n",
       "      <th></th>\n",
       "      <th></th>\n",
       "      <th></th>\n",
       "      <th></th>\n",
       "      <th></th>\n",
       "    </tr>\n",
       "  </thead>\n",
       "  <tbody>\n",
       "    <tr>\n",
       "      <th>1961-01-31</th>\n",
       "      <td>14.841333</td>\n",
       "      <td>11.988333</td>\n",
       "      <td>13.431613</td>\n",
       "      <td>7.736774</td>\n",
       "      <td>11.072759</td>\n",
       "      <td>8.588065</td>\n",
       "      <td>11.184839</td>\n",
       "      <td>9.245333</td>\n",
       "      <td>9.085806</td>\n",
       "      <td>10.107419</td>\n",
       "      <td>13.880968</td>\n",
       "      <td>14.703226</td>\n",
       "    </tr>\n",
       "    <tr>\n",
       "      <th>1961-02-28</th>\n",
       "      <td>16.269286</td>\n",
       "      <td>14.975357</td>\n",
       "      <td>14.441481</td>\n",
       "      <td>9.230741</td>\n",
       "      <td>13.852143</td>\n",
       "      <td>10.937500</td>\n",
       "      <td>11.890714</td>\n",
       "      <td>11.846071</td>\n",
       "      <td>11.821429</td>\n",
       "      <td>12.714286</td>\n",
       "      <td>18.583214</td>\n",
       "      <td>15.411786</td>\n",
       "    </tr>\n",
       "    <tr>\n",
       "      <th>1961-03-31</th>\n",
       "      <td>10.890000</td>\n",
       "      <td>11.296452</td>\n",
       "      <td>10.752903</td>\n",
       "      <td>7.284000</td>\n",
       "      <td>10.509355</td>\n",
       "      <td>8.866774</td>\n",
       "      <td>9.644194</td>\n",
       "      <td>9.829677</td>\n",
       "      <td>10.294138</td>\n",
       "      <td>11.251935</td>\n",
       "      <td>16.410968</td>\n",
       "      <td>15.720000</td>\n",
       "    </tr>\n",
       "    <tr>\n",
       "      <th>1961-04-30</th>\n",
       "      <td>10.722667</td>\n",
       "      <td>9.427667</td>\n",
       "      <td>9.998000</td>\n",
       "      <td>5.830667</td>\n",
       "      <td>8.435000</td>\n",
       "      <td>6.495000</td>\n",
       "      <td>6.925333</td>\n",
       "      <td>7.094667</td>\n",
       "      <td>7.342333</td>\n",
       "      <td>7.237000</td>\n",
       "      <td>11.147333</td>\n",
       "      <td>10.278333</td>\n",
       "    </tr>\n",
       "    <tr>\n",
       "      <th>1961-05-31</th>\n",
       "      <td>9.860968</td>\n",
       "      <td>8.850000</td>\n",
       "      <td>10.818065</td>\n",
       "      <td>5.905333</td>\n",
       "      <td>9.490323</td>\n",
       "      <td>6.574839</td>\n",
       "      <td>7.604000</td>\n",
       "      <td>8.177097</td>\n",
       "      <td>8.039355</td>\n",
       "      <td>8.499355</td>\n",
       "      <td>11.900323</td>\n",
       "      <td>12.011613</td>\n",
       "    </tr>\n",
       "    <tr>\n",
       "      <th>...</th>\n",
       "      <td>...</td>\n",
       "      <td>...</td>\n",
       "      <td>...</td>\n",
       "      <td>...</td>\n",
       "      <td>...</td>\n",
       "      <td>...</td>\n",
       "      <td>...</td>\n",
       "      <td>...</td>\n",
       "      <td>...</td>\n",
       "      <td>...</td>\n",
       "      <td>...</td>\n",
       "      <td>...</td>\n",
       "    </tr>\n",
       "    <tr>\n",
       "      <th>1978-08-31</th>\n",
       "      <td>9.645161</td>\n",
       "      <td>8.259355</td>\n",
       "      <td>9.032258</td>\n",
       "      <td>4.502903</td>\n",
       "      <td>7.368065</td>\n",
       "      <td>5.935161</td>\n",
       "      <td>5.650323</td>\n",
       "      <td>5.417742</td>\n",
       "      <td>7.241290</td>\n",
       "      <td>5.536774</td>\n",
       "      <td>10.466774</td>\n",
       "      <td>12.054194</td>\n",
       "    </tr>\n",
       "    <tr>\n",
       "      <th>1978-09-30</th>\n",
       "      <td>10.913667</td>\n",
       "      <td>10.895000</td>\n",
       "      <td>10.635000</td>\n",
       "      <td>5.725000</td>\n",
       "      <td>10.372000</td>\n",
       "      <td>9.278333</td>\n",
       "      <td>10.790333</td>\n",
       "      <td>9.583000</td>\n",
       "      <td>10.069333</td>\n",
       "      <td>8.939000</td>\n",
       "      <td>15.680333</td>\n",
       "      <td>19.391333</td>\n",
       "    </tr>\n",
       "    <tr>\n",
       "      <th>1978-10-31</th>\n",
       "      <td>9.897742</td>\n",
       "      <td>8.670968</td>\n",
       "      <td>9.295806</td>\n",
       "      <td>4.721290</td>\n",
       "      <td>8.525161</td>\n",
       "      <td>6.774194</td>\n",
       "      <td>8.115484</td>\n",
       "      <td>7.337742</td>\n",
       "      <td>8.297742</td>\n",
       "      <td>8.243871</td>\n",
       "      <td>13.776774</td>\n",
       "      <td>17.150000</td>\n",
       "    </tr>\n",
       "    <tr>\n",
       "      <th>1978-11-30</th>\n",
       "      <td>16.151667</td>\n",
       "      <td>14.802667</td>\n",
       "      <td>13.508000</td>\n",
       "      <td>7.317333</td>\n",
       "      <td>11.475000</td>\n",
       "      <td>8.743000</td>\n",
       "      <td>11.492333</td>\n",
       "      <td>9.657333</td>\n",
       "      <td>10.701333</td>\n",
       "      <td>10.676000</td>\n",
       "      <td>17.404667</td>\n",
       "      <td>20.723000</td>\n",
       "    </tr>\n",
       "    <tr>\n",
       "      <th>1978-12-31</th>\n",
       "      <td>16.175484</td>\n",
       "      <td>13.748065</td>\n",
       "      <td>15.635161</td>\n",
       "      <td>7.094839</td>\n",
       "      <td>11.398710</td>\n",
       "      <td>9.241613</td>\n",
       "      <td>12.077419</td>\n",
       "      <td>10.194839</td>\n",
       "      <td>10.616774</td>\n",
       "      <td>11.028710</td>\n",
       "      <td>13.859677</td>\n",
       "      <td>21.371613</td>\n",
       "    </tr>\n",
       "  </tbody>\n",
       "</table>\n",
       "<p>216 rows × 12 columns</p>\n",
       "</div>"
      ],
      "text/plain": [
       "                  RPT        VAL        ROS       KIL        SHA        BIR  \\\n",
       "Date                                                                          \n",
       "1961-01-31  14.841333  11.988333  13.431613  7.736774  11.072759   8.588065   \n",
       "1961-02-28  16.269286  14.975357  14.441481  9.230741  13.852143  10.937500   \n",
       "1961-03-31  10.890000  11.296452  10.752903  7.284000  10.509355   8.866774   \n",
       "1961-04-30  10.722667   9.427667   9.998000  5.830667   8.435000   6.495000   \n",
       "1961-05-31   9.860968   8.850000  10.818065  5.905333   9.490323   6.574839   \n",
       "...               ...        ...        ...       ...        ...        ...   \n",
       "1978-08-31   9.645161   8.259355   9.032258  4.502903   7.368065   5.935161   \n",
       "1978-09-30  10.913667  10.895000  10.635000  5.725000  10.372000   9.278333   \n",
       "1978-10-31   9.897742   8.670968   9.295806  4.721290   8.525161   6.774194   \n",
       "1978-11-30  16.151667  14.802667  13.508000  7.317333  11.475000   8.743000   \n",
       "1978-12-31  16.175484  13.748065  15.635161  7.094839  11.398710   9.241613   \n",
       "\n",
       "                  DUB        CLA        MUL        CLO        BEL        MAL  \n",
       "Date                                                                          \n",
       "1961-01-31  11.184839   9.245333   9.085806  10.107419  13.880968  14.703226  \n",
       "1961-02-28  11.890714  11.846071  11.821429  12.714286  18.583214  15.411786  \n",
       "1961-03-31   9.644194   9.829677  10.294138  11.251935  16.410968  15.720000  \n",
       "1961-04-30   6.925333   7.094667   7.342333   7.237000  11.147333  10.278333  \n",
       "1961-05-31   7.604000   8.177097   8.039355   8.499355  11.900323  12.011613  \n",
       "...               ...        ...        ...        ...        ...        ...  \n",
       "1978-08-31   5.650323   5.417742   7.241290   5.536774  10.466774  12.054194  \n",
       "1978-09-30  10.790333   9.583000  10.069333   8.939000  15.680333  19.391333  \n",
       "1978-10-31   8.115484   7.337742   8.297742   8.243871  13.776774  17.150000  \n",
       "1978-11-30  11.492333   9.657333  10.701333  10.676000  17.404667  20.723000  \n",
       "1978-12-31  12.077419  10.194839  10.616774  11.028710  13.859677  21.371613  \n",
       "\n",
       "[216 rows x 12 columns]"
      ]
     },
     "execution_count": 86,
     "metadata": {},
     "output_type": "execute_result"
    }
   ],
   "source": [
    "yearly_freq = data.resample(rule = \"M\")\n",
    "\n",
    "yearly_freq.mean()"
   ]
  },
  {
   "cell_type": "markdown",
   "id": "f1867916",
   "metadata": {},
   "source": [
    "Step 14. Downsample the record to a weekly frequency for each location."
   ]
  },
  {
   "cell_type": "code",
   "execution_count": 78,
   "id": "e2a0449b",
   "metadata": {},
   "outputs": [
    {
     "data": {
      "text/html": [
       "<div>\n",
       "<style scoped>\n",
       "    .dataframe tbody tr th:only-of-type {\n",
       "        vertical-align: middle;\n",
       "    }\n",
       "\n",
       "    .dataframe tbody tr th {\n",
       "        vertical-align: top;\n",
       "    }\n",
       "\n",
       "    .dataframe thead th {\n",
       "        text-align: right;\n",
       "    }\n",
       "</style>\n",
       "<table border=\"1\" class=\"dataframe\">\n",
       "  <thead>\n",
       "    <tr style=\"text-align: right;\">\n",
       "      <th></th>\n",
       "      <th>RPT</th>\n",
       "      <th>VAL</th>\n",
       "      <th>ROS</th>\n",
       "      <th>KIL</th>\n",
       "      <th>SHA</th>\n",
       "      <th>BIR</th>\n",
       "      <th>DUB</th>\n",
       "      <th>CLA</th>\n",
       "      <th>MUL</th>\n",
       "      <th>CLO</th>\n",
       "      <th>BEL</th>\n",
       "      <th>MAL</th>\n",
       "    </tr>\n",
       "    <tr>\n",
       "      <th>Date</th>\n",
       "      <th></th>\n",
       "      <th></th>\n",
       "      <th></th>\n",
       "      <th></th>\n",
       "      <th></th>\n",
       "      <th></th>\n",
       "      <th></th>\n",
       "      <th></th>\n",
       "      <th></th>\n",
       "      <th></th>\n",
       "      <th></th>\n",
       "      <th></th>\n",
       "    </tr>\n",
       "  </thead>\n",
       "  <tbody>\n",
       "    <tr>\n",
       "      <th>1961-01-01</th>\n",
       "      <td>15.040000</td>\n",
       "      <td>14.960000</td>\n",
       "      <td>13.170000</td>\n",
       "      <td>9.290000</td>\n",
       "      <td>NaN</td>\n",
       "      <td>9.870000</td>\n",
       "      <td>13.670000</td>\n",
       "      <td>10.250000</td>\n",
       "      <td>10.830000</td>\n",
       "      <td>12.580000</td>\n",
       "      <td>18.500000</td>\n",
       "      <td>15.040000</td>\n",
       "    </tr>\n",
       "    <tr>\n",
       "      <th>1961-01-08</th>\n",
       "      <td>13.541429</td>\n",
       "      <td>11.486667</td>\n",
       "      <td>10.487143</td>\n",
       "      <td>6.417143</td>\n",
       "      <td>9.474286</td>\n",
       "      <td>6.435714</td>\n",
       "      <td>11.061429</td>\n",
       "      <td>6.616667</td>\n",
       "      <td>8.434286</td>\n",
       "      <td>8.497143</td>\n",
       "      <td>12.481429</td>\n",
       "      <td>13.238571</td>\n",
       "    </tr>\n",
       "    <tr>\n",
       "      <th>1961-01-15</th>\n",
       "      <td>12.468571</td>\n",
       "      <td>8.967143</td>\n",
       "      <td>11.958571</td>\n",
       "      <td>4.630000</td>\n",
       "      <td>7.351429</td>\n",
       "      <td>5.072857</td>\n",
       "      <td>7.535714</td>\n",
       "      <td>6.820000</td>\n",
       "      <td>5.712857</td>\n",
       "      <td>7.571429</td>\n",
       "      <td>11.125714</td>\n",
       "      <td>11.024286</td>\n",
       "    </tr>\n",
       "    <tr>\n",
       "      <th>1961-01-22</th>\n",
       "      <td>13.204286</td>\n",
       "      <td>9.862857</td>\n",
       "      <td>12.982857</td>\n",
       "      <td>6.328571</td>\n",
       "      <td>8.966667</td>\n",
       "      <td>7.417143</td>\n",
       "      <td>9.257143</td>\n",
       "      <td>7.875714</td>\n",
       "      <td>7.145714</td>\n",
       "      <td>8.124286</td>\n",
       "      <td>9.821429</td>\n",
       "      <td>11.434286</td>\n",
       "    </tr>\n",
       "    <tr>\n",
       "      <th>1961-01-29</th>\n",
       "      <td>19.880000</td>\n",
       "      <td>16.141429</td>\n",
       "      <td>18.225714</td>\n",
       "      <td>12.720000</td>\n",
       "      <td>17.432857</td>\n",
       "      <td>14.828571</td>\n",
       "      <td>15.528571</td>\n",
       "      <td>15.160000</td>\n",
       "      <td>14.480000</td>\n",
       "      <td>15.640000</td>\n",
       "      <td>20.930000</td>\n",
       "      <td>22.530000</td>\n",
       "    </tr>\n",
       "    <tr>\n",
       "      <th>...</th>\n",
       "      <td>...</td>\n",
       "      <td>...</td>\n",
       "      <td>...</td>\n",
       "      <td>...</td>\n",
       "      <td>...</td>\n",
       "      <td>...</td>\n",
       "      <td>...</td>\n",
       "      <td>...</td>\n",
       "      <td>...</td>\n",
       "      <td>...</td>\n",
       "      <td>...</td>\n",
       "      <td>...</td>\n",
       "    </tr>\n",
       "    <tr>\n",
       "      <th>1978-12-03</th>\n",
       "      <td>14.934286</td>\n",
       "      <td>11.232857</td>\n",
       "      <td>13.941429</td>\n",
       "      <td>5.565714</td>\n",
       "      <td>10.215714</td>\n",
       "      <td>8.618571</td>\n",
       "      <td>9.642857</td>\n",
       "      <td>7.685714</td>\n",
       "      <td>9.011429</td>\n",
       "      <td>9.547143</td>\n",
       "      <td>11.835714</td>\n",
       "      <td>18.728571</td>\n",
       "    </tr>\n",
       "    <tr>\n",
       "      <th>1978-12-10</th>\n",
       "      <td>20.740000</td>\n",
       "      <td>19.190000</td>\n",
       "      <td>17.034286</td>\n",
       "      <td>9.777143</td>\n",
       "      <td>15.287143</td>\n",
       "      <td>12.774286</td>\n",
       "      <td>14.437143</td>\n",
       "      <td>12.488571</td>\n",
       "      <td>13.870000</td>\n",
       "      <td>14.082857</td>\n",
       "      <td>18.517143</td>\n",
       "      <td>23.061429</td>\n",
       "    </tr>\n",
       "    <tr>\n",
       "      <th>1978-12-17</th>\n",
       "      <td>16.758571</td>\n",
       "      <td>14.692857</td>\n",
       "      <td>14.987143</td>\n",
       "      <td>6.917143</td>\n",
       "      <td>11.397143</td>\n",
       "      <td>7.272857</td>\n",
       "      <td>10.208571</td>\n",
       "      <td>7.967143</td>\n",
       "      <td>9.168571</td>\n",
       "      <td>8.565714</td>\n",
       "      <td>11.102857</td>\n",
       "      <td>15.562857</td>\n",
       "    </tr>\n",
       "    <tr>\n",
       "      <th>1978-12-24</th>\n",
       "      <td>11.155714</td>\n",
       "      <td>8.008571</td>\n",
       "      <td>13.172857</td>\n",
       "      <td>4.004286</td>\n",
       "      <td>7.825714</td>\n",
       "      <td>6.290000</td>\n",
       "      <td>7.798571</td>\n",
       "      <td>8.667143</td>\n",
       "      <td>7.151429</td>\n",
       "      <td>8.072857</td>\n",
       "      <td>11.845714</td>\n",
       "      <td>18.977143</td>\n",
       "    </tr>\n",
       "    <tr>\n",
       "      <th>1978-12-31</th>\n",
       "      <td>14.951429</td>\n",
       "      <td>11.801429</td>\n",
       "      <td>16.035714</td>\n",
       "      <td>6.507143</td>\n",
       "      <td>9.660000</td>\n",
       "      <td>8.620000</td>\n",
       "      <td>13.708571</td>\n",
       "      <td>10.477143</td>\n",
       "      <td>10.868571</td>\n",
       "      <td>11.471429</td>\n",
       "      <td>12.947143</td>\n",
       "      <td>26.844286</td>\n",
       "    </tr>\n",
       "  </tbody>\n",
       "</table>\n",
       "<p>940 rows × 12 columns</p>\n",
       "</div>"
      ],
      "text/plain": [
       "                  RPT        VAL        ROS        KIL        SHA        BIR  \\\n",
       "Date                                                                           \n",
       "1961-01-01  15.040000  14.960000  13.170000   9.290000        NaN   9.870000   \n",
       "1961-01-08  13.541429  11.486667  10.487143   6.417143   9.474286   6.435714   \n",
       "1961-01-15  12.468571   8.967143  11.958571   4.630000   7.351429   5.072857   \n",
       "1961-01-22  13.204286   9.862857  12.982857   6.328571   8.966667   7.417143   \n",
       "1961-01-29  19.880000  16.141429  18.225714  12.720000  17.432857  14.828571   \n",
       "...               ...        ...        ...        ...        ...        ...   \n",
       "1978-12-03  14.934286  11.232857  13.941429   5.565714  10.215714   8.618571   \n",
       "1978-12-10  20.740000  19.190000  17.034286   9.777143  15.287143  12.774286   \n",
       "1978-12-17  16.758571  14.692857  14.987143   6.917143  11.397143   7.272857   \n",
       "1978-12-24  11.155714   8.008571  13.172857   4.004286   7.825714   6.290000   \n",
       "1978-12-31  14.951429  11.801429  16.035714   6.507143   9.660000   8.620000   \n",
       "\n",
       "                  DUB        CLA        MUL        CLO        BEL        MAL  \n",
       "Date                                                                          \n",
       "1961-01-01  13.670000  10.250000  10.830000  12.580000  18.500000  15.040000  \n",
       "1961-01-08  11.061429   6.616667   8.434286   8.497143  12.481429  13.238571  \n",
       "1961-01-15   7.535714   6.820000   5.712857   7.571429  11.125714  11.024286  \n",
       "1961-01-22   9.257143   7.875714   7.145714   8.124286   9.821429  11.434286  \n",
       "1961-01-29  15.528571  15.160000  14.480000  15.640000  20.930000  22.530000  \n",
       "...               ...        ...        ...        ...        ...        ...  \n",
       "1978-12-03   9.642857   7.685714   9.011429   9.547143  11.835714  18.728571  \n",
       "1978-12-10  14.437143  12.488571  13.870000  14.082857  18.517143  23.061429  \n",
       "1978-12-17  10.208571   7.967143   9.168571   8.565714  11.102857  15.562857  \n",
       "1978-12-24   7.798571   8.667143   7.151429   8.072857  11.845714  18.977143  \n",
       "1978-12-31  13.708571  10.477143  10.868571  11.471429  12.947143  26.844286  \n",
       "\n",
       "[940 rows x 12 columns]"
      ]
     },
     "execution_count": 78,
     "metadata": {},
     "output_type": "execute_result"
    }
   ],
   "source": [
    "weekly_freq = data.resample(rule = \"W\")\n",
    "\n",
    "weekly_freq.mean()"
   ]
  },
  {
   "cell_type": "markdown",
   "id": "c4dab670",
   "metadata": {},
   "source": [
    "Step 15. Calculate the min, max and mean windspeeds and standard deviations of the\n",
    "windspeeds across all locations for each week (assume that the first week starts on\n",
    "January 2 1961) for the first 52 weeks."
   ]
  },
  {
   "cell_type": "code",
   "execution_count": 98,
   "id": "c82a3220",
   "metadata": {
    "scrolled": true
   },
   "outputs": [
    {
     "data": {
      "text/html": [
       "<div>\n",
       "<style scoped>\n",
       "    .dataframe tbody tr th:only-of-type {\n",
       "        vertical-align: middle;\n",
       "    }\n",
       "\n",
       "    .dataframe tbody tr th {\n",
       "        vertical-align: top;\n",
       "    }\n",
       "\n",
       "    .dataframe thead tr th {\n",
       "        text-align: left;\n",
       "    }\n",
       "\n",
       "    .dataframe thead tr:last-of-type th {\n",
       "        text-align: right;\n",
       "    }\n",
       "</style>\n",
       "<table border=\"1\" class=\"dataframe\">\n",
       "  <thead>\n",
       "    <tr>\n",
       "      <th></th>\n",
       "      <th colspan=\"4\" halign=\"left\">RPT</th>\n",
       "      <th colspan=\"4\" halign=\"left\">VAL</th>\n",
       "      <th colspan=\"2\" halign=\"left\">ROS</th>\n",
       "      <th>...</th>\n",
       "      <th colspan=\"2\" halign=\"left\">CLO</th>\n",
       "      <th colspan=\"4\" halign=\"left\">BEL</th>\n",
       "      <th colspan=\"4\" halign=\"left\">MAL</th>\n",
       "    </tr>\n",
       "    <tr>\n",
       "      <th></th>\n",
       "      <th>min</th>\n",
       "      <th>max</th>\n",
       "      <th>mean</th>\n",
       "      <th>std</th>\n",
       "      <th>min</th>\n",
       "      <th>max</th>\n",
       "      <th>mean</th>\n",
       "      <th>std</th>\n",
       "      <th>min</th>\n",
       "      <th>max</th>\n",
       "      <th>...</th>\n",
       "      <th>mean</th>\n",
       "      <th>std</th>\n",
       "      <th>min</th>\n",
       "      <th>max</th>\n",
       "      <th>mean</th>\n",
       "      <th>std</th>\n",
       "      <th>min</th>\n",
       "      <th>max</th>\n",
       "      <th>mean</th>\n",
       "      <th>std</th>\n",
       "    </tr>\n",
       "    <tr>\n",
       "      <th>Date</th>\n",
       "      <th></th>\n",
       "      <th></th>\n",
       "      <th></th>\n",
       "      <th></th>\n",
       "      <th></th>\n",
       "      <th></th>\n",
       "      <th></th>\n",
       "      <th></th>\n",
       "      <th></th>\n",
       "      <th></th>\n",
       "      <th></th>\n",
       "      <th></th>\n",
       "      <th></th>\n",
       "      <th></th>\n",
       "      <th></th>\n",
       "      <th></th>\n",
       "      <th></th>\n",
       "      <th></th>\n",
       "      <th></th>\n",
       "      <th></th>\n",
       "      <th></th>\n",
       "    </tr>\n",
       "  </thead>\n",
       "  <tbody>\n",
       "    <tr>\n",
       "      <th>1961-01-01</th>\n",
       "      <td>15.04</td>\n",
       "      <td>15.04</td>\n",
       "      <td>15.040000</td>\n",
       "      <td>NaN</td>\n",
       "      <td>14.96</td>\n",
       "      <td>14.96</td>\n",
       "      <td>14.960000</td>\n",
       "      <td>NaN</td>\n",
       "      <td>13.17</td>\n",
       "      <td>13.17</td>\n",
       "      <td>...</td>\n",
       "      <td>12.580000</td>\n",
       "      <td>NaN</td>\n",
       "      <td>18.50</td>\n",
       "      <td>18.50</td>\n",
       "      <td>18.500000</td>\n",
       "      <td>NaN</td>\n",
       "      <td>15.04</td>\n",
       "      <td>15.04</td>\n",
       "      <td>15.040000</td>\n",
       "      <td>NaN</td>\n",
       "    </tr>\n",
       "    <tr>\n",
       "      <th>1961-01-08</th>\n",
       "      <td>10.58</td>\n",
       "      <td>18.50</td>\n",
       "      <td>13.541429</td>\n",
       "      <td>2.631321</td>\n",
       "      <td>6.63</td>\n",
       "      <td>16.88</td>\n",
       "      <td>11.486667</td>\n",
       "      <td>3.949525</td>\n",
       "      <td>7.62</td>\n",
       "      <td>12.33</td>\n",
       "      <td>...</td>\n",
       "      <td>8.497143</td>\n",
       "      <td>1.704941</td>\n",
       "      <td>5.46</td>\n",
       "      <td>17.54</td>\n",
       "      <td>12.481429</td>\n",
       "      <td>4.349139</td>\n",
       "      <td>10.88</td>\n",
       "      <td>16.46</td>\n",
       "      <td>13.238571</td>\n",
       "      <td>1.773062</td>\n",
       "    </tr>\n",
       "    <tr>\n",
       "      <th>1961-01-15</th>\n",
       "      <td>9.04</td>\n",
       "      <td>19.75</td>\n",
       "      <td>12.468571</td>\n",
       "      <td>3.555392</td>\n",
       "      <td>3.54</td>\n",
       "      <td>12.08</td>\n",
       "      <td>8.967143</td>\n",
       "      <td>3.148945</td>\n",
       "      <td>7.08</td>\n",
       "      <td>19.50</td>\n",
       "      <td>...</td>\n",
       "      <td>7.571429</td>\n",
       "      <td>4.084293</td>\n",
       "      <td>5.25</td>\n",
       "      <td>20.71</td>\n",
       "      <td>11.125714</td>\n",
       "      <td>5.552215</td>\n",
       "      <td>5.17</td>\n",
       "      <td>16.92</td>\n",
       "      <td>11.024286</td>\n",
       "      <td>4.692355</td>\n",
       "    </tr>\n",
       "    <tr>\n",
       "      <th>1961-01-22</th>\n",
       "      <td>4.92</td>\n",
       "      <td>19.83</td>\n",
       "      <td>13.204286</td>\n",
       "      <td>5.337402</td>\n",
       "      <td>3.42</td>\n",
       "      <td>14.37</td>\n",
       "      <td>9.862857</td>\n",
       "      <td>3.837785</td>\n",
       "      <td>7.29</td>\n",
       "      <td>20.79</td>\n",
       "      <td>...</td>\n",
       "      <td>8.124286</td>\n",
       "      <td>4.783952</td>\n",
       "      <td>6.50</td>\n",
       "      <td>15.92</td>\n",
       "      <td>9.821429</td>\n",
       "      <td>3.626584</td>\n",
       "      <td>6.79</td>\n",
       "      <td>17.96</td>\n",
       "      <td>11.434286</td>\n",
       "      <td>4.237239</td>\n",
       "    </tr>\n",
       "    <tr>\n",
       "      <th>1961-01-29</th>\n",
       "      <td>13.62</td>\n",
       "      <td>25.04</td>\n",
       "      <td>19.880000</td>\n",
       "      <td>4.619061</td>\n",
       "      <td>9.96</td>\n",
       "      <td>23.91</td>\n",
       "      <td>16.141429</td>\n",
       "      <td>5.170224</td>\n",
       "      <td>12.67</td>\n",
       "      <td>25.84</td>\n",
       "      <td>...</td>\n",
       "      <td>15.640000</td>\n",
       "      <td>3.713368</td>\n",
       "      <td>14.04</td>\n",
       "      <td>27.71</td>\n",
       "      <td>20.930000</td>\n",
       "      <td>5.210726</td>\n",
       "      <td>17.50</td>\n",
       "      <td>27.63</td>\n",
       "      <td>22.530000</td>\n",
       "      <td>3.874721</td>\n",
       "    </tr>\n",
       "  </tbody>\n",
       "</table>\n",
       "<p>5 rows × 48 columns</p>\n",
       "</div>"
      ],
      "text/plain": [
       "              RPT                                VAL                    \\\n",
       "              min    max       mean       std    min    max       mean   \n",
       "Date                                                                     \n",
       "1961-01-01  15.04  15.04  15.040000       NaN  14.96  14.96  14.960000   \n",
       "1961-01-08  10.58  18.50  13.541429  2.631321   6.63  16.88  11.486667   \n",
       "1961-01-15   9.04  19.75  12.468571  3.555392   3.54  12.08   8.967143   \n",
       "1961-01-22   4.92  19.83  13.204286  5.337402   3.42  14.37   9.862857   \n",
       "1961-01-29  13.62  25.04  19.880000  4.619061   9.96  23.91  16.141429   \n",
       "\n",
       "                        ROS         ...        CLO              BEL         \\\n",
       "                 std    min    max  ...       mean       std    min    max   \n",
       "Date                                ...                                      \n",
       "1961-01-01       NaN  13.17  13.17  ...  12.580000       NaN  18.50  18.50   \n",
       "1961-01-08  3.949525   7.62  12.33  ...   8.497143  1.704941   5.46  17.54   \n",
       "1961-01-15  3.148945   7.08  19.50  ...   7.571429  4.084293   5.25  20.71   \n",
       "1961-01-22  3.837785   7.29  20.79  ...   8.124286  4.783952   6.50  15.92   \n",
       "1961-01-29  5.170224  12.67  25.84  ...  15.640000  3.713368  14.04  27.71   \n",
       "\n",
       "                                   MAL                              \n",
       "                 mean       std    min    max       mean       std  \n",
       "Date                                                                \n",
       "1961-01-01  18.500000       NaN  15.04  15.04  15.040000       NaN  \n",
       "1961-01-08  12.481429  4.349139  10.88  16.46  13.238571  1.773062  \n",
       "1961-01-15  11.125714  5.552215   5.17  16.92  11.024286  4.692355  \n",
       "1961-01-22   9.821429  3.626584   6.79  17.96  11.434286  4.237239  \n",
       "1961-01-29  20.930000  5.210726  17.50  27.63  22.530000  3.874721  \n",
       "\n",
       "[5 rows x 48 columns]"
      ]
     },
     "execution_count": 98,
     "metadata": {},
     "output_type": "execute_result"
    }
   ],
   "source": [
    "\n",
    "weekly = data.resample(rule = \"W\").agg(['min','max','mean','std'])\n",
    "weekly.head()"
   ]
  },
  {
   "cell_type": "markdown",
   "id": "61b2d407",
   "metadata": {},
   "source": [
    "# Question 5\n",
    "Step 1. Import the necessary libraries\n",
    "Step 2. Import the dataset from this address.\n",
    "Step 3. Assign it to a variable called chipo.\n",
    "Step 4. See the first 10 entries"
   ]
  },
  {
   "cell_type": "code",
   "execution_count": 101,
   "id": "9dbf7110",
   "metadata": {},
   "outputs": [
    {
     "data": {
      "text/html": [
       "<div>\n",
       "<style scoped>\n",
       "    .dataframe tbody tr th:only-of-type {\n",
       "        vertical-align: middle;\n",
       "    }\n",
       "\n",
       "    .dataframe tbody tr th {\n",
       "        vertical-align: top;\n",
       "    }\n",
       "\n",
       "    .dataframe thead th {\n",
       "        text-align: right;\n",
       "    }\n",
       "</style>\n",
       "<table border=\"1\" class=\"dataframe\">\n",
       "  <thead>\n",
       "    <tr style=\"text-align: right;\">\n",
       "      <th></th>\n",
       "      <th>order_id</th>\n",
       "      <th>quantity</th>\n",
       "      <th>item_name</th>\n",
       "      <th>choice_description</th>\n",
       "      <th>item_price</th>\n",
       "    </tr>\n",
       "  </thead>\n",
       "  <tbody>\n",
       "    <tr>\n",
       "      <th>0</th>\n",
       "      <td>1</td>\n",
       "      <td>1</td>\n",
       "      <td>Chips and Fresh Tomato Salsa</td>\n",
       "      <td>NaN</td>\n",
       "      <td>$2.39</td>\n",
       "    </tr>\n",
       "    <tr>\n",
       "      <th>1</th>\n",
       "      <td>1</td>\n",
       "      <td>1</td>\n",
       "      <td>Izze</td>\n",
       "      <td>[Clementine]</td>\n",
       "      <td>$3.39</td>\n",
       "    </tr>\n",
       "    <tr>\n",
       "      <th>2</th>\n",
       "      <td>1</td>\n",
       "      <td>1</td>\n",
       "      <td>Nantucket Nectar</td>\n",
       "      <td>[Apple]</td>\n",
       "      <td>$3.39</td>\n",
       "    </tr>\n",
       "    <tr>\n",
       "      <th>3</th>\n",
       "      <td>1</td>\n",
       "      <td>1</td>\n",
       "      <td>Chips and Tomatillo-Green Chili Salsa</td>\n",
       "      <td>NaN</td>\n",
       "      <td>$2.39</td>\n",
       "    </tr>\n",
       "    <tr>\n",
       "      <th>4</th>\n",
       "      <td>2</td>\n",
       "      <td>2</td>\n",
       "      <td>Chicken Bowl</td>\n",
       "      <td>[Tomatillo-Red Chili Salsa (Hot), [Black Beans...</td>\n",
       "      <td>$16.98</td>\n",
       "    </tr>\n",
       "    <tr>\n",
       "      <th>5</th>\n",
       "      <td>3</td>\n",
       "      <td>1</td>\n",
       "      <td>Chicken Bowl</td>\n",
       "      <td>[Fresh Tomato Salsa (Mild), [Rice, Cheese, Sou...</td>\n",
       "      <td>$10.98</td>\n",
       "    </tr>\n",
       "    <tr>\n",
       "      <th>6</th>\n",
       "      <td>3</td>\n",
       "      <td>1</td>\n",
       "      <td>Side of Chips</td>\n",
       "      <td>NaN</td>\n",
       "      <td>$1.69</td>\n",
       "    </tr>\n",
       "    <tr>\n",
       "      <th>7</th>\n",
       "      <td>4</td>\n",
       "      <td>1</td>\n",
       "      <td>Steak Burrito</td>\n",
       "      <td>[Tomatillo Red Chili Salsa, [Fajita Vegetables...</td>\n",
       "      <td>$11.75</td>\n",
       "    </tr>\n",
       "    <tr>\n",
       "      <th>8</th>\n",
       "      <td>4</td>\n",
       "      <td>1</td>\n",
       "      <td>Steak Soft Tacos</td>\n",
       "      <td>[Tomatillo Green Chili Salsa, [Pinto Beans, Ch...</td>\n",
       "      <td>$9.25</td>\n",
       "    </tr>\n",
       "    <tr>\n",
       "      <th>9</th>\n",
       "      <td>5</td>\n",
       "      <td>1</td>\n",
       "      <td>Steak Burrito</td>\n",
       "      <td>[Fresh Tomato Salsa, [Rice, Black Beans, Pinto...</td>\n",
       "      <td>$9.25</td>\n",
       "    </tr>\n",
       "  </tbody>\n",
       "</table>\n",
       "</div>"
      ],
      "text/plain": [
       "   order_id  quantity                              item_name  \\\n",
       "0         1         1           Chips and Fresh Tomato Salsa   \n",
       "1         1         1                                   Izze   \n",
       "2         1         1                       Nantucket Nectar   \n",
       "3         1         1  Chips and Tomatillo-Green Chili Salsa   \n",
       "4         2         2                           Chicken Bowl   \n",
       "5         3         1                           Chicken Bowl   \n",
       "6         3         1                          Side of Chips   \n",
       "7         4         1                          Steak Burrito   \n",
       "8         4         1                       Steak Soft Tacos   \n",
       "9         5         1                          Steak Burrito   \n",
       "\n",
       "                                  choice_description item_price  \n",
       "0                                                NaN     $2.39   \n",
       "1                                       [Clementine]     $3.39   \n",
       "2                                            [Apple]     $3.39   \n",
       "3                                                NaN     $2.39   \n",
       "4  [Tomatillo-Red Chili Salsa (Hot), [Black Beans...    $16.98   \n",
       "5  [Fresh Tomato Salsa (Mild), [Rice, Cheese, Sou...    $10.98   \n",
       "6                                                NaN     $1.69   \n",
       "7  [Tomatillo Red Chili Salsa, [Fajita Vegetables...    $11.75   \n",
       "8  [Tomatillo Green Chili Salsa, [Pinto Beans, Ch...     $9.25   \n",
       "9  [Fresh Tomato Salsa, [Rice, Black Beans, Pinto...     $9.25   "
      ]
     },
     "execution_count": 101,
     "metadata": {},
     "output_type": "execute_result"
    }
   ],
   "source": [
    "import pandas as pd\n",
    "import numpy as np\n",
    "\n",
    "chipotle = pd.read_csv(r'https://raw.githubusercontent.com/justmarkham/DAT8/master/data/chipotle.tsv',sep=\"\\t\")\n",
    "\n",
    "chipotle.head(10)"
   ]
  },
  {
   "cell_type": "markdown",
   "id": "3025a35c",
   "metadata": {},
   "source": [
    "Step 5. What is the number of observations in the dataset?"
   ]
  },
  {
   "cell_type": "code",
   "execution_count": 102,
   "id": "0031de9e",
   "metadata": {},
   "outputs": [
    {
     "data": {
      "text/plain": [
       "order_id              4622\n",
       "quantity              4622\n",
       "item_name             4622\n",
       "choice_description    3376\n",
       "item_price            4622\n",
       "dtype: int64"
      ]
     },
     "execution_count": 102,
     "metadata": {},
     "output_type": "execute_result"
    }
   ],
   "source": [
    "chipotle.count()"
   ]
  },
  {
   "cell_type": "markdown",
   "id": "e2b786a9",
   "metadata": {},
   "source": [
    "Step 6. What is the number of columns in the dataset?"
   ]
  },
  {
   "cell_type": "code",
   "execution_count": 103,
   "id": "7ce99918",
   "metadata": {},
   "outputs": [
    {
     "data": {
      "text/plain": [
       "5"
      ]
     },
     "execution_count": 103,
     "metadata": {},
     "output_type": "execute_result"
    }
   ],
   "source": [
    "chipotle.shape[1]"
   ]
  },
  {
   "cell_type": "markdown",
   "id": "0862a778",
   "metadata": {},
   "source": [
    "Step 7. Print the name of all the columns."
   ]
  },
  {
   "cell_type": "code",
   "execution_count": 104,
   "id": "0809a402",
   "metadata": {},
   "outputs": [
    {
     "data": {
      "text/plain": [
       "Index(['order_id', 'quantity', 'item_name', 'choice_description',\n",
       "       'item_price'],\n",
       "      dtype='object')"
      ]
     },
     "execution_count": 104,
     "metadata": {},
     "output_type": "execute_result"
    }
   ],
   "source": [
    "chipotle.columns"
   ]
  },
  {
   "cell_type": "markdown",
   "id": "7b8e8994",
   "metadata": {},
   "source": [
    "Step 8. How is the dataset indexed?"
   ]
  },
  {
   "cell_type": "code",
   "execution_count": 106,
   "id": "2d61ab5b",
   "metadata": {},
   "outputs": [
    {
     "data": {
      "text/plain": [
       "RangeIndex(start=0, stop=4622, step=1)"
      ]
     },
     "execution_count": 106,
     "metadata": {},
     "output_type": "execute_result"
    }
   ],
   "source": [
    "chipotle.index"
   ]
  },
  {
   "cell_type": "markdown",
   "id": "8752c593",
   "metadata": {},
   "source": [
    "Step 9. Which was the most-ordered item?"
   ]
  },
  {
   "cell_type": "code",
   "execution_count": 110,
   "id": "d7d3f7ea",
   "metadata": {},
   "outputs": [
    {
     "data": {
      "text/html": [
       "<div>\n",
       "<style scoped>\n",
       "    .dataframe tbody tr th:only-of-type {\n",
       "        vertical-align: middle;\n",
       "    }\n",
       "\n",
       "    .dataframe tbody tr th {\n",
       "        vertical-align: top;\n",
       "    }\n",
       "\n",
       "    .dataframe thead th {\n",
       "        text-align: right;\n",
       "    }\n",
       "</style>\n",
       "<table border=\"1\" class=\"dataframe\">\n",
       "  <thead>\n",
       "    <tr style=\"text-align: right;\">\n",
       "      <th></th>\n",
       "      <th>order_id</th>\n",
       "      <th>quantity</th>\n",
       "    </tr>\n",
       "    <tr>\n",
       "      <th>item_name</th>\n",
       "      <th></th>\n",
       "      <th></th>\n",
       "    </tr>\n",
       "  </thead>\n",
       "  <tbody>\n",
       "    <tr>\n",
       "      <th>Chicken Bowl</th>\n",
       "      <td>713926</td>\n",
       "      <td>761</td>\n",
       "    </tr>\n",
       "  </tbody>\n",
       "</table>\n",
       "</div>"
      ],
      "text/plain": [
       "              order_id  quantity\n",
       "item_name                       \n",
       "Chicken Bowl    713926       761"
      ]
     },
     "execution_count": 110,
     "metadata": {},
     "output_type": "execute_result"
    }
   ],
   "source": [
    "chipotle.groupby(['item_name']).sum().sort_values(by=['quantity'],ascending=False).head(1)"
   ]
  },
  {
   "cell_type": "markdown",
   "id": "d3317218",
   "metadata": {},
   "source": [
    "Step 10. For the most-ordered item, how many items were ordered?"
   ]
  },
  {
   "cell_type": "code",
   "execution_count": 111,
   "id": "9db791b4",
   "metadata": {},
   "outputs": [
    {
     "data": {
      "text/html": [
       "<div>\n",
       "<style scoped>\n",
       "    .dataframe tbody tr th:only-of-type {\n",
       "        vertical-align: middle;\n",
       "    }\n",
       "\n",
       "    .dataframe tbody tr th {\n",
       "        vertical-align: top;\n",
       "    }\n",
       "\n",
       "    .dataframe thead th {\n",
       "        text-align: right;\n",
       "    }\n",
       "</style>\n",
       "<table border=\"1\" class=\"dataframe\">\n",
       "  <thead>\n",
       "    <tr style=\"text-align: right;\">\n",
       "      <th></th>\n",
       "      <th>order_id</th>\n",
       "      <th>quantity</th>\n",
       "    </tr>\n",
       "    <tr>\n",
       "      <th>item_name</th>\n",
       "      <th></th>\n",
       "      <th></th>\n",
       "    </tr>\n",
       "  </thead>\n",
       "  <tbody>\n",
       "    <tr>\n",
       "      <th>Chicken Bowl</th>\n",
       "      <td>713926</td>\n",
       "      <td>761</td>\n",
       "    </tr>\n",
       "  </tbody>\n",
       "</table>\n",
       "</div>"
      ],
      "text/plain": [
       "              order_id  quantity\n",
       "item_name                       \n",
       "Chicken Bowl    713926       761"
      ]
     },
     "execution_count": 111,
     "metadata": {},
     "output_type": "execute_result"
    }
   ],
   "source": [
    "chipotle.groupby(['item_name']).sum().sort_values(by=['quantity'],ascending=False).head(1)\n",
    "\n",
    "# Quantity ordered is 761"
   ]
  },
  {
   "cell_type": "markdown",
   "id": "2d10d163",
   "metadata": {},
   "source": [
    "Step 11. What was the most ordered item in the choice_description column?"
   ]
  },
  {
   "cell_type": "code",
   "execution_count": 112,
   "id": "1fb98a72",
   "metadata": {},
   "outputs": [
    {
     "data": {
      "text/html": [
       "<div>\n",
       "<style scoped>\n",
       "    .dataframe tbody tr th:only-of-type {\n",
       "        vertical-align: middle;\n",
       "    }\n",
       "\n",
       "    .dataframe tbody tr th {\n",
       "        vertical-align: top;\n",
       "    }\n",
       "\n",
       "    .dataframe thead th {\n",
       "        text-align: right;\n",
       "    }\n",
       "</style>\n",
       "<table border=\"1\" class=\"dataframe\">\n",
       "  <thead>\n",
       "    <tr style=\"text-align: right;\">\n",
       "      <th></th>\n",
       "      <th>order_id</th>\n",
       "      <th>quantity</th>\n",
       "    </tr>\n",
       "    <tr>\n",
       "      <th>choice_description</th>\n",
       "      <th></th>\n",
       "      <th></th>\n",
       "    </tr>\n",
       "  </thead>\n",
       "  <tbody>\n",
       "    <tr>\n",
       "      <th>[Diet Coke]</th>\n",
       "      <td>123455</td>\n",
       "      <td>159</td>\n",
       "    </tr>\n",
       "  </tbody>\n",
       "</table>\n",
       "</div>"
      ],
      "text/plain": [
       "                    order_id  quantity\n",
       "choice_description                    \n",
       "[Diet Coke]           123455       159"
      ]
     },
     "execution_count": 112,
     "metadata": {},
     "output_type": "execute_result"
    }
   ],
   "source": [
    "chipotle.groupby(['choice_description']).sum().sort_values(by=['quantity'],ascending=False).head(1)"
   ]
  },
  {
   "cell_type": "markdown",
   "id": "a601f142",
   "metadata": {},
   "source": [
    "Step 12. How many items were orderd in total?"
   ]
  },
  {
   "cell_type": "code",
   "execution_count": 113,
   "id": "91e04896",
   "metadata": {},
   "outputs": [
    {
     "data": {
      "text/plain": [
       "4972"
      ]
     },
     "execution_count": 113,
     "metadata": {},
     "output_type": "execute_result"
    }
   ],
   "source": [
    "chipotle['quantity'].sum()"
   ]
  },
  {
   "cell_type": "markdown",
   "id": "a8f03335",
   "metadata": {},
   "source": [
    "Step 13.\n",
    "• Turn the item price into a float\n",
    "• Check the item price type\n",
    "• Create a lambda function and change the type of item price\n",
    "• Check the item price type"
   ]
  },
  {
   "cell_type": "code",
   "execution_count": 114,
   "id": "e0024952",
   "metadata": {},
   "outputs": [
    {
     "data": {
      "text/plain": [
       "order_id               int64\n",
       "quantity               int64\n",
       "item_name             object\n",
       "choice_description    object\n",
       "item_price            object\n",
       "dtype: object"
      ]
     },
     "execution_count": 114,
     "metadata": {},
     "output_type": "execute_result"
    }
   ],
   "source": [
    "chipotle.dtypes"
   ]
  },
  {
   "cell_type": "code",
   "execution_count": 121,
   "id": "b4633c20",
   "metadata": {},
   "outputs": [],
   "source": [
    "y = lambda x: float(x[1:-1])\n",
    "chipotle.item_price = chipo.item_price.apply(y)"
   ]
  },
  {
   "cell_type": "code",
   "execution_count": 122,
   "id": "0fb05b0d",
   "metadata": {},
   "outputs": [
    {
     "data": {
      "text/plain": [
       "order_id                int64\n",
       "quantity                int64\n",
       "item_name              object\n",
       "choice_description     object\n",
       "item_price            float64\n",
       "dtype: object"
      ]
     },
     "execution_count": 122,
     "metadata": {},
     "output_type": "execute_result"
    }
   ],
   "source": [
    "chipotle.dtypes"
   ]
  },
  {
   "cell_type": "markdown",
   "id": "3b7aebf7",
   "metadata": {},
   "source": [
    "Step 14. How much was the revenue for the period in the dataset?"
   ]
  },
  {
   "cell_type": "code",
   "execution_count": 125,
   "id": "cb68fefd",
   "metadata": {},
   "outputs": [
    {
     "name": "stdout",
     "output_type": "stream",
     "text": [
      "39237.02\n"
     ]
    }
   ],
   "source": [
    "revenue = (chipotle['quantity'] * chipotle['item_price']).sum()\n",
    "print(revenue)"
   ]
  },
  {
   "cell_type": "markdown",
   "id": "8ee6e6ab",
   "metadata": {},
   "source": [
    "Step 15. How many orders were made in the period?"
   ]
  },
  {
   "cell_type": "code",
   "execution_count": 126,
   "id": "5c964c70",
   "metadata": {},
   "outputs": [
    {
     "name": "stdout",
     "output_type": "stream",
     "text": [
      "1834\n"
     ]
    }
   ],
   "source": [
    "orders = chipotle.order_id.value_counts().count()\n",
    "print(orders)"
   ]
  },
  {
   "cell_type": "markdown",
   "id": "7fd7c5cb",
   "metadata": {},
   "source": [
    "Step 16. What is the average revenue amount per order?"
   ]
  },
  {
   "cell_type": "code",
   "execution_count": 133,
   "id": "5f318070",
   "metadata": {},
   "outputs": [
    {
     "data": {
      "text/plain": [
       "21.394231188658654"
      ]
     },
     "execution_count": 133,
     "metadata": {},
     "output_type": "execute_result"
    }
   ],
   "source": [
    "chipotle['revenue'] = chipotle['quantity'] * chipotle['item_price']\n",
    "chipotle.groupby(['order_id']).sum().mean()['revenue']"
   ]
  },
  {
   "cell_type": "markdown",
   "id": "d6964538",
   "metadata": {},
   "source": [
    "\n",
    "Step 17. How many different items are sold?"
   ]
  },
  {
   "cell_type": "code",
   "execution_count": 135,
   "id": "96d517d7",
   "metadata": {},
   "outputs": [
    {
     "data": {
      "text/plain": [
       "50"
      ]
     },
     "execution_count": 135,
     "metadata": {},
     "output_type": "execute_result"
    }
   ],
   "source": [
    "chipotle.item_name.value_counts().count()"
   ]
  },
  {
   "cell_type": "markdown",
   "id": "0f0c92e4",
   "metadata": {},
   "source": [
    "# Question 6\n",
    "\n",
    "Create a line plot showing the number of marriages and divorces per capita in the\n",
    "U.S. between 1867 and 2014. Label both lines and show the legend.\n",
    "Don't forget to label your axes!"
   ]
  },
  {
   "cell_type": "code",
   "execution_count": 138,
   "id": "4eecdac5",
   "metadata": {},
   "outputs": [
    {
     "data": {
      "text/html": [
       "<div>\n",
       "<style scoped>\n",
       "    .dataframe tbody tr th:only-of-type {\n",
       "        vertical-align: middle;\n",
       "    }\n",
       "\n",
       "    .dataframe tbody tr th {\n",
       "        vertical-align: top;\n",
       "    }\n",
       "\n",
       "    .dataframe thead th {\n",
       "        text-align: right;\n",
       "    }\n",
       "</style>\n",
       "<table border=\"1\" class=\"dataframe\">\n",
       "  <thead>\n",
       "    <tr style=\"text-align: right;\">\n",
       "      <th></th>\n",
       "      <th>Year</th>\n",
       "      <th>Marriages</th>\n",
       "      <th>Divorces</th>\n",
       "      <th>Population</th>\n",
       "      <th>Marriages_per_1000</th>\n",
       "      <th>Divorces_per_1000</th>\n",
       "    </tr>\n",
       "  </thead>\n",
       "  <tbody>\n",
       "    <tr>\n",
       "      <th>0</th>\n",
       "      <td>1867</td>\n",
       "      <td>357000.0</td>\n",
       "      <td>10000.0</td>\n",
       "      <td>36970000</td>\n",
       "      <td>9.7</td>\n",
       "      <td>0.3</td>\n",
       "    </tr>\n",
       "    <tr>\n",
       "      <th>1</th>\n",
       "      <td>1868</td>\n",
       "      <td>345000.0</td>\n",
       "      <td>10000.0</td>\n",
       "      <td>37885000</td>\n",
       "      <td>9.1</td>\n",
       "      <td>0.3</td>\n",
       "    </tr>\n",
       "    <tr>\n",
       "      <th>2</th>\n",
       "      <td>1869</td>\n",
       "      <td>348000.0</td>\n",
       "      <td>11000.0</td>\n",
       "      <td>38870000</td>\n",
       "      <td>9.0</td>\n",
       "      <td>0.3</td>\n",
       "    </tr>\n",
       "    <tr>\n",
       "      <th>3</th>\n",
       "      <td>1870</td>\n",
       "      <td>352000.0</td>\n",
       "      <td>11000.0</td>\n",
       "      <td>39905000</td>\n",
       "      <td>8.8</td>\n",
       "      <td>0.3</td>\n",
       "    </tr>\n",
       "    <tr>\n",
       "      <th>4</th>\n",
       "      <td>1871</td>\n",
       "      <td>359000.0</td>\n",
       "      <td>12000.0</td>\n",
       "      <td>41010000</td>\n",
       "      <td>8.8</td>\n",
       "      <td>0.3</td>\n",
       "    </tr>\n",
       "  </tbody>\n",
       "</table>\n",
       "</div>"
      ],
      "text/plain": [
       "   Year  Marriages  Divorces  Population  Marriages_per_1000  \\\n",
       "0  1867   357000.0   10000.0    36970000                 9.7   \n",
       "1  1868   345000.0   10000.0    37885000                 9.1   \n",
       "2  1869   348000.0   11000.0    38870000                 9.0   \n",
       "3  1870   352000.0   11000.0    39905000                 8.8   \n",
       "4  1871   359000.0   12000.0    41010000                 8.8   \n",
       "\n",
       "   Divorces_per_1000  \n",
       "0                0.3  \n",
       "1                0.3  \n",
       "2                0.3  \n",
       "3                0.3  \n",
       "4                0.3  "
      ]
     },
     "execution_count": 138,
     "metadata": {},
     "output_type": "execute_result"
    }
   ],
   "source": [
    "import pandas as pd\n",
    "import matplotlib.pyplot as plt\n",
    "\n",
    "df = pd.read_csv(\"us-marriages-divorces-1867-2014.csv\")\n",
    "df.head()"
   ]
  },
  {
   "cell_type": "code",
   "execution_count": 154,
   "id": "331e3fc2",
   "metadata": {},
   "outputs": [
    {
     "data": {
      "image/png": "[encoded data removed]",
      "text/plain": [
       "<Figure size 1440x576 with 1 Axes>"
      ]
     },
     "metadata": {
      "needs_background": "light"
     },
     "output_type": "display_data"
    }
   ],
   "source": [
    "plt.figure(figsize=(20,8))\n",
    "plt.plot(df.Year,df.Marriages_per_1000,label=\"Marriages\")\n",
    "plt.plot(df.Year,df.Divorces_per_1000,label=\"Divorces\")\n",
    "\n",
    "plt.title('Marriages & Divorces per capita in the USA between 1867 and 2014',fontsize=20)\n",
    "plt.xlabel('Year',fontsize=20)\n",
    "plt.ylabel('Per Capita(1000)',fontsize=20)\n",
    "plt.xticks(fontsize=18)\n",
    "plt.yticks(fontsize=18)\n",
    "plt.legend()\n",
    "\n",
    "plt.xticks(df.Year[::10])\n",
    "\n",
    "plt.show()"
   ]
  },
  {
   "cell_type": "markdown",
   "id": "1451ccd0",
   "metadata": {},
   "source": [
    "# Question 7\n",
    "Create a vertical bar chart comparing the number of marriages and divorces per\n",
    "capita in the U.S. between 1900, 1950, and 2000.\n",
    "Don't forget to label your axes!"
   ]
  },
  {
   "cell_type": "code",
   "execution_count": 156,
   "id": "2efed534",
   "metadata": {},
   "outputs": [
    {
     "data": {
      "text/html": [
       "<div>\n",
       "<style scoped>\n",
       "    .dataframe tbody tr th:only-of-type {\n",
       "        vertical-align: middle;\n",
       "    }\n",
       "\n",
       "    .dataframe tbody tr th {\n",
       "        vertical-align: top;\n",
       "    }\n",
       "\n",
       "    .dataframe thead th {\n",
       "        text-align: right;\n",
       "    }\n",
       "</style>\n",
       "<table border=\"1\" class=\"dataframe\">\n",
       "  <thead>\n",
       "    <tr style=\"text-align: right;\">\n",
       "      <th></th>\n",
       "      <th>Year</th>\n",
       "      <th>Marriages</th>\n",
       "      <th>Divorces</th>\n",
       "      <th>Population</th>\n",
       "      <th>Marriages_per_1000</th>\n",
       "      <th>Divorces_per_1000</th>\n",
       "    </tr>\n",
       "  </thead>\n",
       "  <tbody>\n",
       "    <tr>\n",
       "      <th>33</th>\n",
       "      <td>1900</td>\n",
       "      <td>709000.0</td>\n",
       "      <td>56000.0</td>\n",
       "      <td>76094000</td>\n",
       "      <td>9.3</td>\n",
       "      <td>0.7</td>\n",
       "    </tr>\n",
       "    <tr>\n",
       "      <th>83</th>\n",
       "      <td>1950</td>\n",
       "      <td>1667000.0</td>\n",
       "      <td>385000.0</td>\n",
       "      <td>151684000</td>\n",
       "      <td>11.0</td>\n",
       "      <td>2.5</td>\n",
       "    </tr>\n",
       "    <tr>\n",
       "      <th>133</th>\n",
       "      <td>2000</td>\n",
       "      <td>2315000.0</td>\n",
       "      <td>944000.0</td>\n",
       "      <td>282398000</td>\n",
       "      <td>8.2</td>\n",
       "      <td>3.3</td>\n",
       "    </tr>\n",
       "  </tbody>\n",
       "</table>\n",
       "</div>"
      ],
      "text/plain": [
       "     Year  Marriages  Divorces  Population  Marriages_per_1000  \\\n",
       "33   1900   709000.0   56000.0    76094000                 9.3   \n",
       "83   1950  1667000.0  385000.0   151684000                11.0   \n",
       "133  2000  2315000.0  944000.0   282398000                 8.2   \n",
       "\n",
       "     Divorces_per_1000  \n",
       "33                 0.7  \n",
       "83                 2.5  \n",
       "133                3.3  "
      ]
     },
     "execution_count": 156,
     "metadata": {},
     "output_type": "execute_result"
    }
   ],
   "source": [
    "import pandas as pd\n",
    "\n",
    "df = pd.read_csv(\"us-marriages-divorces-1867-2014.csv\")\n",
    "\n",
    "new_df = df[(df.Year == 1900) | (df.Year == 1950) |(df.Year == 2000)]\n",
    "new_df\n"
   ]
  },
  {
   "cell_type": "code",
   "execution_count": 162,
   "id": "03f25c8c",
   "metadata": {},
   "outputs": [
    {
     "data": {
      "text/plain": [
       "<matplotlib.legend.Legend at 0x27d26ba7610>"
      ]
     },
     "execution_count": 162,
     "metadata": {},
     "output_type": "execute_result"
    },
    {
     "data": {
      "image/png": "[encoded data removed]",
      "text/plain": [
       "<Figure size 720x360 with 1 Axes>"
      ]
     },
     "metadata": {
      "needs_background": "light"
     },
     "output_type": "display_data"
    }
   ],
   "source": [
    "new_df.set_index('Year')[['Marriages_per_1000', 'Divorces_per_1000']].plot(kind='bar', figsize=(10, 5))\n",
    "\n",
    "plt.xticks(rotation=360)\n",
    "plt.title(\"Comparing the number of marriages and divorces per capita in the U.S. between 1900, 1950, and 2000\", fontsize=16, y=1.01)\n",
    "plt.xlabel(\"Year\", labelpad=15)\n",
    "plt.ylabel(\"Per Capita(1000)\", labelpad=15)\n",
    "plt.legend([\"Marriages_per_1000\", \"Divorces_per_1000\"], fontsize=14)"
   ]
  },
  {
   "cell_type": "markdown",
   "id": "cbff4ac9",
   "metadata": {},
   "source": [
    "# Question 8\n",
    "Create a horizontal bar chart that compares the deadliest actors in Hollywood. Sort\n",
    "the actors by their kill count and label each bar with the corresponding actor's name.\n",
    "Don't forget to label your axes!"
   ]
  },
  {
   "cell_type": "code",
   "execution_count": 163,
   "id": "c383c1a2",
   "metadata": {},
   "outputs": [
    {
     "data": {
      "text/html": [
       "<div>\n",
       "<style scoped>\n",
       "    .dataframe tbody tr th:only-of-type {\n",
       "        vertical-align: middle;\n",
       "    }\n",
       "\n",
       "    .dataframe tbody tr th {\n",
       "        vertical-align: top;\n",
       "    }\n",
       "\n",
       "    .dataframe thead th {\n",
       "        text-align: right;\n",
       "    }\n",
       "</style>\n",
       "<table border=\"1\" class=\"dataframe\">\n",
       "  <thead>\n",
       "    <tr style=\"text-align: right;\">\n",
       "      <th></th>\n",
       "      <th>Actor</th>\n",
       "      <th>Count</th>\n",
       "    </tr>\n",
       "  </thead>\n",
       "  <tbody>\n",
       "    <tr>\n",
       "      <th>0</th>\n",
       "      <td>Arnold Schwarzenegger</td>\n",
       "      <td>369</td>\n",
       "    </tr>\n",
       "    <tr>\n",
       "      <th>1</th>\n",
       "      <td>Chow Yun-Fat</td>\n",
       "      <td>295</td>\n",
       "    </tr>\n",
       "    <tr>\n",
       "      <th>2</th>\n",
       "      <td>Clint Eastwood</td>\n",
       "      <td>207</td>\n",
       "    </tr>\n",
       "    <tr>\n",
       "      <th>3</th>\n",
       "      <td>Clive Owen</td>\n",
       "      <td>194</td>\n",
       "    </tr>\n",
       "    <tr>\n",
       "      <th>4</th>\n",
       "      <td>Dolph Lundgren</td>\n",
       "      <td>239</td>\n",
       "    </tr>\n",
       "    <tr>\n",
       "      <th>5</th>\n",
       "      <td>Jet Li</td>\n",
       "      <td>201</td>\n",
       "    </tr>\n",
       "    <tr>\n",
       "      <th>6</th>\n",
       "      <td>Nicolas Cage</td>\n",
       "      <td>204</td>\n",
       "    </tr>\n",
       "    <tr>\n",
       "      <th>7</th>\n",
       "      <td>Sylvester Stallone</td>\n",
       "      <td>267</td>\n",
       "    </tr>\n",
       "    <tr>\n",
       "      <th>8</th>\n",
       "      <td>Tomisaburo Wakayama</td>\n",
       "      <td>226</td>\n",
       "    </tr>\n",
       "    <tr>\n",
       "      <th>9</th>\n",
       "      <td>Wesley Snipes</td>\n",
       "      <td>193</td>\n",
       "    </tr>\n",
       "  </tbody>\n",
       "</table>\n",
       "</div>"
      ],
      "text/plain": [
       "                   Actor  Count\n",
       "0  Arnold Schwarzenegger    369\n",
       "1           Chow Yun-Fat    295\n",
       "2         Clint Eastwood    207\n",
       "3             Clive Owen    194\n",
       "4         Dolph Lundgren    239\n",
       "5                 Jet Li    201\n",
       "6           Nicolas Cage    204\n",
       "7     Sylvester Stallone    267\n",
       "8    Tomisaburo Wakayama    226\n",
       "9          Wesley Snipes    193"
      ]
     },
     "execution_count": 163,
     "metadata": {},
     "output_type": "execute_result"
    }
   ],
   "source": [
    "import pandas as pd\n",
    "import matplotlib.pyplot as plt\n",
    "\n",
    "hollywood_df = pd.read_csv(\"actor_kill_counts.csv\")\n",
    "hollywood_df"
   ]
  },
  {
   "cell_type": "code",
   "execution_count": 169,
   "id": "19f7095a",
   "metadata": {},
   "outputs": [
    {
     "data": {
      "image/png": "[encoded data removed]",
      "text/plain": [
       "<Figure size 1296x720 with 1 Axes>"
      ]
     },
     "metadata": {
      "needs_background": "light"
     },
     "output_type": "display_data"
    }
   ],
   "source": [
    "plt.figure(figsize=(18,10))\n",
    "plt.barh(hollywood_df.Actor,hollywood_df.Count,align='center')\n",
    "hollywood_df = hollywood_df.sort_values('Count',ascending = True)\n",
    "\n",
    "plt.title('Deadliest Actors in Hollywood',fontsize=20)\n",
    "plt.xlabel('Kill Count',fontsize=20)\n",
    "plt.ylabel('Actor',fontsize=20)\n",
    "plt.xticks(fontsize=18)\n",
    "plt.yticks(fontsize=18)\n",
    "\n",
    "plt.show()"
   ]
  },
  {
   "cell_type": "markdown",
   "id": "2cbe68e8",
   "metadata": {},
   "source": [
    "# Question 9\n",
    "Create a pie chart showing the fraction of all Roman Emperors that were\n",
    "assassinated.\n",
    "Make sure that the pie chart is an even circle, labels the categories, and shows the\n",
    "percentage breakdown of the categories.\n"
   ]
  },
  {
   "cell_type": "code",
   "execution_count": 182,
   "id": "d3c8b964",
   "metadata": {},
   "outputs": [
    {
     "data": {
      "text/html": [
       "<div>\n",
       "<style scoped>\n",
       "    .dataframe tbody tr th:only-of-type {\n",
       "        vertical-align: middle;\n",
       "    }\n",
       "\n",
       "    .dataframe tbody tr th {\n",
       "        vertical-align: top;\n",
       "    }\n",
       "\n",
       "    .dataframe thead th {\n",
       "        text-align: right;\n",
       "    }\n",
       "</style>\n",
       "<table border=\"1\" class=\"dataframe\">\n",
       "  <thead>\n",
       "    <tr style=\"text-align: right;\">\n",
       "      <th></th>\n",
       "      <th>Emperor</th>\n",
       "      <th>Length_of_Reign</th>\n",
       "      <th>Cause_of_Death</th>\n",
       "    </tr>\n",
       "  </thead>\n",
       "  <tbody>\n",
       "    <tr>\n",
       "      <th>0</th>\n",
       "      <td>Augustus</td>\n",
       "      <td>40.58</td>\n",
       "      <td>Possibly assassinated</td>\n",
       "    </tr>\n",
       "    <tr>\n",
       "      <th>1</th>\n",
       "      <td>Tiberius</td>\n",
       "      <td>22.50</td>\n",
       "      <td>Possibly assassinated</td>\n",
       "    </tr>\n",
       "    <tr>\n",
       "      <th>2</th>\n",
       "      <td>Caligula</td>\n",
       "      <td>4.83</td>\n",
       "      <td>Assassinated</td>\n",
       "    </tr>\n",
       "    <tr>\n",
       "      <th>3</th>\n",
       "      <td>Claudius</td>\n",
       "      <td>13.75</td>\n",
       "      <td>Possibly assassinated</td>\n",
       "    </tr>\n",
       "    <tr>\n",
       "      <th>4</th>\n",
       "      <td>Nero</td>\n",
       "      <td>13.67</td>\n",
       "      <td>Suicide</td>\n",
       "    </tr>\n",
       "  </tbody>\n",
       "</table>\n",
       "</div>"
      ],
      "text/plain": [
       "    Emperor  Length_of_Reign         Cause_of_Death\n",
       "0  Augustus            40.58  Possibly assassinated\n",
       "1  Tiberius            22.50  Possibly assassinated\n",
       "2  Caligula             4.83           Assassinated\n",
       "3  Claudius            13.75  Possibly assassinated\n",
       "4      Nero            13.67                Suicide"
      ]
     },
     "execution_count": 182,
     "metadata": {},
     "output_type": "execute_result"
    }
   ],
   "source": [
    "import pandas as pd\n",
    "\n",
    "roman_emporer = pd.read_csv(\"roman-emperor-reigns.csv\")\n",
    "roman_emporer.head()"
   ]
  },
  {
   "cell_type": "code",
   "execution_count": 207,
   "id": "83f2b1d4",
   "metadata": {},
   "outputs": [
    {
     "data": {
      "application/vnd.plotly.v1+json": {
       "config": {
        "linkText": "Export to plot.ly",
        "plotlyServerURL": "https://plot.ly",
        "showLink": false
       },
       "data": [
        {
         "domain": {
          "x": [
           0.4,
           0.1
          ]
         },
         "hole": 0,
         "hoverinfo": "label+percent+name",
         "labels": [
          "Possibly assassinated",
          "Possibly assassinated",
          "Assassinated",
          "Possibly assassinated",
          "Suicide",
          "Assassinated",
          "Suicide",
          "Assassinated",
          "Natural causes",
          "Illness",
          "Assassinated",
          "Natural causes",
          "Natural causes",
          "Natural causes",
          "Natural causes",
          "Illness",
          "Illness",
          "Assassinated",
          "Assassinated",
          "Executed",
          "Natural causes",
          "Assassinated",
          "Assassinated",
          "Executed",
          "Assassinated",
          "Assassinated",
          "Assassinated",
          "Suicide",
          "Killed in battle",
          "Assassinated",
          "Assassinated",
          "Possibly assassinated",
          "Killed in battle",
          "Killed in battle",
          "Illness",
          "Assassinated",
          "Assassinated",
          "Died in captivity",
          "Assassinated",
          "Illness",
          "Possibly assassinated",
          "Assassinated",
          "Possibly assassinated",
          "Assassinated",
          "Assassinated",
          "Natural causes",
          "Possibly assassinated",
          "Killed in battle",
          "Natural causes",
          "Suicide",
          "Natural causes",
          "Natural causes",
          "Assassinated",
          "Natural causes",
          "Killed in battle",
          "Suicide",
          "Executed",
          "Killed in battle",
          "Natural causes",
          "Assassinated",
          "Natural causes",
          "Killed in battle",
          "Natural causes",
          "Natural causes",
          "Killed in battle",
          "Assassinated",
          "Possibly assassinated",
          "Natural causes"
         ],
         "name": "",
         "type": "pie"
        }
       ],
       "layout": {
        "annotations": [
         {
          "font": {
           "size": 20
          },
          "showarrow": false,
          "text": "",
          "x": 0.2,
          "y": 1
         }
        ],
        "template": {
         "data": {
          "bar": [
           {
            "error_x": {
             "color": "#2a3f5f"
            },
            "error_y": {
             "color": "#2a3f5f"
            },
            "marker": {
             "line": {
              "color": "#E5ECF6",
              "width": 0.5
             },
             "pattern": {
              "fillmode": "overlay",
              "size": 10,
              "solidity": 0.2
             }
            },
            "type": "bar"
           }
          ],
          "barpolar": [
           {
            "marker": {
             "line": {
              "color": "#E5ECF6",
              "width": 0.5
             },
             "pattern": {
              "fillmode": "overlay",
              "size": 10,
              "solidity": 0.2
             }
            },
            "type": "barpolar"
           }
          ],
          "carpet": [
           {
            "aaxis": {
             "endlinecolor": "#2a3f5f",
             "gridcolor": "white",
             "linecolor": "white",
             "minorgridcolor": "white",
             "startlinecolor": "#2a3f5f"
            },
            "baxis": {
             "endlinecolor": "#2a3f5f",
             "gridcolor": "white",
             "linecolor": "white",
             "minorgridcolor": "white",
             "startlinecolor": "#2a3f5f"
            },
            "type": "carpet"
           }
          ],
          "choropleth": [
           {
            "colorbar": {
             "outlinewidth": 0,
             "ticks": ""
            },
            "type": "choropleth"
           }
          ],
          "contour": [
           {
            "colorbar": {
             "outlinewidth": 0,
             "ticks": ""
            },
            "colorscale": [
             [
              0,
              "#0d0887"
             ],
             [
              0.1111111111111111,
              "#46039f"
             ],
             [
              0.2222222222222222,
              "#7201a8"
             ],
             [
              0.3333333333333333,
              "#9c179e"
             ],
             [
              0.4444444444444444,
              "#bd3786"
             ],
             [
              0.5555555555555556,
              "#d8576b"
             ],
             [
              0.6666666666666666,
              "#ed7953"
             ],
             [
              0.7777777777777778,
              "#fb9f3a"
             ],
             [
              0.8888888888888888,
              "#fdca26"
             ],
             [
              1,
              "#f0f921"
             ]
            ],
            "type": "contour"
           }
          ],
          "contourcarpet": [
           {
            "colorbar": {
             "outlinewidth": 0,
             "ticks": ""
            },
            "type": "contourcarpet"
           }
          ],
          "heatmap": [
           {
            "colorbar": {
             "outlinewidth": 0,
             "ticks": ""
            },
            "colorscale": [
             [
              0,
              "#0d0887"
             ],
             [
              0.1111111111111111,
              "#46039f"
             ],
             [
              0.2222222222222222,
              "#7201a8"
             ],
             [
              0.3333333333333333,
              "#9c179e"
             ],
             [
              0.4444444444444444,
              "#bd3786"
             ],
             [
              0.5555555555555556,
              "#d8576b"
             ],
             [
              0.6666666666666666,
              "#ed7953"
             ],
             [
              0.7777777777777778,
              "#fb9f3a"
             ],
             [
              0.8888888888888888,
              "#fdca26"
             ],
             [
              1,
              "#f0f921"
             ]
            ],
            "type": "heatmap"
           }
          ],
          "heatmapgl": [
           {
            "colorbar": {
             "outlinewidth": 0,
             "ticks": ""
            },
            "colorscale": [
             [
              0,
              "#0d0887"
             ],
             [
              0.1111111111111111,
              "#46039f"
             ],
             [
              0.2222222222222222,
              "#7201a8"
             ],
             [
              0.3333333333333333,
              "#9c179e"
             ],
             [
              0.4444444444444444,
              "#bd3786"
             ],
             [
              0.5555555555555556,
              "#d8576b"
             ],
             [
              0.6666666666666666,
              "#ed7953"
             ],
             [
              0.7777777777777778,
              "#fb9f3a"
             ],
             [
              0.8888888888888888,
              "#fdca26"
             ],
             [
              1,
              "#f0f921"
             ]
            ],
            "type": "heatmapgl"
           }
          ],
          "histogram": [
           {
            "marker": {
             "pattern": {
              "fillmode": "overlay",
              "size": 10,
              "solidity": 0.2
             }
            },
            "type": "histogram"
           }
          ],
          "histogram2d": [
           {
            "colorbar": {
             "outlinewidth": 0,
             "ticks": ""
            },
            "colorscale": [
             [
              0,
              "#0d0887"
             ],
             [
              0.1111111111111111,
              "#46039f"
             ],
             [
              0.2222222222222222,
              "#7201a8"
             ],
             [
              0.3333333333333333,
              "#9c179e"
             ],
             [
              0.4444444444444444,
              "#bd3786"
             ],
             [
              0.5555555555555556,
              "#d8576b"
             ],
             [
              0.6666666666666666,
              "#ed7953"
             ],
             [
              0.7777777777777778,
              "#fb9f3a"
             ],
             [
              0.8888888888888888,
              "#fdca26"
             ],
             [
              1,
              "#f0f921"
             ]
            ],
            "type": "histogram2d"
           }
          ],
          "histogram2dcontour": [
           {
            "colorbar": {
             "outlinewidth": 0,
             "ticks": ""
            },
            "colorscale": [
             [
              0,
              "#0d0887"
             ],
             [
              0.1111111111111111,
              "#46039f"
             ],
             [
              0.2222222222222222,
              "#7201a8"
             ],
             [
              0.3333333333333333,
              "#9c179e"
             ],
             [
              0.4444444444444444,
              "#bd3786"
             ],
             [
              0.5555555555555556,
              "#d8576b"
             ],
             [
              0.6666666666666666,
              "#ed7953"
             ],
             [
              0.7777777777777778,
              "#fb9f3a"
             ],
             [
              0.8888888888888888,
              "#fdca26"
             ],
             [
              1,
              "#f0f921"
             ]
            ],
            "type": "histogram2dcontour"
           }
          ],
          "mesh3d": [
           {
            "colorbar": {
             "outlinewidth": 0,
             "ticks": ""
            },
            "type": "mesh3d"
           }
          ],
          "parcoords": [
           {
            "line": {
             "colorbar": {
              "outlinewidth": 0,
              "ticks": ""
             }
            },
            "type": "parcoords"
           }
          ],
          "pie": [
           {
            "automargin": true,
            "type": "pie"
           }
          ],
          "scatter": [
           {
            "fillpattern": {
             "fillmode": "overlay",
             "size": 10,
             "solidity": 0.2
            },
            "type": "scatter"
           }
          ],
          "scatter3d": [
           {
            "line": {
             "colorbar": {
              "outlinewidth": 0,
              "ticks": ""
             }
            },
            "marker": {
             "colorbar": {
              "outlinewidth": 0,
              "ticks": ""
             }
            },
            "type": "scatter3d"
           }
          ],
          "scattercarpet": [
           {
            "marker": {
             "colorbar": {
              "outlinewidth": 0,
              "ticks": ""
             }
            },
            "type": "scattercarpet"
           }
          ],
          "scattergeo": [
           {
            "marker": {
             "colorbar": {
              "outlinewidth": 0,
              "ticks": ""
             }
            },
            "type": "scattergeo"
           }
          ],
          "scattergl": [
           {
            "marker": {
             "colorbar": {
              "outlinewidth": 0,
              "ticks": ""
             }
            },
            "type": "scattergl"
           }
          ],
          "scattermapbox": [
           {
            "marker": {
             "colorbar": {
              "outlinewidth": 0,
              "ticks": ""
             }
            },
            "type": "scattermapbox"
           }
          ],
          "scatterpolar": [
           {
            "marker": {
             "colorbar": {
              "outlinewidth": 0,
              "ticks": ""
             }
            },
            "type": "scatterpolar"
           }
          ],
          "scatterpolargl": [
           {
            "marker": {
             "colorbar": {
              "outlinewidth": 0,
              "ticks": ""
             }
            },
            "type": "scatterpolargl"
           }
          ],
          "scatterternary": [
           {
            "marker": {
             "colorbar": {
              "outlinewidth": 0,
              "ticks": ""
             }
            },
            "type": "scatterternary"
           }
          ],
          "surface": [
           {
            "colorbar": {
             "outlinewidth": 0,
             "ticks": ""
            },
            "colorscale": [
             [
              0,
              "#0d0887"
             ],
             [
              0.1111111111111111,
              "#46039f"
             ],
             [
              0.2222222222222222,
              "#7201a8"
             ],
             [
              0.3333333333333333,
              "#9c179e"
             ],
             [
              0.4444444444444444,
              "#bd3786"
             ],
             [
              0.5555555555555556,
              "#d8576b"
             ],
             [
              0.6666666666666666,
              "#ed7953"
             ],
             [
              0.7777777777777778,
              "#fb9f3a"
             ],
             [
              0.8888888888888888,
              "#fdca26"
             ],
             [
              1,
              "#f0f921"
             ]
            ],
            "type": "surface"
           }
          ],
          "table": [
           {
            "cells": {
             "fill": {
              "color": "#EBF0F8"
             },
             "line": {
              "color": "white"
             }
            },
            "header": {
             "fill": {
              "color": "#C8D4E3"
             },
             "line": {
              "color": "white"
             }
            },
            "type": "table"
           }
          ]
         },
         "layout": {
          "annotationdefaults": {
           "arrowcolor": "#2a3f5f",
           "arrowhead": 0,
           "arrowwidth": 1
          },
          "autotypenumbers": "strict",
          "coloraxis": {
           "colorbar": {
            "outlinewidth": 0,
            "ticks": ""
           }
          },
          "colorscale": {
           "diverging": [
            [
             0,
             "#8e0152"
            ],
            [
             0.1,
             "#c51b7d"
            ],
            [
             0.2,
             "#de77ae"
            ],
            [
             0.3,
             "#f1b6da"
            ],
            [
             0.4,
             "#fde0ef"
            ],
            [
             0.5,
             "#f7f7f7"
            ],
            [
             0.6,
             "#e6f5d0"
            ],
            [
             0.7,
             "#b8e186"
            ],
            [
             0.8,
             "#7fbc41"
            ],
            [
             0.9,
             "#4d9221"
            ],
            [
             1,
             "#276419"
            ]
           ],
           "sequential": [
            [
             0,
             "#0d0887"
            ],
            [
             0.1111111111111111,
             "#46039f"
            ],
            [
             0.2222222222222222,
             "#7201a8"
            ],
            [
             0.3333333333333333,
             "#9c179e"
            ],
            [
             0.4444444444444444,
             "#bd3786"
            ],
            [
             0.5555555555555556,
             "#d8576b"
            ],
            [
             0.6666666666666666,
             "#ed7953"
            ],
            [
             0.7777777777777778,
             "#fb9f3a"
            ],
            [
             0.8888888888888888,
             "#fdca26"
            ],
            [
             1,
             "#f0f921"
            ]
           ],
           "sequentialminus": [
            [
             0,
             "#0d0887"
            ],
            [
             0.1111111111111111,
             "#46039f"
            ],
            [
             0.2222222222222222,
             "#7201a8"
            ],
            [
             0.3333333333333333,
             "#9c179e"
            ],
            [
             0.4444444444444444,
             "#bd3786"
            ],
            [
             0.5555555555555556,
             "#d8576b"
            ],
            [
             0.6666666666666666,
             "#ed7953"
            ],
            [
             0.7777777777777778,
             "#fb9f3a"
            ],
            [
             0.8888888888888888,
             "#fdca26"
            ],
            [
             1,
             "#f0f921"
            ]
           ]
          },
          "colorway": [
           "#636efa",
           "#EF553B",
           "#00cc96",
           "#ab63fa",
           "#FFA15A",
           "#19d3f3",
           "#FF6692",
           "#B6E880",
           "#FF97FF",
           "#FECB52"
          ],
          "font": {
           "color": "#2a3f5f"
          },
          "geo": {
           "bgcolor": "white",
           "lakecolor": "white",
           "landcolor": "#E5ECF6",
           "showlakes": true,
           "showland": true,
           "subunitcolor": "white"
          },
          "hoverlabel": {
           "align": "left"
          },
          "hovermode": "closest",
          "mapbox": {
           "style": "light"
          },
          "paper_bgcolor": "white",
          "plot_bgcolor": "#E5ECF6",
          "polar": {
           "angularaxis": {
            "gridcolor": "white",
            "linecolor": "white",
            "ticks": ""
           },
           "bgcolor": "#E5ECF6",
           "radialaxis": {
            "gridcolor": "white",
            "linecolor": "white",
            "ticks": ""
           }
          },
          "scene": {
           "xaxis": {
            "backgroundcolor": "#E5ECF6",
            "gridcolor": "white",
            "gridwidth": 2,
            "linecolor": "white",
            "showbackground": true,
            "ticks": "",
            "zerolinecolor": "white"
           },
           "yaxis": {
            "backgroundcolor": "#E5ECF6",
            "gridcolor": "white",
            "gridwidth": 2,
            "linecolor": "white",
            "showbackground": true,
            "ticks": "",
            "zerolinecolor": "white"
           },
           "zaxis": {
            "backgroundcolor": "#E5ECF6",
            "gridcolor": "white",
            "gridwidth": 2,
            "linecolor": "white",
            "showbackground": true,
            "ticks": "",
            "zerolinecolor": "white"
           }
          },
          "shapedefaults": {
           "line": {
            "color": "#2a3f5f"
           }
          },
          "ternary": {
           "aaxis": {
            "gridcolor": "white",
            "linecolor": "white",
            "ticks": ""
           },
           "baxis": {
            "gridcolor": "white",
            "linecolor": "white",
            "ticks": ""
           },
           "bgcolor": "#E5ECF6",
           "caxis": {
            "gridcolor": "white",
            "linecolor": "white",
            "ticks": ""
           }
          },
          "title": {
           "x": 0.05
          },
          "xaxis": {
           "automargin": true,
           "gridcolor": "white",
           "linecolor": "white",
           "ticks": "",
           "title": {
            "standoff": 15
           },
           "zerolinecolor": "white",
           "zerolinewidth": 2
          },
          "yaxis": {
           "automargin": true,
           "gridcolor": "white",
           "linecolor": "white",
           "ticks": "",
           "title": {
            "standoff": 15
           },
           "zerolinecolor": "white",
           "zerolinewidth": 2
          }
         }
        },
        "title": {
         "text": "Causes of Death of all Roman Emporer"
        }
       }
      },
      "text/html": [
       "<div>                            <div id=\"79616eda-7b88-4125-9f6e-f4f67c75a50c\" class=\"plotly-graph-div\" style=\"height:525px; width:100%;\"></div>            <script type=\"text/javascript\">                require([\"plotly\"], function(Plotly) {                    window.PLOTLYENV=window.PLOTLYENV || {};                                    if (document.getElementById(\"79616eda-7b88-4125-9f6e-f4f67c75a50c\")) {                    Plotly.newPlot(                        \"79616eda-7b88-4125-9f6e-f4f67c75a50c\",                        [{\"domain\":{\"x\":[0.4,0.1]},\"hole\":0,\"hoverinfo\":\"label+percent+name\",\"labels\":[\"Possibly assassinated\",\"Possibly assassinated\",\"Assassinated\",\"Possibly assassinated\",\"Suicide\",\"Assassinated\",\"Suicide\",\"Assassinated\",\"Natural causes\",\"Illness\",\"Assassinated\",\"Natural causes\",\"Natural causes\",\"Natural causes\",\"Natural causes\",\"Illness\",\"Illness\",\"Assassinated\",\"Assassinated\",\"Executed\",\"Natural causes\",\"Assassinated\",\"Assassinated\",\"Executed\",\"Assassinated\",\"Assassinated\",\"Assassinated\",\"Suicide\",\"Killed in battle\",\"Assassinated\",\"Assassinated\",\"Possibly assassinated\",\"Killed in battle\",\"Killed in battle\",\"Illness\",\"Assassinated\",\"Assassinated\",\"Died in captivity\",\"Assassinated\",\"Illness\",\"Possibly assassinated\",\"Assassinated\",\"Possibly assassinated\",\"Assassinated\",\"Assassinated\",\"Natural causes\",\"Possibly assassinated\",\"Killed in battle\",\"Natural causes\",\"Suicide\",\"Natural causes\",\"Natural causes\",\"Assassinated\",\"Natural causes\",\"Killed in battle\",\"Suicide\",\"Executed\",\"Killed in battle\",\"Natural causes\",\"Assassinated\",\"Natural causes\",\"Killed in battle\",\"Natural causes\",\"Natural causes\",\"Killed in battle\",\"Assassinated\",\"Possibly assassinated\",\"Natural causes\"],\"name\":\"\",\"type\":\"pie\"}],                        {\"annotations\":[{\"font\":{\"size\":20},\"showarrow\":false,\"text\":\"\",\"x\":0.2,\"y\":1}],\"template\":{\"data\":{\"barpolar\":[{\"marker\":{\"line\":{\"color\":\"#E5ECF6\",\"width\":0.5},\"pattern\":{\"fillmode\":\"overlay\",\"size\":10,\"solidity\":0.2}},\"type\":\"barpolar\"}],\"bar\":[{\"error_x\":{\"color\":\"#2a3f5f\"},\"error_y\":{\"color\":\"#2a3f5f\"},\"marker\":{\"line\":{\"color\":\"#E5ECF6\",\"width\":0.5},\"pattern\":{\"fillmode\":\"overlay\",\"size\":10,\"solidity\":0.2}},\"type\":\"bar\"}],\"carpet\":[{\"aaxis\":{\"endlinecolor\":\"#2a3f5f\",\"gridcolor\":\"white\",\"linecolor\":\"white\",\"minorgridcolor\":\"white\",\"startlinecolor\":\"#2a3f5f\"},\"baxis\":{\"endlinecolor\":\"#2a3f5f\",\"gridcolor\":\"white\",\"linecolor\":\"white\",\"minorgridcolor\":\"white\",\"startlinecolor\":\"#2a3f5f\"},\"type\":\"carpet\"}],\"choropleth\":[{\"colorbar\":{\"outlinewidth\":0,\"ticks\":\"\"},\"type\":\"choropleth\"}],\"contourcarpet\":[{\"colorbar\":{\"outlinewidth\":0,\"ticks\":\"\"},\"type\":\"contourcarpet\"}],\"contour\":[{\"colorbar\":{\"outlinewidth\":0,\"ticks\":\"\"},\"colorscale\":[[0.0,\"#0d0887\"],[0.1111111111111111,\"#46039f\"],[0.2222222222222222,\"#7201a8\"],[0.3333333333333333,\"#9c179e\"],[0.4444444444444444,\"#bd3786\"],[0.5555555555555556,\"#d8576b\"],[0.6666666666666666,\"#ed7953\"],[0.7777777777777778,\"#fb9f3a\"],[0.8888888888888888,\"#fdca26\"],[1.0,\"#f0f921\"]],\"type\":\"contour\"}],\"heatmapgl\":[{\"colorbar\":{\"outlinewidth\":0,\"ticks\":\"\"},\"colorscale\":[[0.0,\"#0d0887\"],[0.1111111111111111,\"#46039f\"],[0.2222222222222222,\"#7201a8\"],[0.3333333333333333,\"#9c179e\"],[0.4444444444444444,\"#bd3786\"],[0.5555555555555556,\"#d8576b\"],[0.6666666666666666,\"#ed7953\"],[0.7777777777777778,\"#fb9f3a\"],[0.8888888888888888,\"#fdca26\"],[1.0,\"#f0f921\"]],\"type\":\"heatmapgl\"}],\"heatmap\":[{\"colorbar\":{\"outlinewidth\":0,\"ticks\":\"\"},\"colorscale\":[[0.0,\"#0d0887\"],[0.1111111111111111,\"#46039f\"],[0.2222222222222222,\"#7201a8\"],[0.3333333333333333,\"#9c179e\"],[0.4444444444444444,\"#bd3786\"],[0.5555555555555556,\"#d8576b\"],[0.6666666666666666,\"#ed7953\"],[0.7777777777777778,\"#fb9f3a\"],[0.8888888888888888,\"#fdca26\"],[1.0,\"#f0f921\"]],\"type\":\"heatmap\"}],\"histogram2dcontour\":[{\"colorbar\":{\"outlinewidth\":0,\"ticks\":\"\"},\"colorscale\":[[0.0,\"#0d0887\"],[0.1111111111111111,\"#46039f\"],[0.2222222222222222,\"#7201a8\"],[0.3333333333333333,\"#9c179e\"],[0.4444444444444444,\"#bd3786\"],[0.5555555555555556,\"#d8576b\"],[0.6666666666666666,\"#ed7953\"],[0.7777777777777778,\"#fb9f3a\"],[0.8888888888888888,\"#fdca26\"],[1.0,\"#f0f921\"]],\"type\":\"histogram2dcontour\"}],\"histogram2d\":[{\"colorbar\":{\"outlinewidth\":0,\"ticks\":\"\"},\"colorscale\":[[0.0,\"#0d0887\"],[0.1111111111111111,\"#46039f\"],[0.2222222222222222,\"#7201a8\"],[0.3333333333333333,\"#9c179e\"],[0.4444444444444444,\"#bd3786\"],[0.5555555555555556,\"#d8576b\"],[0.6666666666666666,\"#ed7953\"],[0.7777777777777778,\"#fb9f3a\"],[0.8888888888888888,\"#fdca26\"],[1.0,\"#f0f921\"]],\"type\":\"histogram2d\"}],\"histogram\":[{\"marker\":{\"pattern\":{\"fillmode\":\"overlay\",\"size\":10,\"solidity\":0.2}},\"type\":\"histogram\"}],\"mesh3d\":[{\"colorbar\":{\"outlinewidth\":0,\"ticks\":\"\"},\"type\":\"mesh3d\"}],\"parcoords\":[{\"line\":{\"colorbar\":{\"outlinewidth\":0,\"ticks\":\"\"}},\"type\":\"parcoords\"}],\"pie\":[{\"automargin\":true,\"type\":\"pie\"}],\"scatter3d\":[{\"line\":{\"colorbar\":{\"outlinewidth\":0,\"ticks\":\"\"}},\"marker\":{\"colorbar\":{\"outlinewidth\":0,\"ticks\":\"\"}},\"type\":\"scatter3d\"}],\"scattercarpet\":[{\"marker\":{\"colorbar\":{\"outlinewidth\":0,\"ticks\":\"\"}},\"type\":\"scattercarpet\"}],\"scattergeo\":[{\"marker\":{\"colorbar\":{\"outlinewidth\":0,\"ticks\":\"\"}},\"type\":\"scattergeo\"}],\"scattergl\":[{\"marker\":{\"colorbar\":{\"outlinewidth\":0,\"ticks\":\"\"}},\"type\":\"scattergl\"}],\"scattermapbox\":[{\"marker\":{\"colorbar\":{\"outlinewidth\":0,\"ticks\":\"\"}},\"type\":\"scattermapbox\"}],\"scatterpolargl\":[{\"marker\":{\"colorbar\":{\"outlinewidth\":0,\"ticks\":\"\"}},\"type\":\"scatterpolargl\"}],\"scatterpolar\":[{\"marker\":{\"colorbar\":{\"outlinewidth\":0,\"ticks\":\"\"}},\"type\":\"scatterpolar\"}],\"scatter\":[{\"fillpattern\":{\"fillmode\":\"overlay\",\"size\":10,\"solidity\":0.2},\"type\":\"scatter\"}],\"scatterternary\":[{\"marker\":{\"colorbar\":{\"outlinewidth\":0,\"ticks\":\"\"}},\"type\":\"scatterternary\"}],\"surface\":[{\"colorbar\":{\"outlinewidth\":0,\"ticks\":\"\"},\"colorscale\":[[0.0,\"#0d0887\"],[0.1111111111111111,\"#46039f\"],[0.2222222222222222,\"#7201a8\"],[0.3333333333333333,\"#9c179e\"],[0.4444444444444444,\"#bd3786\"],[0.5555555555555556,\"#d8576b\"],[0.6666666666666666,\"#ed7953\"],[0.7777777777777778,\"#fb9f3a\"],[0.8888888888888888,\"#fdca26\"],[1.0,\"#f0f921\"]],\"type\":\"surface\"}],\"table\":[{\"cells\":{\"fill\":{\"color\":\"#EBF0F8\"},\"line\":{\"color\":\"white\"}},\"header\":{\"fill\":{\"color\":\"#C8D4E3\"},\"line\":{\"color\":\"white\"}},\"type\":\"table\"}]},\"layout\":{\"annotationdefaults\":{\"arrowcolor\":\"#2a3f5f\",\"arrowhead\":0,\"arrowwidth\":1},\"autotypenumbers\":\"strict\",\"coloraxis\":{\"colorbar\":{\"outlinewidth\":0,\"ticks\":\"\"}},\"colorscale\":{\"diverging\":[[0,\"#8e0152\"],[0.1,\"#c51b7d\"],[0.2,\"#de77ae\"],[0.3,\"#f1b6da\"],[0.4,\"#fde0ef\"],[0.5,\"#f7f7f7\"],[0.6,\"#e6f5d0\"],[0.7,\"#b8e186\"],[0.8,\"#7fbc41\"],[0.9,\"#4d9221\"],[1,\"#276419\"]],\"sequential\":[[0.0,\"#0d0887\"],[0.1111111111111111,\"#46039f\"],[0.2222222222222222,\"#7201a8\"],[0.3333333333333333,\"#9c179e\"],[0.4444444444444444,\"#bd3786\"],[0.5555555555555556,\"#d8576b\"],[0.6666666666666666,\"#ed7953\"],[0.7777777777777778,\"#fb9f3a\"],[0.8888888888888888,\"#fdca26\"],[1.0,\"#f0f921\"]],\"sequentialminus\":[[0.0,\"#0d0887\"],[0.1111111111111111,\"#46039f\"],[0.2222222222222222,\"#7201a8\"],[0.3333333333333333,\"#9c179e\"],[0.4444444444444444,\"#bd3786\"],[0.5555555555555556,\"#d8576b\"],[0.6666666666666666,\"#ed7953\"],[0.7777777777777778,\"#fb9f3a\"],[0.8888888888888888,\"#fdca26\"],[1.0,\"#f0f921\"]]},\"colorway\":[\"#636efa\",\"#EF553B\",\"#00cc96\",\"#ab63fa\",\"#FFA15A\",\"#19d3f3\",\"#FF6692\",\"#B6E880\",\"#FF97FF\",\"#FECB52\"],\"font\":{\"color\":\"#2a3f5f\"},\"geo\":{\"bgcolor\":\"white\",\"lakecolor\":\"white\",\"landcolor\":\"#E5ECF6\",\"showlakes\":true,\"showland\":true,\"subunitcolor\":\"white\"},\"hoverlabel\":{\"align\":\"left\"},\"hovermode\":\"closest\",\"mapbox\":{\"style\":\"light\"},\"paper_bgcolor\":\"white\",\"plot_bgcolor\":\"#E5ECF6\",\"polar\":{\"angularaxis\":{\"gridcolor\":\"white\",\"linecolor\":\"white\",\"ticks\":\"\"},\"bgcolor\":\"#E5ECF6\",\"radialaxis\":{\"gridcolor\":\"white\",\"linecolor\":\"white\",\"ticks\":\"\"}},\"scene\":{\"xaxis\":{\"backgroundcolor\":\"#E5ECF6\",\"gridcolor\":\"white\",\"gridwidth\":2,\"linecolor\":\"white\",\"showbackground\":true,\"ticks\":\"\",\"zerolinecolor\":\"white\"},\"yaxis\":{\"backgroundcolor\":\"#E5ECF6\",\"gridcolor\":\"white\",\"gridwidth\":2,\"linecolor\":\"white\",\"showbackground\":true,\"ticks\":\"\",\"zerolinecolor\":\"white\"},\"zaxis\":{\"backgroundcolor\":\"#E5ECF6\",\"gridcolor\":\"white\",\"gridwidth\":2,\"linecolor\":\"white\",\"showbackground\":true,\"ticks\":\"\",\"zerolinecolor\":\"white\"}},\"shapedefaults\":{\"line\":{\"color\":\"#2a3f5f\"}},\"ternary\":{\"aaxis\":{\"gridcolor\":\"white\",\"linecolor\":\"white\",\"ticks\":\"\"},\"baxis\":{\"gridcolor\":\"white\",\"linecolor\":\"white\",\"ticks\":\"\"},\"bgcolor\":\"#E5ECF6\",\"caxis\":{\"gridcolor\":\"white\",\"linecolor\":\"white\",\"ticks\":\"\"}},\"title\":{\"x\":0.05},\"xaxis\":{\"automargin\":true,\"gridcolor\":\"white\",\"linecolor\":\"white\",\"ticks\":\"\",\"title\":{\"standoff\":15},\"zerolinecolor\":\"white\",\"zerolinewidth\":2},\"yaxis\":{\"automargin\":true,\"gridcolor\":\"white\",\"linecolor\":\"white\",\"ticks\":\"\",\"title\":{\"standoff\":15},\"zerolinecolor\":\"white\",\"zerolinewidth\":2}}},\"title\":{\"text\":\"Causes of Death of all Roman Emporer\"}},                        {\"responsive\": true}                    ).then(function(){\n",
       "                            \n",
       "var gd = document.getElementById('79616eda-7b88-4125-9f6e-f4f67c75a50c');\n",
       "var x = new MutationObserver(function (mutations, observer) {{\n",
       "        var display = window.getComputedStyle(gd).display;\n",
       "        if (!display || display === 'none') {{\n",
       "            console.log([gd, 'removed!']);\n",
       "            Plotly.purge(gd);\n",
       "            observer.disconnect();\n",
       "        }}\n",
       "}});\n",
       "\n",
       "// Listen for the removal of the full notebook cells\n",
       "var notebookContainer = gd.closest('#notebook-container');\n",
       "if (notebookContainer) {{\n",
       "    x.observe(notebookContainer, {childList: true});\n",
       "}}\n",
       "\n",
       "// Listen for the clearing of the current output cell\n",
       "var outputEl = gd.closest('.output');\n",
       "if (outputEl) {{\n",
       "    x.observe(outputEl, {childList: true});\n",
       "}}\n",
       "\n",
       "                        })                };                });            </script>        </div>"
      ]
     },
     "metadata": {},
     "output_type": "display_data"
    }
   ],
   "source": [
    "from plotly.offline import iplot\n",
    "\n",
    "pie1 = roman_emporer.Cause_of_Death\n",
    "labels = roman_emporer.Cause_of_Death\n",
    "\n",
    "fig = {\n",
    "  \"data\": [\n",
    "    {\n",
    "      \n",
    "      \"labels\": labels,\n",
    "      \"domain\": {\"x\": [.4, .10]},\n",
    "      \"name\": \"\",\n",
    "      \"hoverinfo\":\"label+percent+name\",\n",
    "      \"hole\": 0,\n",
    "      \"type\": \"pie\"\n",
    "    },],\n",
    "  \"layout\": {\n",
    "        \"title\":\"Causes of Death of all Roman Emporer\",\n",
    "         \n",
    "        \"annotations\": [\n",
    "            { \"font\": { \"size\": 20},\n",
    "              \"showarrow\": False,\n",
    "                \"text\":\"\",\n",
    "                \"x\": 0.20,\n",
    "                \"y\": 1\n",
    "            \n",
    "             \n",
    "            },\n",
    "        ]\n",
    "    }\n",
    "}\n",
    "iplot(fig)"
   ]
  },
  {
   "cell_type": "markdown",
   "id": "60469038",
   "metadata": {},
   "source": [
    "# Question 10\n",
    "Create a scatter plot showing the relationship between the total revenue earned by\n",
    "arcades and the number of Computer Science PhDs awarded in the U.S. between\n",
    "2000 and 2009.\n",
    "Don't forget to label your axes!\n",
    "Color each dot according to its year."
   ]
  },
  {
   "cell_type": "code",
   "execution_count": 208,
   "id": "e62b82e1",
   "metadata": {},
   "outputs": [
    {
     "data": {
      "text/html": [
       "<div>\n",
       "<style scoped>\n",
       "    .dataframe tbody tr th:only-of-type {\n",
       "        vertical-align: middle;\n",
       "    }\n",
       "\n",
       "    .dataframe tbody tr th {\n",
       "        vertical-align: top;\n",
       "    }\n",
       "\n",
       "    .dataframe thead th {\n",
       "        text-align: right;\n",
       "    }\n",
       "</style>\n",
       "<table border=\"1\" class=\"dataframe\">\n",
       "  <thead>\n",
       "    <tr style=\"text-align: right;\">\n",
       "      <th></th>\n",
       "      <th>Year</th>\n",
       "      <th>Total Arcade Revenue (billions)</th>\n",
       "      <th>Computer Science Doctorates Awarded (US)</th>\n",
       "    </tr>\n",
       "  </thead>\n",
       "  <tbody>\n",
       "    <tr>\n",
       "      <th>0</th>\n",
       "      <td>2000</td>\n",
       "      <td>1.196</td>\n",
       "      <td>861</td>\n",
       "    </tr>\n",
       "    <tr>\n",
       "      <th>1</th>\n",
       "      <td>2001</td>\n",
       "      <td>1.176</td>\n",
       "      <td>830</td>\n",
       "    </tr>\n",
       "    <tr>\n",
       "      <th>2</th>\n",
       "      <td>2002</td>\n",
       "      <td>1.269</td>\n",
       "      <td>809</td>\n",
       "    </tr>\n",
       "    <tr>\n",
       "      <th>3</th>\n",
       "      <td>2003</td>\n",
       "      <td>1.240</td>\n",
       "      <td>867</td>\n",
       "    </tr>\n",
       "    <tr>\n",
       "      <th>4</th>\n",
       "      <td>2004</td>\n",
       "      <td>1.307</td>\n",
       "      <td>948</td>\n",
       "    </tr>\n",
       "    <tr>\n",
       "      <th>5</th>\n",
       "      <td>2005</td>\n",
       "      <td>1.435</td>\n",
       "      <td>1129</td>\n",
       "    </tr>\n",
       "    <tr>\n",
       "      <th>6</th>\n",
       "      <td>2006</td>\n",
       "      <td>1.601</td>\n",
       "      <td>1453</td>\n",
       "    </tr>\n",
       "    <tr>\n",
       "      <th>7</th>\n",
       "      <td>2007</td>\n",
       "      <td>1.654</td>\n",
       "      <td>1656</td>\n",
       "    </tr>\n",
       "    <tr>\n",
       "      <th>8</th>\n",
       "      <td>2008</td>\n",
       "      <td>1.803</td>\n",
       "      <td>1787</td>\n",
       "    </tr>\n",
       "    <tr>\n",
       "      <th>9</th>\n",
       "      <td>2009</td>\n",
       "      <td>1.734</td>\n",
       "      <td>1611</td>\n",
       "    </tr>\n",
       "  </tbody>\n",
       "</table>\n",
       "</div>"
      ],
      "text/plain": [
       "   Year  Total Arcade Revenue (billions)  \\\n",
       "0  2000                            1.196   \n",
       "1  2001                            1.176   \n",
       "2  2002                            1.269   \n",
       "3  2003                            1.240   \n",
       "4  2004                            1.307   \n",
       "5  2005                            1.435   \n",
       "6  2006                            1.601   \n",
       "7  2007                            1.654   \n",
       "8  2008                            1.803   \n",
       "9  2009                            1.734   \n",
       "\n",
       "   Computer Science Doctorates Awarded (US)  \n",
       "0                                       861  \n",
       "1                                       830  \n",
       "2                                       809  \n",
       "3                                       867  \n",
       "4                                       948  \n",
       "5                                      1129  \n",
       "6                                      1453  \n",
       "7                                      1656  \n",
       "8                                      1787  \n",
       "9                                      1611  "
      ]
     },
     "execution_count": 208,
     "metadata": {},
     "output_type": "execute_result"
    }
   ],
   "source": [
    "import pandas as pd\n",
    "import seaborn as sns\n",
    "\n",
    "total_revenue = pd.read_csv(\"arcade-revenue-vs-cs-doctorates.csv\")\n",
    "total_revenue"
   ]
  },
  {
   "cell_type": "code",
   "execution_count": 209,
   "id": "0172efe0",
   "metadata": {},
   "outputs": [
    {
     "data": {
      "text/plain": [
       "<AxesSubplot:xlabel='Total Arcade Revenue (billions)', ylabel='Computer Science Doctorates Awarded (US)'>"
      ]
     },
     "execution_count": 209,
     "metadata": {},
     "output_type": "execute_result"
    },
    {
     "data": {
      "image/png": "[encoded data removed]",
      "text/plain": [
       "<Figure size 432x288 with 1 Axes>"
      ]
     },
     "metadata": {
      "needs_background": "light"
     },
     "output_type": "display_data"
    }
   ],
   "source": [
    "sns.scatterplot(x='Total Arcade Revenue (billions)', y='Computer Science Doctorates Awarded (US)', hue='Year', \n",
    "                data=total_revenue)"
   ]
  },
  {
   "cell_type": "code",
   "execution_count": null,
   "id": "71208e99",
   "metadata": {},
   "outputs": [],
   "source": []
  }
 ],
 "metadata": {
  "kernelspec": {
   "display_name": "Python 3 (ipykernel)",
   "language": "python",
   "name": "python3"
  },
  "language_info": {
   "codemirror_mode": {
    "name": "ipython",
    "version": 3
   },
   "file_extension": ".py",
   "mimetype": "text/x-python",
   "name": "python",
   "nbconvert_exporter": "python",
   "pygments_lexer": "ipython3",
   "version": "3.9.7"
  }
 },
 "nbformat": 4,
 "nbformat_minor": 5
}
